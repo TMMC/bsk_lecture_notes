{
 "cells": [
  {
   "cell_type": "markdown",
   "metadata": {},
   "source": [
    "# Bezpieczeństwo Systemów Komputerowych\n",
    "\n",
    "## Ćwiczenia 9: Kryptowaluty\n",
    "\n",
    "### 7 maja 2018 roku"
   ]
  },
  {
   "cell_type": "markdown",
   "metadata": {},
   "source": [
    "# Informacje wstępne\n",
    "\n",
    "Dzisiejsze ćwiczenia są wzorowane na materiałach do [kursu o kryptowalutach prowadzonych na Uniwersytecie Stanforda](https://crypto.stanford.edu/cs251/). Będziemy rozważać [projekt 3](https://crypto.stanford.edu/cs251/proj/proj3.pdf), w którym będziemy analizować transakcje w początkowej fazie istnienia BitCoina.\n",
    "\n",
    "W czasie ćwiczeń będziemy analizować [dane z paczki](https://crypto.stanford.edu/cs251/proj/proj3.tar.gz), która również pochodzi ze strony wspomnianego kursu. Pełen opis zawartości paczki można znaleźć w podlinkowanym pliku pdf. Tutaj w skrócie. \n",
    "\n",
    "Paczka zawiera 3 pliki csv:\n",
    "- Plik `transactions.csv` zawiera dane, których kolumny są opisane następującymi nagłówkami:\n",
    "    - `id` - unikalne id transakcji\n",
    "    - `block_id` - id bloku, w którym znajduje się dana transakcja\n",
    "- Plik `outputs.csv` zawiera dane o wydawanych bitcoinach. Nagłówki kolumn:\n",
    "    - `id` - unikalne id rekordu\n",
    "    - `tx_id` - identyfikator transakcji, w której zaksięgowano operację\n",
    "    - `pk_id` - adres portfela, który jest odbiorcą płatności. Pole przyjmuje wartość `-1`, gdy użyto niestandardowego skryptu\n",
    "    - `value` - jak dużo _satoshi_ zostało wysłane\n",
    "- Plik `inputs.csv` zawiera dane o przychodzących bitcoinach. Nagłówki kolumn:\n",
    "    - `id` - unikalne id rekordu\n",
    "    - `tx_id` - identyfikator transakcji, w której zaksięgowano operację\n",
    "    - `sig_id` - adres portfela od którego otrzymano pieniądze. Pole przyjmuje wartość `0`, gdy jest to operacja _wykopania_ 5 000 000 000 _satoshi_ oraz `-1`, gdy użyto niestandardowego skryptu\n",
    "    - `output_id` - identyfikator rekordu z `outputs`, który mówi z którą wypłatą jest skojarzony ten przychód. To pole ma wrtość `-1`, gdy to jest operacja _wykopania_ 5 000 000 000 _satoshi_"
   ]
  },
  {
   "cell_type": "markdown",
   "metadata": {},
   "source": [
    "## Uwagi do zadania\n",
    "\n",
    "Jestem winny dodatkowych wyjaśnień odnośnie zadania.\n",
    "\n",
    "1. Transakcja może mieć wiele wyjść i wiele wejść. Obiekty `Input` dodają pieniądze do puli transakcji, a obiekty `Output` te pieniądze wybierają z puli transakcji. Każdy `Input`, który jest inputem wydobywczym dodaje do puli transakcji 5 000 000 000 _satoshi_, normalne obiekty `Input` zabierają kwotę (która jest opisna w powiązanym obiekcie `Output`) z adresu wskazywanego przez pole `sig_id`. Obiekty `Output` wyjmują pieniądze z puli transakcji i przelewają je adres wskazywany przez pole `pk_id`.\n",
    "2. Rzeczywiście jest 12 nieprawidłowych **bloków** - w niektórych blokach jest więcej niż jeden powód _bycia nieprawidłowym_. Usunięcie wszystkich nieprawidłowych bloków nie wymusza usunięcia niczego nadmiarowego."
   ]
  },
  {
   "cell_type": "markdown",
   "metadata": {},
   "source": [
    "# Zadanie 1\n",
    "\n",
    "Skonstruuj strukturę danych, w której będziemy przechowywać informację o blockchainie, w sposób wygodny do dalszej analizy."
   ]
  },
  {
   "cell_type": "markdown",
   "metadata": {},
   "source": [
    "# Zadanie 2\n",
    "\n",
    "Wykorzystując skonstruowaną strukturę danych znajdź wszystkie 12 błędnych transakcji. Dla każdej z nich uzasadnij, czemu transakcja jest nieprawidłowa."
   ]
  },
  {
   "cell_type": "markdown",
   "metadata": {},
   "source": [
    "# Zadanie 3\n",
    "\n",
    "Po usunięciu nieprawidłowych transakcji znajdź ten adres, który posiada największą kwotę."
   ]
  },
  {
   "cell_type": "markdown",
   "metadata": {},
   "source": [
    "# Praca domowa\n",
    "\n",
    "Jako pracę domową wyślij w paczce ZIP następujące rzeczy:\n",
    "- rozwiązanie zadania 2 w zwykłym pliku tekstowym o nazwie `zadanie2.txt` (numer transakcji i powód, dla którego transakcja jest nieprawidłowa)\n",
    "- rozwiązanie zadania 3 w zwykłym pliku tekstowym o nazwie `zadanie3.txt` (w jednej linijce powinien znaleźć się adres oraz kwota)\n",
    "- kod źródłowy programu, który został wykorzystany do znalezienia rozwiązań razem z plikiem `PRZECZYTAJ_MNIE.txt`, w którym znajdzie się instrukcja, w jaki sposób czytać i uruchamiać kod źródłowy.\n",
    "\n",
    "Nazwa paczki ZIP powinna zawierać informację o autorze rozwiązania, w przeciwnym wypadku rozwiązanie zostanie ocenione na 0 punktów.\n",
    "\n",
    "Zadanie zostanie zaliczone, jeżeli w rozwiązaniu będzie wymienione co najmniej 9 błędnych transakcji i jeżeli rozwiązanie zadania numer 3 będzie prawidłowe, dla blockchaina bez tych wymienionych trasakcji."
   ]
  }
 ],
 "metadata": {
  "kernelspec": {
   "display_name": "Python 3",
   "language": "python",
   "name": "python3"
  },
  "language_info": {
   "codemirror_mode": {
    "name": "ipython",
    "version": 3
   },
   "file_extension": ".py",
   "mimetype": "text/x-python",
   "name": "python",
   "nbconvert_exporter": "python",
   "pygments_lexer": "ipython3",
   "version": "3.6.5rc1"
  }
 },
 "nbformat": 4,
 "nbformat_minor": 2
}
