{
 "cells": [
  {
   "cell_type": "markdown",
   "metadata": {},
   "source": [
    "# Bezpieczeństwo Systemów Komputerowych\n",
    "\n",
    "## Ćwiczenia 1: Wprowadzenie do kryptografii\n",
    "\n",
    "### 26 i 28 lutego 2018 roku"
   ]
  },
  {
   "cell_type": "markdown",
   "metadata": {},
   "source": [
    "# Uruchomienie środowiska\n",
    "\n",
    "Ten krótki tutorial został stworzony na podstawie [tutoriala](https://docs.docker.com/get-started/) i kilka innych stron z internetu.\n",
    "\n",
    "W czasie ćwiczeń będziemy korzystać z przygotowanego przeze mnie kontenera dockera. Kontener został stworzony na podstawie poniższego pliku `Dockerfile`:\n",
    "\n",
    "```dockerfile\n",
    "# Wskazujemy, jaki obrazek jest obrazkiem bazowym\n",
    "FROM linuxmintd/mint19-amd64\n",
    "\n",
    "# Wskazujemy katalog, w którym jesteśmy na początku działania kontenera\n",
    "WORKDIR /bsk\n",
    "\n",
    "# Wskazujemy, co ma być przekopiowane z komputera do obrazka\n",
    "ADD . /bsk\n",
    "\n",
    "# Instaluję potrzebne biblioteki do pythona\n",
    "RUN apt-get install -y python3-pip\n",
    "RUN pip3 install -U setuptools\n",
    "RUN pip3 install -U jupyter\n",
    "RUN pip3 install -U RISE\n",
    "RUN pip3 install -U cryptography\n",
    "\n",
    "# Dodaję możliwość tworzenia pokazów slajdów do jupytera\n",
    "RUN jupyter-nbextension install rise --py --sys-prefix\n",
    "RUN jupyter-nbextension enable rise --py --sys-prefix\n",
    "\n",
    "# Dodaję port 8888 do portów widocznych na zewnątrz kontenera\n",
    "EXPOSE 8888\n",
    "\n",
    "# Wskazuję jakie polecenie ma zostać uuchomione po starcie kontenera\n",
    "CMD [\"jupyter\", \"notebook\", \"--allow-root\", \"--no-browser\", \"--NotebookApp.token=''\", \"--ip\", \"0.0.0.0\"]\n",
    "```\n",
    "\n",
    "Na podstawie takiego pliku `Dockerfile` możemy stworzyć obrazek o nazwie `first_image` następującym poleceniem:\n",
    "\n",
    "```bash\n",
    "$ docker build -t first_image .\n",
    "```\n",
    "\n",
    "To dodaje nowy obrazek do naszego zbioru obrazków. Możemy to sprawdzić poleceniem:\n",
    "```bash\n",
    "$ docker image ls\n",
    "```\n",
    "\n",
    "Teraz możemy utworzyć kontener na podstawie obrazu:\n",
    "```bash\n",
    "$ docker run -P first_image\n",
    "```\n",
    "\n",
    "To polecenie uruchamia kontener. Możemy sprawdzić, czy kontener działa:\n",
    "```bash\n",
    "$ docker ps\n",
    "```\n",
    "W wyniku dostajemy informacje o uruchomionych kontenerach:\n",
    "```bash\n",
    "CONTAINER ID        IMAGE               COMMAND                  CREATED             STATUS              PORTS                     NAMES\n",
    "6c24a7ffd1d8        first_image         \"jupyter notebook ...\"   7 minutes ago       Up 7 minutes        0.0.0.0:32768->8888/tcp   fervent_shaw\n",
    "```\n",
    "\n",
    "Teraz możemy sprawdzić, pod jakim adresem IP widoczny jest kontener:\n",
    "```bash\n",
    "$ docker inspect container_name_or_id | grep 'IPAddress'\n",
    "```\n",
    "\n",
    "Jak już to wiemy, to w przeglądarce odwiedzamy adres maszyny na porcie 8888 i mamy uruchomiony jupyter z materiałami z zajęć.\n",
    "\n",
    "Oczywiście mój obrazek jest dostępny w dużo prostszej formie. Docker pozwala na dzielenie się obrazkami. Wystarczy założyć konto [tutaj](https://cloud.docker.com). Następnie logujemy się w konsoli do naszego konta poleceniem:\n",
    "```bash\n",
    "$ docker login\n",
    "```\n",
    "\n",
    "Każdy obraz w repozytorium jest opisywany przez trzy parametry: `username`, `repository` i `tag`. Obraz o nazwie `first_image` najpierw nazywamy w formie akceptowalnej przez chmurę dockera:\n",
    "```bash\n",
    "$ docker tag first_image username/repository:tag\n",
    "```\n",
    "\n",
    "I teraz już możemy nasz obraz umieścić na serwerze:\n",
    "```bash\n",
    "$ docker push username/repository:tag\n",
    "```\n",
    "\n",
    "I teraz już każdy może uruchomić kontener na podstawie naszego obrazka używając polecenia:\n",
    "```bash\n",
    "$ docker run -P username/repository:tag\n",
    "```\n",
    "\n",
    "[Tutaj](https://cloud.docker.com/swarm/pawelbogdan/repository/registry-1.docker.io/pawelbogdan/bsk/general) jest repozytorium z obrazami, z których będziemy korzystać w trakcie zajęć. Żeby uruchomić mój obraz wystarczy użyć polecenia:\n",
    "```bash\n",
    "$ docker run -P pawelbogdan/bsk:lecture_1\n",
    "```"
   ]
  },
  {
   "cell_type": "markdown",
   "metadata": {},
   "source": [
    "# Ćwiczenia\n",
    "\n",
    "W wyniku pracy na ćwiczeniach i późniejszej ewentualnej pracy w domu, musisz uzupełnić plik `solution.py`, który jest dostępny na [repozytorium githuba]() jak również w kontenerze `pawelbogdan/bsk:lecture_1` w tym samym katalogu, w którym jest niniejszy notebook. Musisz ten plik uzupełnić, tak aby niniejszy notebook zadziałał poprawnie i żeby ewaluacja ostatniej komórki dała napis mówiący, że praca domowa jest zaliczona. Właściwy plik `solution.py` powinieneś umieścić na pegazie w odpowiedniej aktywności najpóźniej w dzień porzedzający następne ćwiczenia.\n",
    "\n",
    "Przykładowe rozwiązanie stworzone przez prowadzących zostanie umieszczone na repozytorium na githubie (i zostanie podlinkowane na pegazie) po terminie oddawania zadania."
   ]
  },
  {
   "cell_type": "markdown",
   "metadata": {},
   "source": [
    "## Zadanie 1\n",
    "\n",
    "Napisz funkcję, która będzie implementowała algorytm szyfrujący dla szyfru Cezara, tak aby poniższa komórka wypisała na standardowe wyjście napis `OK`."
   ]
  },
  {
   "cell_type": "code",
   "execution_count": null,
   "metadata": {},
   "outputs": [],
   "source": []
  },
  {
   "cell_type": "markdown",
   "metadata": {},
   "source": [
    "## Zadanie 2\n",
    "\n",
    "Napisz funkcję, która dokona siłowego ataku na szyfrogramy otrzymane za pomocą szyfru Cezara. Możesz założyć, że w pliku `dictionary.txt` jest słownik z prawidłowymi wyrazami. Poniższa komórka ma wypisać na standardowe wyjście napis `OK`."
   ]
  },
  {
   "cell_type": "code",
   "execution_count": null,
   "metadata": {},
   "outputs": [],
   "source": []
  },
  {
   "cell_type": "markdown",
   "metadata": {},
   "source": [
    "## Zadanie 3\n",
    "\n",
    "Napisz funkcję"
   ]
  },
  {
   "cell_type": "code",
   "execution_count": null,
   "metadata": {},
   "outputs": [],
   "source": []
  },
  {
   "cell_type": "markdown",
   "metadata": {},
   "source": [
    "## Zadanie 4"
   ]
  },
  {
   "cell_type": "code",
   "execution_count": null,
   "metadata": {},
   "outputs": [],
   "source": []
  },
  {
   "cell_type": "markdown",
   "metadata": {},
   "source": [
    "## Zadanie 5"
   ]
  },
  {
   "cell_type": "code",
   "execution_count": null,
   "metadata": {},
   "outputs": [],
   "source": []
  },
  {
   "cell_type": "markdown",
   "metadata": {},
   "source": [
    "## Zadanie  6"
   ]
  },
  {
   "cell_type": "code",
   "execution_count": null,
   "metadata": {},
   "outputs": [],
   "source": []
  }
 ],
 "metadata": {
  "kernelspec": {
   "display_name": "Python 3",
   "language": "python",
   "name": "python3"
  },
  "language_info": {
   "codemirror_mode": {
    "name": "ipython",
    "version": 3
   },
   "file_extension": ".py",
   "mimetype": "text/x-python",
   "name": "python",
   "nbconvert_exporter": "python",
   "pygments_lexer": "ipython3",
   "version": "3.5.3"
  }
 },
 "nbformat": 4,
 "nbformat_minor": 2
}
