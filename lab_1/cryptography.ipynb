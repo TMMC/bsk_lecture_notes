{
 "cells": [
  {
   "cell_type": "markdown",
   "metadata": {},
   "source": [
    "# Bezpieczeństwo Systemów Komputerowych\n",
    "\n",
    "## Ćwiczenia 1: Wprowadzenie do kryptografii\n",
    "\n",
    "### 26 i 28 lutego 2018 roku"
   ]
  },
  {
   "cell_type": "markdown",
   "metadata": {},
   "source": [
    "# Uruchomienie środowiska\n",
    "\n",
    "Ten krótki tutorial został stworzony na podstawie [tutoriala](https://docs.docker.com/get-started/) i kilka innych stron z internetu.\n",
    "\n",
    "W czasie ćwiczeń będziemy korzystać z przygotowanego przeze mnie kontenera dockera. Kontener został stworzony na podstawie poniższego pliku `Dockerfile`:\n",
    "\n",
    "```dockerfile\n",
    "# Wskazujemy, jaki obrazek jest obrazkiem bazowym\n",
    "FROM linuxmintd/mint19-amd64\n",
    "\n",
    "# Wskazujemy katalog, w którym jesteśmy na początku działania kontenera\n",
    "WORKDIR /bsk\n",
    "\n",
    "# Wskazujemy, co ma być przekopiowane z komputera do obrazka\n",
    "ADD . /bsk\n",
    "\n",
    "# Instaluję potrzebne biblioteki do pythona\n",
    "RUN apt-get install -y python3-pip\n",
    "RUN pip3 install -U setuptools\n",
    "RUN pip3 install -U jupyter\n",
    "RUN pip3 install -U RISE\n",
    "RUN pip3 install -U cryptography\n",
    "\n",
    "# Dodaję możliwość tworzenia pokazów slajdów do jupytera\n",
    "RUN jupyter-nbextension install rise --py --sys-prefix\n",
    "RUN jupyter-nbextension enable rise --py --sys-prefix\n",
    "\n",
    "# Dodaję port 8888 do portów widocznych na zewnątrz kontenera\n",
    "EXPOSE 8888\n",
    "\n",
    "# Wskazuję jakie polecenie ma zostać uuchomione po starcie kontenera\n",
    "CMD [\"jupyter\", \"notebook\", \"--allow-root\", \"--no-browser\", \"--NotebookApp.token=''\", \"--ip\", \"0.0.0.0\"]\n",
    "```\n",
    "\n",
    "Na podstawie takiego pliku `Dockerfile` możemy stworzyć obrazek o nazwie `first_image` następującym poleceniem:\n",
    "\n",
    "```bash\n",
    "$ docker build -t first_image .\n",
    "```\n",
    "\n",
    "To dodaje nowy obrazek do naszego zbioru obrazków. Możemy to sprawdzić poleceniem:\n",
    "```bash\n",
    "$ docker image ls\n",
    "```\n",
    "\n",
    "Teraz możemy utworzyć kontener na podstawie obrazu:\n",
    "```bash\n",
    "$ docker run -P first_image\n",
    "```\n",
    "\n",
    "To polecenie uruchamia kontener. Możemy sprawdzić, czy kontener działa:\n",
    "```bash\n",
    "$ docker ps\n",
    "```\n",
    "W wyniku dostajemy informacje o uruchomionych kontenerach:\n",
    "```bash\n",
    "CONTAINER ID        IMAGE               COMMAND                  CREATED             STATUS              PORTS                     NAMES\n",
    "6c24a7ffd1d8        first_image         \"jupyter notebook ...\"   7 minutes ago       Up 7 minutes        0.0.0.0:32768->8888/tcp   fervent_shaw\n",
    "```\n",
    "\n",
    "Teraz możemy sprawdzić, pod jakim adresem IP widoczny jest kontener:\n",
    "```bash\n",
    "$ docker inspect container_name_or_id | grep 'IPAddress'\n",
    "```\n",
    "\n",
    "Jak już to wiemy, to w przeglądarce odwiedzamy adres maszyny na porcie 8888 i mamy uruchomiony jupyter z materiałami z zajęć.\n",
    "\n",
    "Oczywiście mój obrazek jest dostępny w dużo prostszej formie. Docker pozwala na dzielenie się obrazkami. Wystarczy założyć konto [tutaj](https://cloud.docker.com). Następnie logujemy się w konsoli do naszego konta poleceniem:\n",
    "```bash\n",
    "$ docker login\n",
    "```\n",
    "\n",
    "Każdy obraz w repozytorium jest opisywany przez trzy parametry: `username`, `repository` i `tag`. Obraz o nazwie `first_image` najpierw nazywamy w formie akceptowalnej przez chmurę dockera:\n",
    "```bash\n",
    "$ docker tag first_image username/repository:tag\n",
    "```\n",
    "\n",
    "I teraz już możemy nasz obraz umieścić na serwerze:\n",
    "```bash\n",
    "$ docker push username/repository:tag\n",
    "```\n",
    "\n",
    "I teraz już każdy może uruchomić kontener na podstawie naszego obrazka używając polecenia:\n",
    "```bash\n",
    "$ docker run -P username/repository:tag\n",
    "```\n",
    "\n",
    "[Tutaj](https://cloud.docker.com/swarm/pawelbogdan/repository/registry-1.docker.io/pawelbogdan/bsk/general) jest repozytorium z obrazami, z których będziemy korzystać w trakcie zajęć. Żeby uruchomić mój obraz wystarczy użyć polecenia:\n",
    "```bash\n",
    "$ docker run -P pawelbogdan/bsk:lecture_1\n",
    "```"
   ]
  },
  {
   "cell_type": "markdown",
   "metadata": {},
   "source": [
    "# Ćwiczenia\n",
    "\n",
    "W wyniku pracy na ćwiczeniach i późniejszej ewentualnej pracy w domu, musisz uzupełnić plik `solution.py`, który jest dostępny na [repozytorium githuba](https://github.com/PawelBogdan/bsk_lecture_notes) jak również w kontenerze `pawelbogdan/bsk:lecture_1` w tym samym katalogu, w którym jest niniejszy notebook. Musisz ten plik uzupełnić, tak aby niniejszy notebook zadziałał poprawnie i żeby ewaluacja ostatniej komórki dała napis zawierający Twoje imię i nazwisko oraz napis OK. Właściwy plik `solution.py` powinieneś umieścić na pegazie w odpowiedniej aktywności najpóźniej w dzień porzedzający następne ćwiczenia.\n",
    "\n",
    "Przykładowe rozwiązanie stworzone przez prowadzących zostanie umieszczone na repozytorium na githubie (i zostanie podlinkowane na pegazie) po terminie oddawania zadania."
   ]
  },
  {
   "cell_type": "code",
   "execution_count": 1,
   "metadata": {},
   "outputs": [],
   "source": [
    "import solution\n",
    "author = solution.__AUTHOR__\n",
    "score = 0"
   ]
  },
  {
   "cell_type": "markdown",
   "metadata": {},
   "source": [
    "## Zadanie 1\n",
    "\n",
    "Napisz funkcję, która będzie implementowała algorytm szyfrujący dla szyfru Cezara, tak aby poniższa komórka wypisała na standardowe wyjście napis `OK`."
   ]
  },
  {
   "cell_type": "code",
   "execution_count": 2,
   "metadata": {},
   "outputs": [
    {
     "name": "stdout",
     "output_type": "stream",
     "text": [
      "OK\n"
     ]
    }
   ],
   "source": [
    "import solution\n",
    "import string\n",
    "from solution import cesar_encrypt\n",
    "\n",
    "text1 = cesar_encrypt(string.ascii_lowercase, 'Alea iacta est', 4)\n",
    "text2 = cesar_encrypt(string.ascii_lowercase, 'Pecunia non olet ', 8)\n",
    "text3 = cesar_encrypt(string.ascii_lowercase, 'Homo sum, humani nil a me alienum puto', 13)\n",
    "\n",
    "if text1 == 'EPIE MEGXE IWX' and text2 == 'XMKCVQI VWV WTMB ' and text3 == 'UBZB FHZ, UHZNAV AVY N ZR NYVRAHZ CHGB':\n",
    "    score += 1\n",
    "    print(\"OK\")\n",
    "else:\n",
    "    print(\"ERROR\")"
   ]
  },
  {
   "cell_type": "markdown",
   "metadata": {},
   "source": [
    "## Zadanie 2\n",
    "\n",
    "Napisz funkcję, która dokona siłowego ataku na szyfrogramy otrzymane za pomocą szyfru Cezara. Możesz założyć, że w pliku `dictionary.txt` jest słownik z prawidłowymi wyrazami (słownik został utworzony na podstawie [strony na Wikipedii z cytatami](https://pl.wikiquote.org/wiki/Sentencje_i_zwroty_%C5%82aci%C5%84skie)). Poniższa komórka ma wypisać na standardowe wyjście napis `OK`."
   ]
  },
  {
   "cell_type": "code",
   "execution_count": 3,
   "metadata": {},
   "outputs": [
    {
     "name": "stdout",
     "output_type": "stream",
     "text": [
      "OK\n"
     ]
    }
   ],
   "source": [
    "import solution\n",
    "import string\n",
    "from solution import break_cesar\n",
    "\n",
    "dictionary = open(\"dictionary.txt\").read()\n",
    "\n",
    "text1 = break_cesar(string.ascii_lowercase, 'ZDRMZDRM UJCRWN MRLCDV BRC, JUCDV ERMNCDA', dictionary)\n",
    "text2 = break_cesar(string.ascii_lowercase, 'ZERMXEW ZERMXEXYQ IX SQRME ZERMXEW', dictionary)\n",
    "\n",
    "if text1 == 'Quidquid Latine dictum sit, altum videtur'.upper() and text2 == 'Vanitas vanitatum et omnia vanitas'.upper():\n",
    "    score += 1\n",
    "    print(\"OK\")\n",
    "else:\n",
    "    print(\"ERROR\")"
   ]
  },
  {
   "cell_type": "markdown",
   "metadata": {},
   "source": [
    "## Zadanie 3\n",
    "\n",
    "Napisz funkcję, która dokona siłowego ataku na funkcję hashującą `sha256`. Hasze są tworzone ze słów w słowniku `dictionary.txt` (pojedynczych słów, albo katenacji dwóch słów)."
   ]
  },
  {
   "cell_type": "code",
   "execution_count": 4,
   "metadata": {},
   "outputs": [
    {
     "name": "stdout",
     "output_type": "stream",
     "text": [
      "OK\n"
     ]
    }
   ],
   "source": [
    "import solution\n",
    "from solution import break_hash\n",
    "from cryptography.hazmat.backends import default_backend\n",
    "from cryptography.hazmat.primitives import hashes\n",
    "\n",
    "dictionary = [w.strip() for w in open(\"dictionary.txt\").readlines()]\n",
    "\n",
    "text1 = break_hash('270cfcbbf821ce603127ad48e7b7b14f1d1b5a9595644e8c7e4a120db610367f', dictionary)\n",
    "text2 = break_hash('3597d3f6b3350cae1aab87ccaeda248159e66a9652f5cb366b317bcaa7531862', dictionary)\n",
    "\n",
    "if text1 == 'diriguntur' and text2 == 'adolescensprincipibus':\n",
    "    print(\"OK\")\n",
    "    score += 1\n",
    "else:\n",
    "    print(\"ERROR\")"
   ]
  },
  {
   "cell_type": "markdown",
   "metadata": {},
   "source": [
    "## Zadanie 4\n",
    "\n",
    "Napisz funkcję, która zaszyfruje `src_file` do pliku `dest_file` używając algorytmu `AES` w wesji ze 256 bitowym kluczem w trybie `CBC`. Pierwszym argumentem jest klucz zapisany jako liczba szesnastkowa, a drugi, argumentem jest wektor inicjalizacyjny, również zapisay jako liczba szesnastkowa."
   ]
  },
  {
   "cell_type": "code",
   "execution_count": 5,
   "metadata": {},
   "outputs": [
    {
     "name": "stdout",
     "output_type": "stream",
     "text": [
      "OK\n"
     ]
    }
   ],
   "source": [
    "import solution\n",
    "from solution import aes_encrypt\n",
    "\n",
    "aes_encrypt('237ededd4648dedc36bf17880a4cea06b8947b1e11b466a266ca351d9e3e761b', '028a47742499613772b714fedf0b8200', 'dictionary.txt', 'actual_encrypted_dictionary_1.txt')\n",
    "\n",
    "c1 = open('actual_encrypted_dictionary_1.txt', 'rb').read()\n",
    "c2 = open('expected_encrypted_dictionary.txt', 'rb').read()\n",
    "if c1 == c2:\n",
    "    print(\"OK\")\n",
    "    score += 1\n",
    "else:\n",
    "    print(\"ERROR\")"
   ]
  },
  {
   "cell_type": "markdown",
   "metadata": {},
   "source": [
    "## Zadanie 5\n",
    "\n",
    "Napisz funkcję, która dla zadanego klucza (zapisanego w postaci szesnastkowej) i wektora inicjalizacyjnego (również w postaci szesnastkowej) zwróci polecenie do wykonania w terminalu linuksa, które zaszyfruje podany plik za pomocą algorytmu `AES` w wersji z 256 kluczem w trybie `CBC`."
   ]
  },
  {
   "cell_type": "code",
   "execution_count": 6,
   "metadata": {},
   "outputs": [
    {
     "name": "stdout",
     "output_type": "stream",
     "text": [
      "OK\n"
     ]
    }
   ],
   "source": [
    "import os\n",
    "import solution\n",
    "from solution import aes_encryption_command\n",
    "\n",
    "os.system(aes_encryption_command('237ededd4648dedc36bf17880a4cea06b8947b1e11b466a266ca351d9e3e761b', '028a47742499613772b714fedf0b8200', 'dictionary.txt', 'actual_encrypted_dictionary_2.txt'))\n",
    "\n",
    "c1 = open('actual_encrypted_dictionary_2.txt', 'rb').read()\n",
    "c2 = open('expected_encrypted_dictionary.txt', 'rb').read()\n",
    "if c1 == c2:\n",
    "    print(\"OK\")\n",
    "    score += 1\n",
    "else:\n",
    "    print(\"ERROR\")"
   ]
  },
  {
   "cell_type": "markdown",
   "metadata": {},
   "source": [
    "## Zadanie  6\n",
    "\n",
    "Napisz funkcję, która w dowolny sposób będzie będzie odszyfrowywać zadany plik do zadanej lokalizacji, używając algorytmu `AES` z użyciem klucza o długości 256 bitów w trybie `ECB`."
   ]
  },
  {
   "cell_type": "code",
   "execution_count": 7,
   "metadata": {},
   "outputs": [
    {
     "name": "stdout",
     "output_type": "stream",
     "text": [
      "OK\n"
     ]
    }
   ],
   "source": [
    "import os\n",
    "import solution\n",
    "from solution import aes_decrypt\n",
    "\n",
    "aes_decrypt('94915b75183442d8007e4ddaef2758843631d257973019a2cab25d2fe0bd9029', 'ciphertext', 'image2.jpg')\n",
    "\n",
    "c1 = open('image.jpg', 'rb').read()\n",
    "c2 = open('image2.jpg', 'rb').read()\n",
    "if c1 == c2:\n",
    "    print(\"OK\")\n",
    "    score += 1\n",
    "else:\n",
    "    print(\"ERROR\")"
   ]
  },
  {
   "cell_type": "markdown",
   "metadata": {},
   "source": [
    "## Zadanie 7\n",
    "\n",
    "Napisz funkcję, która z pliku w formacie `PEM` przeczyta parametry (oznaczenia zgodne z wykładem): `e`, `d`, `n`, `p` i `q` i zwróci te wartości w postaci pythonowego słownika."
   ]
  },
  {
   "cell_type": "code",
   "execution_count": 8,
   "metadata": {},
   "outputs": [
    {
     "name": "stdout",
     "output_type": "stream",
     "text": [
      "OK\n"
     ]
    }
   ],
   "source": [
    "import solution\n",
    "from solution import read_rsa_key\n",
    "\n",
    "d = read_rsa_key('rsa_1')\n",
    "\n",
    "success = True\n",
    "if 'd' not in d:\n",
    "    success = False\n",
    "else:\n",
    "    if d['d'] != 21219665720054157727318687545332076336527575590317188169613582542591601488720594470154548346178093360880641751705386676280973824776556229346689394894145138328886745707393274538136723976667853726076321608043780570920633476227079914592521312183080385260167392449296815988073882056186889690438609647575167983041:\n",
    "        success = False\n",
    "\n",
    "if 'p' not in d:\n",
    "    success = False\n",
    "else:\n",
    "    if d['p'] != 13087821209700362712256193284792469791333965701720243788712585384415372249158792890505385423782833540101439893758795359556658486545056986049022320280087729:\n",
    "        success = False\n",
    "        \n",
    "if 'q' not in d:\n",
    "    success = False\n",
    "else:\n",
    "    if d['q'] != 10374638441229324415572742446998567295941482586822499921212611731668932807507552922672420918569994070568980429649505866341445252434870072012094330947891467:\n",
    "        success = False\n",
    "        \n",
    "if 'n' not in d:\n",
    "    success = False\n",
    "else:\n",
    "    if d['n'] != 135781413034093862036251203442533517561707451812401636503804467788891406636036086681362881757808407009571823714266347061455397535088963640177112172737511244968049443296942842865634274971947176090705454059865878181048078409192201400055056415117662330253464058327916205548872647597619099985862509512778330508443:\n",
    "        success = False\n",
    "        \n",
    "if 'e' not in d:\n",
    "    success = False\n",
    "else:\n",
    "    if d['e'] != 65537:\n",
    "        success = False\n",
    "\n",
    "if success:\n",
    "    print(\"OK\")\n",
    "    score += 1\n",
    "else:\n",
    "    print(\"ERROR\")"
   ]
  },
  {
   "cell_type": "markdown",
   "metadata": {},
   "source": [
    "## Zadanie 8\n",
    "\n",
    "Napisz funkcję, która wykorzystując klucz w formacie `PEM` podpisze wskazany plik. Skorzystaj z pakietu `cryptography`. W czasie składania podpisu użyj funkcji `SHA256`."
   ]
  },
  {
   "cell_type": "code",
   "execution_count": 9,
   "metadata": {},
   "outputs": [
    {
     "name": "stdout",
     "output_type": "stream",
     "text": [
      "OK\n"
     ]
    }
   ],
   "source": [
    "import solution\n",
    "from solution import sign_file\n",
    "\n",
    "sign_file('image.jpg', 'rsa_1', 'signature_1')\n",
    "\n",
    "c1 = open('signature_1', 'rb').read()\n",
    "c2 = open('expected_signature', 'rb').read()\n",
    "if c1 == c2:\n",
    "    print(\"OK\")\n",
    "    score += 1\n",
    "else:\n",
    "    print(\"ERROR\")"
   ]
  },
  {
   "cell_type": "markdown",
   "metadata": {},
   "source": [
    "## Zadanie 9\n",
    "\n",
    "Napisz funkcję, która zwróci polecenie do wykonania w linii poleceń systemu Linux, wykorzystując klucz w formacie `PEM` podpisze wskazany plik. W czasie składania podpisu użyj funkcji `SHA256`."
   ]
  },
  {
   "cell_type": "code",
   "execution_count": 10,
   "metadata": {},
   "outputs": [
    {
     "name": "stdout",
     "output_type": "stream",
     "text": [
      "OK\n"
     ]
    }
   ],
   "source": [
    "import os\n",
    "import solution\n",
    "from solution import sign_file_command\n",
    "\n",
    "os.system(sign_file_command('image.jpg', 'rsa_1', 'signature_2'))\n",
    "\n",
    "c1 = open('signature_2', 'rb').read()\n",
    "c2 = open('expected_signature', 'rb').read()\n",
    "if c1 == c2:\n",
    "    print(\"OK\")\n",
    "    score += 1\n",
    "else:\n",
    "    print(\"ERROR\")"
   ]
  },
  {
   "cell_type": "markdown",
   "metadata": {},
   "source": [
    "## Podsumowanie"
   ]
  },
  {
   "cell_type": "code",
   "execution_count": 11,
   "metadata": {},
   "outputs": [
    {
     "name": "stdout",
     "output_type": "stream",
     "text": [
      "Paweł Bogdan OK\n"
     ]
    }
   ],
   "source": [
    "if score == 9:\n",
    "    print(\"{0} OK\".format(author))\n",
    "else:\n",
    "    print(\"{0} BAD\".format(author))"
   ]
  }
 ],
 "metadata": {
  "kernelspec": {
   "display_name": "Python 3",
   "language": "python",
   "name": "python3"
  },
  "language_info": {
   "codemirror_mode": {
    "name": "ipython",
    "version": 3
   },
   "file_extension": ".py",
   "mimetype": "text/x-python",
   "name": "python",
   "nbconvert_exporter": "python",
   "pygments_lexer": "ipython3",
   "version": "3.5.3"
  }
 },
 "nbformat": 4,
 "nbformat_minor": 2
}
