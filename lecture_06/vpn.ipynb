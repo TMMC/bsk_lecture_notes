{
 "cells": [
  {
   "cell_type": "markdown",
   "metadata": {
    "slideshow": {
     "slide_type": "slide"
    }
   },
   "source": [
    "# Virtual Private Networks\n",
    "## Paweł Bogdan\n",
    "## 9 kwietnia 2018\n",
    "### Bezpieczeństwo Systemów komputerowych"
   ]
  },
  {
   "cell_type": "markdown",
   "metadata": {
    "slideshow": {
     "slide_type": "slide"
    }
   },
   "source": [
    "# Technologie używane do kostrukcji\n",
    "\n",
    "(za [angielskojęzyczną wikipedią](https://en.wikipedia.org/wiki/Virtual_private_network))\n",
    "\n",
    "- IPsec\n",
    "- SSL/TLS\n",
    "- Datagram Transport Layer Security\n",
    "- Microsoft Point-to-Point Encryption\n",
    "- Secure Socket Tunneling Protocol\n",
    "- SSH"
   ]
  },
  {
   "cell_type": "markdown",
   "metadata": {
    "slideshow": {
     "slide_type": "slide"
    }
   },
   "source": [
    "# Problem\n",
    "\n",
    "### Sieć oparta na IP\n",
    "\n",
    "### Blokada pewnych adresów\n",
    "\n",
    "### Szyfrowania ruchu wychodzącego\n",
    "\n",
    "### Wymóg uwierzytelniania ruchu przychodzącego"
   ]
  },
  {
   "cell_type": "markdown",
   "metadata": {
    "slideshow": {
     "slide_type": "slide"
    }
   },
   "source": [
    "# Bezpieczeństwo na poziomie IP\n",
    "\n",
    "### Uwierzytelnienie nadawcy i treści\n",
    "\n",
    "### Poufność komunikacji\n",
    "\n",
    "### Wymiana kluczy"
   ]
  },
  {
   "cell_type": "markdown",
   "metadata": {
    "slideshow": {
     "slide_type": "slide"
    }
   },
   "source": [
    "# IPSec\n",
    "\n",
    "### Rok 1994\n",
    "\n",
    "### Firma _Internet Architecture Board_ (IAB)\n",
    "\n",
    "### [RFC1636](https://www.rfc-editor.org/rfc/rfc1636.txt) _Security in the Internet Architecture_"
   ]
  },
  {
   "cell_type": "markdown",
   "metadata": {
    "slideshow": {
     "slide_type": "slide"
    }
   },
   "source": [
    "# Zastosowania IPsec\n",
    "\n",
    "- **Połączenie oddziałów firmy**\n",
    "- **Zdalny dostęp do zasobów firmy spoza sieci wewnętrznej**"
   ]
  },
  {
   "cell_type": "markdown",
   "metadata": {
    "slideshow": {
     "slide_type": "slide"
    }
   },
   "source": [
    "# WAŻNE!\n",
    "\n",
    "### IPsec zapewnia szyfrowanie ruchu na poziomie warstwy IP\n",
    "\n",
    "### Co to oznacza?"
   ]
  },
  {
   "cell_type": "markdown",
   "metadata": {
    "slideshow": {
     "slide_type": "slide"
    }
   },
   "source": [
    "# Specyfikacja IPSec obejmuje \n",
    "\n",
    "\n",
    "### uwierzytelnianie\n",
    "\n",
    "### zepewnienie integralności\n",
    "\n",
    "### szyfrowanie\n",
    "\n",
    "### wymiana kluczy i zarządzanie nimi"
   ]
  },
  {
   "cell_type": "markdown",
   "metadata": {
    "slideshow": {
     "slide_type": "slide"
    }
   },
   "source": [
    "# Dziesiątki dokumentów...\n",
    "\n",
    "- [RFC 4301](https://tools.ietf.org/html/rfc4301) _Security Architecture for the Internet Protocol_\n",
    "- [RFC 4302](https://tools.ietf.org/html/rfc4302) _IP Authentication Header_\n",
    "- [RFC 4303](https://tools.ietf.org/html/rfc4303) _IP Encapsulating Security Payload (ESP)_\n",
    "- [RFC 4306](https://tools.ietf.org/html/rfc4306) _Internet Key Exchange (IKEv2) Protocol_"
   ]
  },
  {
   "cell_type": "markdown",
   "metadata": {
    "slideshow": {
     "slide_type": "slide"
    }
   },
   "source": [
    "# Usługi IPsec (jak w RFC 4301)\n",
    "\n",
    "- _access control_\n",
    "- _connectionless integrity_\n",
    "- _data origin authentication_\n",
    "- _detection and rejection of replays_\n",
    "- _confidentiality (via encryption)_\n",
    "- _limited traffic flow confidentiality_"
   ]
  },
  {
   "cell_type": "markdown",
   "metadata": {
    "slideshow": {
     "slide_type": "slide"
    }
   },
   "source": [
    "# Tryby pracy\n",
    "\n",
    "### Tryb transportowy\n",
    "\n",
    "### Tryb tunelowy"
   ]
  },
  {
   "cell_type": "markdown",
   "metadata": {
    "slideshow": {
     "slide_type": "subslide"
    }
   },
   "source": [
    "## Tryb transportowy\n",
    "\n",
    "- **Cel:** bezpieczne połączenie dwóch konkretnych hostów\n",
    "- **Idea:** nagłówek IP pozostaje niezmieniony, szyfrowana (i uwierzytelniana) reszta pakietu"
   ]
  },
  {
   "cell_type": "markdown",
   "metadata": {
    "slideshow": {
     "slide_type": "subslide"
    }
   },
   "source": [
    "## Tryb tunelowy\n",
    "\n",
    "- **Cel:** bezpieczne połączenie dwóch sieci\n",
    "- **Idea:** Cały pakiet jest szyfrowany (i uwierzytelniany) i umieszczany jako treść zupełnie nowego pakietu"
   ]
  },
  {
   "cell_type": "markdown",
   "metadata": {
    "slideshow": {
     "slide_type": "slide"
    }
   },
   "source": [
    "# Polityka bezpieczeństwa IPsec\n",
    "\n",
    "### _Security Association Database_ (SAD)\n",
    "\n",
    "### _Security Policy Database_ (SPD)"
   ]
  },
  {
   "cell_type": "markdown",
   "metadata": {
    "slideshow": {
     "slide_type": "subslide"
    }
   },
   "source": [
    "# _Security Association_ (SA)\n",
    "\n",
    "- Połączenie dwóch hostów\n",
    "    - logiczne\n",
    "    - jednokierunkowe\n",
    "- Identyfikowane przez:\n",
    "    - _Security Parameters Index_ (SPI)\n",
    "    - Adres IP celu\n",
    "    - Identyfikator protokołu bezpieczeństwa (AH vs. ESP)"
   ]
  },
  {
   "cell_type": "markdown",
   "metadata": {
    "slideshow": {
     "slide_type": "subslide"
    }
   },
   "source": [
    "# _Security Association Database_ (SAD)\n",
    "\n",
    "- _Security Parameter Index_\n",
    "- _Sequence Number Counter_\n",
    "- _Sequence Counter Overflow_\n",
    "- _Anti-Replay Windwo_\n",
    "- Parametry protokołu AH\n",
    "- Parametry protokołu ESP\n",
    "- Time To Live\n",
    "- Wymagany tryb działania\n",
    "- _Maximum Transmission Unit_ (MTU)"
   ]
  },
  {
   "cell_type": "markdown",
   "metadata": {
    "slideshow": {
     "slide_type": "subslide"
    }
   },
   "source": [
    "# _Security Policy Database_ (SPD)\n",
    "\n",
    "Powiązanie podzbioru pakietów z SA\n",
    "\n",
    "Podziory definiujemy przez selektory:\n",
    "\n",
    "- Adresy IP (zdalny, lokalny)\n",
    "- Porty (zdalny, lokalny)\n",
    "- Protokół warstwy wyższej\n",
    "- Nazwa użytkownika"
   ]
  },
  {
   "cell_type": "markdown",
   "metadata": {
    "slideshow": {
     "slide_type": "subslide"
    }
   },
   "source": [
    "# Obsługa wychodzącego pakietu IP\n",
    "\n",
    "1. Przeszukaj SPD.\n",
    "    - Jeśli pakiet nie pasuje do żadnego podzbioru w SPD lub jest dla niego przewidziana akcja `DISCARD` - odrzuć\n",
    "    - W przeciwnym przypadku przejdź do kroku 2\n",
    "2. Jeżeli dla pakietu jest zdefiniowana akcja `BYPASS` to wyślij, jeżeli jest akcja `PROTECT` przejdź do kroku 3\n",
    "3. Przeszukaj SAD.\n",
    "    - Jeżeli nie ma dopasowania, to stwórz dopasowanie i wróć do początku kroku 3\n",
    "    - Jeżeli jest dopasowanie, to przetwórz pakiet zgodnie z SA i wyślij pakiet"
   ]
  },
  {
   "cell_type": "markdown",
   "metadata": {
    "slideshow": {
     "slide_type": "subslide"
    }
   },
   "source": [
    "# Obsługa przychodzącego pakietu IP\n",
    "\n",
    "1. Sprawdź typ pakietu (IP vs. IPsec)\n",
    "    - jeśli to IP, to przejdź do kroku 2\n",
    "    - jeśli to IPsec, to przejdź do kroku 3\n",
    "2. Sprawdź w SPD, przekaż pakiet do protokołu wyższej warstwy, tylko jeżeli pakiet ma akcję `BYPASS`, w przeciwnym przypadku odrzuć\n",
    "3. Przeszukaj SAD w poszukiwaniu SA\n",
    "     - jeśli dowiązania nie ma, to odrzuć pakiet\n",
    "     - jeśli dowiązanie jest, to przetwórz pakiet i przekaż do protokołu wyższej warstwy"
   ]
  },
  {
   "cell_type": "markdown",
   "metadata": {
    "slideshow": {
     "slide_type": "slide"
    }
   },
   "source": [
    "# Format pakietu ESP\n",
    "\n",
    "- Identyfikator SA (32 bity)\n",
    "- Numer sekwencyjny (32 bity)\n",
    "- Blok danych\n",
    "- Dopełnienie (maksymalnie 255 bajtów)\n",
    "- Rozmiar dopełnienia (8-bitowa liczba)\n",
    "- Następny nagłówek (8 bitów) (jakie dane są w środku; IP4 vs. IP6)\n",
    "- _Integrity Check Value_ "
   ]
  },
  {
   "cell_type": "markdown",
   "metadata": {
    "slideshow": {
     "slide_type": "slide"
    }
   },
   "source": [
    "# _Internet Key Exchange_ (IKE)\n",
    "\n",
    "### Ręcznie\n",
    "\n",
    "### Automatycznie"
   ]
  },
  {
   "cell_type": "markdown",
   "metadata": {
    "slideshow": {
     "slide_type": "subslide"
    }
   },
   "source": [
    "# IKE\n",
    "\n",
    "### Oakley Key Determination Protocol\n",
    "\n",
    "### Internet Security Association and Key Management  Protocol (ISAKMP)"
   ]
  },
  {
   "cell_type": "markdown",
   "metadata": {
    "slideshow": {
     "slide_type": "subslide"
    }
   },
   "source": [
    "# IKE - wymiana komunikatów\n",
    "\n",
    "## Wymiana inicjalizacyjna\n",
    "\n",
    "- uzgadniane algorytmy\n",
    "- ustalone IKE SA\n",
    "\n",
    "## Wymiana uwierzytelniająca\n",
    "\n",
    "- ustalone SA\n",
    "\n",
    "## Wymiana `CREATE_CHILD_SA`\n",
    "\n",
    "## Wymiana informacyjna"
   ]
  }
 ],
 "metadata": {
  "celltoolbar": "Slideshow",
  "kernelspec": {
   "display_name": "Python 3",
   "language": "python",
   "name": "python3"
  },
  "language_info": {
   "codemirror_mode": {
    "name": "ipython",
    "version": 3
   },
   "file_extension": ".py",
   "mimetype": "text/x-python",
   "name": "python",
   "nbconvert_exporter": "python",
   "pygments_lexer": "ipython3",
   "version": "3.5.2"
  },
  "livereveal": {
   "footer": "<h3>Bezpieczeństwo systemów komputerowych, 9 kwietnia 2018, Paweł Bogdan</h3>",
   "theme": "serif"
  }
 },
 "nbformat": 4,
 "nbformat_minor": 2
}
