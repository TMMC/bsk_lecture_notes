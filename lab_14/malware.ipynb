{
 "cells": [
  {
   "cell_type": "markdown",
   "metadata": {},
   "source": [
    "# Bezpieczeństwo Systemów Komputerowych\n",
    "\n",
    "## Ćwiczenia 14: Statyczna analiza kodu\n",
    "\n",
    "### 4 czerwca 2018 roku"
   ]
  },
  {
   "cell_type": "markdown",
   "metadata": {},
   "source": [
    "# Disclaimer\n",
    "\n",
    "Prezentowane treści mają charakter **edukacyjny**.\n",
    "\n",
    "Prezentacja pokazuje techniki testowania swojej sieci bezprzewodowej.\n",
    "\n",
    "Wykorzystanie tych technik do siedzi cudzych jest **zabronione**.\n",
    "\n",
    "Autor dokumentu nie bierze odpowiedzialności za to, w jakim celu wiedza przedstawiona w dokumencie zostanie wykorzystana.\n",
    "\n",
    "## Artykuł 267 Kodeksu Karnego\n",
    "\n",
    "\n",
    "> §1. Kto bez uprawnienia uzyskuje dostęp do informacji dla niego nieprzeznaczonej, otwierając zamknięte pismo, podłączając się do sieci telekomunikacyjnej lub przełamując albo omijając elektroniczne, magnetyczne, informatyczne lub inne szczególne jej zabezpieczenie, podlega grzywnie, karze ograniczenia wolności albo **pozbawienia wolności do lat 2**.  \n",
    "§ 2. Tej samej karze podlega, kto bez uprawnienia uzyskuje dostęp do całości lub części systemu informatycznego.  \n",
    "§ 3. Tej samej karze podlega, kto w celu uzyskania informacji, do której nie jest uprawniony, zakłada lub posługuje się urządzeniem podsłuchowym, wizualnym albo innym urządzeniem lub oprogramowaniem."
   ]
  },
  {
   "cell_type": "markdown",
   "metadata": {},
   "source": [
    "# Informacje wstępne\n",
    "\n",
    "Potrzebujemy:\n",
    "- [VMWare Player](https://www.vmware.com/pl/products/workstation-player/workstation-player-evaluation.html) albo [VirtualBox](https://www.virtualbox.org/)\n",
    "- Obrazek [REMnuxa](https://remnux.org/docs/)\n",
    "- Repozytorium na githubie, na którym są materiały z uczelni Rensselear z zajęć poświęconym analizie kodu. [Link](https://github.com/RPISEC/Malware)\n",
    "\n",
    "Na zajęciach, będziemy rozwiązywać zadania z [tego pliku](https://github.com/RPISEC/Malware/blob/master/Labs/Lab_01/Lab_01.pdf)\n",
    "\n",
    "Oczywiście na githubie można znaleźć odpowiedzi na pytania z powyższego pliku. Ale tutaj chodzi o szukanie odpowiedzi.\n",
    "\n",
    "**UWAGA:** Pliki mogą być szkodliwe dla komputera. Należy uważać, aby ich nie uruchomić na komputerach poza maszyną wirtualną.\n",
    "\n",
    "Będziemy analizować pliki, które znajdują się w archiwum `Malware/Labs/Lab_01/Lab_01.zip`. Hasło do rozpakowania: `infected`."
   ]
  },
  {
   "cell_type": "markdown",
   "metadata": {},
   "source": [
    "# Zadanie 1\n",
    "\n",
    "Znajdź czas kompilacji wszystkich plików. Lista narzędzi, z których można skorzystać jest dostępna [tutaj](https://remnux.org/docs/distro/tools/)"
   ]
  },
  {
   "cell_type": "markdown",
   "metadata": {},
   "source": [
    "# Zadanie 2\n",
    "\n",
    "Co o tych plikach twierdzi strona [VirusTotal](https://www.virustotal.com)?"
   ]
  },
  {
   "cell_type": "markdown",
   "metadata": {},
   "source": [
    "# Zadanie 3\n",
    "\n",
    "Jakie moduły/biblioteki są importowane do każdego z plików? Co to może oznaczać? Liczę na dyskusję."
   ]
  },
  {
   "cell_type": "markdown",
   "metadata": {},
   "source": [
    "# Zadanie 4\n",
    "\n",
    "Czy są jakieś podejrzane napisy w tych plikach? Znajdź je i wytłumacz, czemu mogą stanowić zagrożenie."
   ]
  },
  {
   "cell_type": "markdown",
   "metadata": {},
   "source": [
    "# Zadanie 5\n",
    "\n",
    "Do czego mogło być wykorzystywane to oprogramowanie? Skąd to wnioskujesz?"
   ]
  }
 ],
 "metadata": {
  "kernelspec": {
   "display_name": "Python 3",
   "language": "python",
   "name": "python3"
  },
  "language_info": {
   "codemirror_mode": {
    "name": "ipython",
    "version": 3
   },
   "file_extension": ".py",
   "mimetype": "text/x-python",
   "name": "python",
   "nbconvert_exporter": "python",
   "pygments_lexer": "ipython3",
   "version": "3.6.5rc1"
  }
 },
 "nbformat": 4,
 "nbformat_minor": 2
}
