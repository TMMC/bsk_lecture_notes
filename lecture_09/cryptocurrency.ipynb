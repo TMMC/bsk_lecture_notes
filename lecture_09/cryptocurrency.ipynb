{
 "cells": [
  {
   "cell_type": "markdown",
   "metadata": {
    "slideshow": {
     "slide_type": "slide"
    }
   },
   "source": [
    "# Kryptowaluty\n",
    "## Paweł Bogdan\n",
    "## 7 maja 2018\n",
    "### Bezpieczeństwo Systemów komputerowych"
   ]
  },
  {
   "cell_type": "markdown",
   "metadata": {
    "slideshow": {
     "slide_type": "slide"
    }
   },
   "source": [
    "# Problemy związane z klasycznymi metodami płatności:\n",
    "\n",
    "- wiedza banku na temat naszych wydatków jest problemem z prywatnością\n",
    "- anonimowość transakcji daje możliwość do płacenia za _złe rzeczy_"
   ]
  },
  {
   "cell_type": "markdown",
   "metadata": {
    "slideshow": {
     "slide_type": "slide"
    }
   },
   "source": [
    "# Propozycja Davida Chauma\n",
    "\n",
    "1. Brak możliwości, aby poznać odbiorcę, czas i kwotę wydaną przez daną osobę\n",
    "2. Umożliwienie danej osobie udowodnienie, że za coś zapłaciła oraz ustalenie tożsamości odbiorcy pod pewnymi warunkami\n",
    "3. Umożliwienie zablokowania wydawania skradzionych pieniędzy"
   ]
  },
  {
   "cell_type": "markdown",
   "metadata": {
    "slideshow": {
     "slide_type": "subslide"
    }
   },
   "source": [
    "## Użyte funkcje:\n",
    "\n",
    "1. Funkcja podpisu $s'$, która jest znana tylko podpisującemu\n",
    "2. Funkcja odwrotna $s$, która jest publicznie znana, taka że $$s(s'(x)) = x$$ oraz znajomość $s$ nie pozwala poznać $s'$\n",
    "3. Funkcja $c$ i jej odwrotność $c'$ - obie znane tylko dla dostawcy - takie że: $$c'(s'(c(x))) = s'(x)$$ oraz $c(x)$ i $s'$ nie dają żadnych informacji o $x$\n",
    "4. Predykat kontroli redundancji $r$, który sprawdza, czy redundancja jest wystarczająca, aby szukanie właściwych podpisów było niepraktyczne"
   ]
  },
  {
   "cell_type": "markdown",
   "metadata": {
    "slideshow": {
     "slide_type": "subslide"
    }
   },
   "source": [
    "## Protokół\n",
    "\n",
    "1. Dostawca wybiera $x$ dla którego $r(x)$. Wyznacza $c(x)$ i dostarcza $c(x)$ do podpisującego\n",
    "2. Podpisujący podpisuje wiadomość: $$s'(c(x))$$ i obliczoną wartość wysyła do dostawcy\n",
    "3. Dostawca otrzymuje sam podpis:\n",
    "$$c'(s'(c(x))) = s'(x)$$\n",
    "4. Każdy może sprawdzić, że $s'(x)$ zostało wygenerowane przez podpisującego przez obliczenie:\n",
    "$$s(s'(x))$$"
   ]
  },
  {
   "cell_type": "markdown",
   "metadata": {
    "slideshow": {
     "slide_type": "subslide"
    }
   },
   "source": [
    "## Oczekiwane własności\n",
    "\n",
    "1. Każdy powinien móc zweryfikować podpis\n",
    "2. Podpisujący nie może znać związku pomiędzy $s'(x_i)$ a $s'(x(x_i))$\n",
    "3. Dla zadanych $s'(c(x_1)), ..., s'(c(x_n))$ niepraktyczne jest szukanie $s'(y)$ takiego, że $r(y)$ oraz $y \\neq x_i$"
   ]
  },
  {
   "cell_type": "markdown",
   "metadata": {
    "slideshow": {
     "slide_type": "subslide"
    }
   },
   "source": [
    "## Protokół nienamierzalnych płatności\n",
    "\n",
    "1. Płacący wybiera losowe $x$, takie że $r(x)$ oraz oblicza banknot $c(x)$\n",
    "2. Płacący wysyła banknot $c(x)$ do banku\n",
    "3. Bank podpisuje banknot, czyli oblicza $s'(c(x))$ i obciąża konto płacącego\n",
    "4. Bank zwraca podpisany panknot płacącemu\n",
    "5. Płacący usuwa swoją tajemnicę: $c'(s'(c(x))) = s'(x)$\n",
    "6. Płacący weryfikuje poprawność podpisu"
   ]
  },
  {
   "cell_type": "markdown",
   "metadata": {
    "slideshow": {
     "slide_type": "subslide"
    }
   },
   "source": [
    "## Protokół nienamierzalnych płatności\n",
    "\n",
    "7. Płacący wykonuje płatność, przez wysłanie banknotu $s'(x)$ do odbiorcy\n",
    "8. Odbiorca sprawdza banknot przez $r(s(s'(x)))$\n",
    "9. Odbiorca wysyła banknot do banku\n",
    "10. Bank sprawdza banknot $r(s(s'(x)))$\n",
    "11. Bank sprawdza, czy banknot nie był wcześniej użyty\n",
    "12. Bank dodaje odpowiednią kwotę do rachunku odbiorcy"
   ]
  },
  {
   "cell_type": "markdown",
   "metadata": {
    "slideshow": {
     "slide_type": "subslide"
    }
   },
   "source": [
    "## Przykład\n",
    "[Wikipedia](https://en.wikipedia.org/wiki/Blind_signature) daje odnośnik do materiałów [_Lecture notes on Cryptography_](http://cseweb.ucsd.edu/~mihir/papers/gb.pdf), gdzie podany jest przykład, w którym:\n",
    "- $s'$ to podpis składany za pomocą systemu RSA\n",
    "- $s$ to werfyfikacja podpisu zgodna z algorytmem RSA\n",
    "- $c(x)$ to obliczenie wartości\n",
    "$$x \\cdot r^e \\mod n$$\n",
    "gdzie $r$ jest losowe (i względnie pierwsze z $n$), a $e$ i $n$ to klucz publiczny banku\n",
    "- $c'(x)$ to policzenie wartości:\n",
    "$$x \\cdot r^{-1} \\mod n$$\n",
    "gdzie $n$ jest częścią klucza publicznego banku"
   ]
  },
  {
   "cell_type": "markdown",
   "metadata": {
    "slideshow": {
     "slide_type": "slide"
    }
   },
   "source": [
    "# System Goofy'ego\n",
    "\n",
    "[Wykład na serwisie Coursera](https://www.coursera.org/learn/cryptocurrency/lecture/rJ8KJ/a-simple-cryptocurrency) prezentuje system Goofy'ego\n",
    "\n",
    "1. Goofy może stworzyć swoją monetę, taka moneta będzie zawierała informację o jej twórcy, będzie miała unikalny numer i będzie podpisana kluczem Goofy'ego\n",
    "2. Goofy może przekazać monetę Alicji. Czyli tworzy nową monetę, w której jest haszowana referencja na stworzoną monetę, jest informacja, że to Alicja jest posiadaczem tej monety i jest podpis Goofy'ego\n",
    "3. Alicja może przekazać monetę dalej, czyli tworzy nową monetę z dowiązaniem haszowanym na swoją monetę, wpisuje nowego właściciela monety i podpisuje tą monetę"
   ]
  },
  {
   "cell_type": "markdown",
   "metadata": {
    "slideshow": {
     "slide_type": "subslide"
    }
   },
   "source": [
    "### Wady?"
   ]
  },
  {
   "cell_type": "markdown",
   "metadata": {
    "slideshow": {
     "slide_type": "fragment"
    }
   },
   "source": [
    "Nikt nie kontroluje, czy Alicja nie wyda tej samej monety dwa razy"
   ]
  },
  {
   "cell_type": "markdown",
   "metadata": {
    "slideshow": {
     "slide_type": "slide"
    }
   },
   "source": [
    "# System Sknerusa\n",
    "\n",
    "[Wykład na serwisie Coursera](https://www.coursera.org/learn/cryptocurrency/lecture/rJ8KJ/a-simple-cryptocurrency) prezentuje system Scrooge'a\n",
    "\n",
    "Podobne do systemu Goofy'ego, ale każda transakcja musi być zaakceptowana i podpisana przez wydawcę monety."
   ]
  },
  {
   "cell_type": "markdown",
   "metadata": {
    "slideshow": {
     "slide_type": "subslide"
    }
   },
   "source": [
    "### Wady?"
   ]
  },
  {
   "cell_type": "markdown",
   "metadata": {
    "slideshow": {
     "slide_type": "fragment"
    }
   },
   "source": [
    "Sknerus ma taką samą kontrolę nad wszystkim jak bank"
   ]
  },
  {
   "cell_type": "markdown",
   "metadata": {
    "slideshow": {
     "slide_type": "slide"
    }
   },
   "source": [
    "# Systemy płatności bez gotówkowych\n",
    "\n",
    "1. Karty płatnicze (współczesne działają zgodnie ze standardem [EMV](https://www.emvco.com/)\n",
    "2. Systemy takie jak PayPal lub polski Blik"
   ]
  },
  {
   "cell_type": "markdown",
   "metadata": {
    "slideshow": {
     "slide_type": "slide"
    }
   },
   "source": [
    "# Bitcoin\n",
    "\n",
    "- Uruchomiona w 2009 przez Satoshi Nakamoto\n",
    "- Opiera się na pomyśle blockchainów\n",
    "- Zdecentrelizowana, wykorzystuje sieć p2p\n",
    "- Anonimowość\n",
    "- Generowanie nowych pieniędzy\n",
    "- Przechowywanie pieniędzy\n",
    "- Wykonywanie transakcji"
   ]
  },
  {
   "cell_type": "markdown",
   "metadata": {
    "slideshow": {
     "slide_type": "subslide"
    }
   },
   "source": [
    "## Decentralizacja\n",
    "\n",
    "- Kto odpowiada za rejestr transkakcji?\n",
    "- Kto generuje nowe pieniądze?\n",
    "- Kto decyduje o zmianach w systemie?"
   ]
  },
  {
   "cell_type": "markdown",
   "metadata": {
    "slideshow": {
     "slide_type": "subslide"
    }
   },
   "source": [
    "## Transakcje\n",
    "\n",
    "Każda moneta to tak naprawdę łańcuch podpisów cyfrowych. Gdy użytkownik A chce przekazać monetę użytkownikowi B, to oblicza hasz poprzedniej transakcji oraz klucza publicznego użytkownika B i ten hash podpisuje swoim kluczem prywatnym. Taki blok zostaje dopisany na koniec _monety_."
   ]
  },
  {
   "cell_type": "markdown",
   "metadata": {
    "slideshow": {
     "slide_type": "subslide"
    }
   },
   "source": [
    "## Servery znaczników czasu\n",
    "\n",
    "Serwery takie zbierają informacje o transakcjach w paczki. Gdy zbiorą odpowiednią ich ilość to je haszują razem z haszem poprzedniej paczki. To jest dowód na to, że coś istniało w danej chwili czasu i zapobiega wielokrotnemu wydaniu jednej monety."
   ]
  },
  {
   "cell_type": "markdown",
   "metadata": {
    "slideshow": {
     "slide_type": "subslide"
    }
   },
   "source": [
    "## Rozproszone serwery znaczników czasu\n",
    "\n",
    "Wiele serwerów próbuje policzyć hasza kolejnego bloku, w taki sposób, że hasz będzie zaczynał się od pewnej określonej liczby zer. Zerami steruje się za pomocą wartości Nonce.\n",
    "Trudność zadania jest zmienna i jest dobierana tak, aby tworzenie bloku zajmowało około 10 minut."
   ]
  },
  {
   "cell_type": "markdown",
   "metadata": {
    "slideshow": {
     "slide_type": "subslide"
    }
   },
   "source": [
    "## Sieć p2p\n",
    "\n",
    "1. Nowa transakcja jest rozgłaszana do węzłów\n",
    "2. Każdy węzeł gromadzi transakcje w bloki\n",
    "3. Każdy węzeł szuka rozwiązania _proof of work_\n",
    "4. Losowy węzeł rozsyła rozwiązanie do innych węzłów\n",
    "5. Węzły akceptują blok, jeżeli wszystko jest ok\n",
    "6. Węzły wyrażają swoją akceptację przez użycie tego bloku jako poprzednika dla następnego bloku\n"
   ]
  },
  {
   "cell_type": "markdown",
   "metadata": {
    "slideshow": {
     "slide_type": "subslide"
    }
   },
   "source": [
    "## Zachęta\n",
    "\n",
    "Pierwszą transakcją w bloku jest specjalna transakcja tworzenia nowej monety, która jest przypisywana do określonego przez właściciela węzła konta.\n",
    "Dodatkową zachętą są drobne opłaty przy zawieraniu transakcji, które mają przyspieszyć obsługę transakcji."
   ]
  },
  {
   "cell_type": "markdown",
   "metadata": {
    "slideshow": {
     "slide_type": "subslide"
    }
   },
   "source": [
    "## Oszczędzanie powierzchni dyskowej\n",
    "\n",
    "Gdy ostatnia transakcja na monecie jest przykryta odpowienią liczbą kolejnych bloków, to poprzednie transakcje na monecie można wymazać, aby oszczędzić miejsce. Ale jak to zrobić, żeby nie zmienić hasza całęgo bloku?"
   ]
  },
  {
   "cell_type": "markdown",
   "metadata": {
    "slideshow": {
     "slide_type": "subslide"
    }
   },
   "source": [
    "## Drzewo Merkla"
   ]
  },
  {
   "cell_type": "markdown",
   "metadata": {
    "slideshow": {
     "slide_type": "subslide"
    }
   },
   "source": [
    "## Próby ataków\n",
    "\n",
    "1. Kradzież pieniędzy?\n",
    "2. Ignorowanie transakcji?\n",
    "3. Wielokrotne wydanie jednego pieniądza?"
   ]
  },
  {
   "cell_type": "markdown",
   "metadata": {
    "slideshow": {
     "slide_type": "subslide"
    }
   },
   "source": [
    "## Rodzaje transakcje\n",
    "\n",
    "1. Skarbiec\n",
    "2. Mikroopłaty"
   ]
  },
  {
   "cell_type": "markdown",
   "metadata": {
    "slideshow": {
     "slide_type": "subslide"
    }
   },
   "source": [
    "## Portfele\n",
    "\n",
    "- Hot\n",
    "- Cold"
   ]
  },
  {
   "cell_type": "markdown",
   "metadata": {
    "slideshow": {
     "slide_type": "slide"
    }
   },
   "source": [
    "# Etherum\n",
    "\n",
    "- Sposób płatności oparty na technologii blockchain\n",
    "- Krótsze tworzenie bloków\n",
    "- Nigdy nie skończy się wydobywanie etheru"
   ]
  },
  {
   "cell_type": "markdown",
   "metadata": {
    "slideshow": {
     "slide_type": "subslide"
    }
   },
   "source": [
    "## Możliwości\n",
    "\n",
    "W oparciu o [stronę główną projektu](https://www.ethereum.org/) można wymienić:\n",
    "- zdecentralizowana platforma to nawiązywania inteligentnych kontraktów\n",
    "- płacenie i przechowywanie pieniędzy\n",
    "- pozwala na stworzenie własnej kryptowality\n",
    "- pozwala zbierać fundusze na nowe projekty\n",
    "- pozwala zarządzać organizacjami\n",
    "- pozwala budować rozproszone aplikacje"
   ]
  },
  {
   "cell_type": "markdown",
   "metadata": {
    "slideshow": {
     "slide_type": "slide"
    }
   },
   "source": [
    "# Źródła\n",
    "\n",
    "- Artykuły bazowe o bitcoinie na Wikipedii:\n",
    "     - [polskiej](https://pl.wikipedia.org/wiki/Bitcoin)\n",
    "     - [angielskojęzycznej](https://en.wikipedia.org/wiki/Bitcoin)\n",
    "- Wikipedie poświęcone w całości Bitcoinowi:\n",
    "     - [polska](https://pl.bitcoin.it/)\n",
    "     - [angielskojęzyczna](https://en.bitcoin.it/wiki/Main_Page)\n",
    "- Strony stowarzyszeń:\n",
    "     - [angielskojęzyczna](https://bitcoin.org/en/)\n",
    "     - [polska](https://bitcoin.org.pl/)\n",
    "- Strona [cotojestbitcoin](https://cotojestbitcoin.com/)\n",
    "- Artykuły bazowe o Ethereum na Wikipedii:\n",
    "     - [polskiej](https://pl.wikipedia.org/wiki/Ethereum)\n",
    "     - [angielskojęzycznej](https://en.wikipedia.org/wiki/Ethereum)\n",
    "- Strona [zarabiajprzez24](https://zarabiajprzez24.pl/ethereum/)\n",
    "- Strona [kryptolifestyle.pl](https://kryptolifestyle.pl/w-jakie-kryptowaluty-warto-inwestowac-w-2018-roku/)\n",
    "- Artykuły bazowe o Litecoin na Wikipedii:\n",
    "     - [polskiej](https://pl.wikipedia.org/wiki/Litecoin)\n",
    "     - [angielskojęzycznej](https://en.wikipedia.org/wiki/Litecoin)\n",
    "- [Artykuł](https://bitcoin.org/bitcoin.pdf) Autorstwa samego Satashi Nakamoto\n",
    "- [Artykuł](http://www.hit.bme.hu/~buttyan/courses/BMEVIHIM219/2009/Chaum.BlindSigForPayment.1982.PDF) Davida Chauma pt _Blind signatures for untraceable payments_ (link znaleziony na angielskojęzycznej wikipedii w artykule o [ślepych podpisach](https://en.wikipedia.org/wiki/Blind_signature))"
   ]
  }
 ],
 "metadata": {
  "celltoolbar": "Slideshow",
  "kernelspec": {
   "display_name": "Python 3",
   "language": "python",
   "name": "python3"
  },
  "language_info": {
   "codemirror_mode": {
    "name": "ipython",
    "version": 3
   },
   "file_extension": ".py",
   "mimetype": "text/x-python",
   "name": "python",
   "nbconvert_exporter": "python",
   "pygments_lexer": "ipython3",
   "version": "3.6.5rc1"
  },
  "livereveal": {
   "footer": "<h3>Bezpieczeństwo systemów komputerowych, 7 maja 2018, Paweł Bogdan</h3>",
   "theme": "serif"
  }
 },
 "nbformat": 4,
 "nbformat_minor": 2
}
