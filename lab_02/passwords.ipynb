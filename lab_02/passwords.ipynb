{
 "cells": [
  {
   "cell_type": "markdown",
   "metadata": {},
   "source": [
    "# Bezpieczeństwo Systemów Komputerowych\n",
    "\n",
    "## Ćwiczenia 2: Uwierzytelnianie przez hasło\n",
    "\n",
    "### 5 i 7 marca 2018 roku"
   ]
  },
  {
   "cell_type": "markdown",
   "metadata": {},
   "source": [
    "# Pytania do dyskusji:\n",
    "\n",
    "## 1. Dlaczego najczęściej do uwierzytelniania używa się haseł?\n",
    "\n",
    "## 2. Jakie są wady używania haseł?\n",
    "\n",
    "## 3. Jak powinniśmy tworzyć hasła?"
   ]
  },
  {
   "cell_type": "markdown",
   "metadata": {},
   "source": [
    "# Jak ocenić, czy hasło jest bezpieczne?\n",
    "\n",
    "## Entropia informacyjna Shannona\n",
    "\n",
    "Dla zmiennej losowej $X$:\n",
    "\n",
    "$$H(X) = - \\sum_{i=1}^n P(X=i) \\cdot \\log_2 P(X=i)$$"
   ]
  },
  {
   "cell_type": "markdown",
   "metadata": {},
   "source": [
    "## Ile wynosi entropia haseł\n",
    "\n",
    "### Złożonych z samych cyfr?\n",
    "\n",
    "### Złożonych z samych małych liter?\n",
    "\n",
    "### Złożonych z małych, wielkich liter i cyfr?"
   ]
  },
  {
   "cell_type": "markdown",
   "metadata": {},
   "source": [
    "# Generowanie haseł\n",
    "\n",
    "## Korzystając z narzędzi systemu linux\n",
    "\n",
    "Skorzystaj z programów `dd` i `base64` wygeneruj hasła o zadanej długości:"
   ]
  },
  {
   "cell_type": "code",
   "execution_count": null,
   "metadata": {},
   "outputs": [],
   "source": [
    "%%bash\n",
    "\n",
    "echo \"Pisz tutaj\""
   ]
  },
  {
   "cell_type": "markdown",
   "metadata": {},
   "source": [
    "Zapoznaj się z dokumentacją programu `pwgen` i wygeneruj złożone hasła"
   ]
  },
  {
   "cell_type": "code",
   "execution_count": null,
   "metadata": {},
   "outputs": [],
   "source": [
    "%%bash\n",
    "\n",
    "echo \"Pisz tutaj\""
   ]
  },
  {
   "cell_type": "markdown",
   "metadata": {},
   "source": [
    "## Korzystając z języka Python\n",
    "\n",
    "Napisz funkcję w języku Python, która przyjmie alfabet i długość i wygeneruje hasło o zadanej długości."
   ]
  },
  {
   "cell_type": "code",
   "execution_count": null,
   "metadata": {},
   "outputs": [],
   "source": [
    "def generate_random_password(alphabet, length):\n",
    "    return \"Funkcja powinna zwrócić losowe hasło\""
   ]
  },
  {
   "cell_type": "markdown",
   "metadata": {},
   "source": [
    "Napisz funkcję w języku Python, która przymie napis ze zdaniem i wygeneruje hasło na podstawie pierwszych liter słów w zdaniu"
   ]
  },
  {
   "cell_type": "code",
   "execution_count": null,
   "metadata": {},
   "outputs": [],
   "source": [
    "def generate_password_from_sentence(sentence):\n",
    "    return \"Funkcja powinna zwrócić hasło\""
   ]
  },
  {
   "cell_type": "markdown",
   "metadata": {},
   "source": [
    "# Łamanie haszy\n",
    "\n",
    "## JohnTheRipper\n",
    "\n",
    "Można wykorzystać program `john` (zainstalowany na obrazku dockera program [`JohnTheRipper`](https://github.com/magnumripper/JohnTheRipper) w wersji `jumbo`. W folderze z tym notebookiem są pliki \n",
    "- `hashes1` - po prostu zahaszowanie słów ze słownika\n",
    "- `hashes2` - do słowa ze słownika są dopisane pojedyńcze cyfry\n",
    "- `hashes3` - do słowa ze słownika jest dopisany jeden ze znaków `_`, `.`, `-`, `@` i następnie jedna cyfra\n",
    "- `hashes4` - pierwsza litera ze słownika jest zamieniona na wielką i na koniec jest dopisana jedna cyfra\n",
    "- `hashes5` - pierwsza litera ze słownika jest zamieniona na wielką i na koniec jest dopisana jedna lub dwie lub trzy cyfry\n",
    "- `hashes6` - w słowie ze słownika losowe litery są zmienione na wielkie, pozostałe są bez zmian\n",
    "\n",
    "Pierwszy z nich można złamać przy pomocy polecenia podanego poniżej. Plik `slowa.txt` jest pobrany [ze strony](https://sjp.pl/slownik/growy/)."
   ]
  },
  {
   "cell_type": "code",
   "execution_count": null,
   "metadata": {},
   "outputs": [],
   "source": [
    "%%bash\n",
    "/apps/john/run/john --format=Raw-SHA256 --wordlist=./słownik/slowa.txt hashes1"
   ]
  },
  {
   "cell_type": "markdown",
   "metadata": {},
   "source": [
    "## Łamanie pinów\n",
    "\n",
    "Spróbujmy teraz rozważyć prostszy problem. Rozważmy 6 cyfrowe piny. W pliku `hashes_pin` są hashe pinów. Zadanie polega na złamaniu tych haszy. \n",
    "\n",
    "Zacznijmy od wygenerowania słownika dla tych haszy:"
   ]
  },
  {
   "cell_type": "code",
   "execution_count": null,
   "metadata": {},
   "outputs": [],
   "source": [
    "# Napisz tu kod generowania haszy"
   ]
  },
  {
   "cell_type": "markdown",
   "metadata": {},
   "source": [
    "Teraz spróbujmy złamać te hasze przy pomocy kodu w pythonie:"
   ]
  },
  {
   "cell_type": "code",
   "execution_count": null,
   "metadata": {},
   "outputs": [],
   "source": [
    "# Napisz tu kod"
   ]
  },
  {
   "cell_type": "markdown",
   "metadata": {},
   "source": [
    "Jak się udało spróbujmy zrobić to samo przy pomocy programu `john`"
   ]
  },
  {
   "cell_type": "code",
   "execution_count": null,
   "metadata": {},
   "outputs": [],
   "source": [
    "%%bash\n",
    "\n",
    "# Tu napisz instrukcję wywołania programu johna"
   ]
  },
  {
   "cell_type": "markdown",
   "metadata": {},
   "source": [
    "A teraz spróbujmy użyć tęczowych tablic. Zacznijmy od wygenerowania tablic. Skorzystajmy z [instrukcji](http://project-rainbowcrack.com/generate.htm)"
   ]
  },
  {
   "cell_type": "code",
   "execution_count": null,
   "metadata": {},
   "outputs": [],
   "source": [
    "%%bash\n",
    "\n",
    "# Tu napisz odpowiednie instrukcje"
   ]
  },
  {
   "cell_type": "markdown",
   "metadata": {},
   "source": [
    "A teraz kolej na złamanie haszy. Skorzystajmy z [instrukcji](http://project-rainbowcrack.com/crack.htm)"
   ]
  },
  {
   "cell_type": "code",
   "execution_count": null,
   "metadata": {},
   "outputs": [],
   "source": [
    "%%bash\n",
    "\n",
    "# Tu napisz odpowiednie instrukcje"
   ]
  },
  {
   "cell_type": "markdown",
   "metadata": {},
   "source": [
    "## Praca domowa\n",
    "\n",
    "Przyślij paczkę zip, w której będą pliki, w których są hasła, z których utworzono hasze w plikach `hashes2`, `hashes3`, `hashes4`, `hashes5`, `hashes6`. Warto zapoznać się ze stronami:\n",
    "- [strona1](https://www.gracefulsecurity.com/custom-rules-for-john-the-ripper/)\n",
    "- [strona2](http://www.openwall.com/john/doc/RULES.shtml)\n",
    "- [strona3](https://github.com/piyushcse29/john-the-ripper/blob/master/doc/RULES)"
   ]
  },
  {
   "cell_type": "code",
   "execution_count": null,
   "metadata": {},
   "outputs": [],
   "source": []
  }
 ],
 "metadata": {
  "kernelspec": {
   "display_name": "Python 3",
   "language": "python",
   "name": "python3"
  },
  "language_info": {
   "codemirror_mode": {
    "name": "ipython",
    "version": 3
   },
   "file_extension": ".py",
   "mimetype": "text/x-python",
   "name": "python",
   "nbconvert_exporter": "python",
   "pygments_lexer": "ipython3",
   "version": "3.5.3"
  }
 },
 "nbformat": 4,
 "nbformat_minor": 2
}
