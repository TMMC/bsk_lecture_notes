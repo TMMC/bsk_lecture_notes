{
 "cells": [
  {
   "cell_type": "markdown",
   "metadata": {
    "slideshow": {
     "slide_type": "slide"
    }
   },
   "source": [
    "# TOR & Steganografia & DRM\n",
    "## Paweł Bogdan\n",
    "## 16 kwietnia 2018\n",
    "### Bezpieczeństwo Systemów komputerowych"
   ]
  },
  {
   "cell_type": "markdown",
   "metadata": {
    "slideshow": {
     "slide_type": "slide"
    }
   },
   "source": [
    "## TOR (The Onion Router)\n",
    "\n",
    "- Powstało w latach 90 (stworzone przez Marynarkę Wojenną Stanów Zjednoczonych)\n",
    "- Potem rozwijaniem zajęła się [DARPA](https://en.wikipedia.org/wiki/DARPA)\n",
    "- Od 2004 kod jest udostępnione na wolnej licencji i fundacje [EFF](https://en.wikipedia.org/wiki/Electronic_Frontier_Foundation) odpowiada za rozwój TORa\n",
    "- Od 2005 projektem zajmuje się `Tor Project` - organizacja non-profit\n"
   ]
  },
  {
   "cell_type": "markdown",
   "metadata": {
    "slideshow": {
     "slide_type": "subslide"
    }
   },
   "source": [
    "![tor](https://upload.wikimedia.org/wikipedia/commons/d/dc/Tor-onion-network.png)\n",
    "[Źródło](https://en.wikipedia.org/wiki/File:Tor-onion-network.png)"
   ]
  },
  {
   "cell_type": "markdown",
   "metadata": {
    "slideshow": {
     "slide_type": "subslide"
    }
   },
   "source": [
    "![tunel tor](https://upload.wikimedia.org/wikipedia/commons/thumb/e/e1/Onion_diagram.svg/500px-Onion_diagram.svg.png)\n",
    "[Źródło](https://commons.wikimedia.org/wiki/File:Onion_diagram.svg)\n",
    "\n",
    "[Warto przeczytać](https://security.stackexchange.com/questions/36571/why-can-a-tor-exit-node-decrypt-data-but-not-the-entry-node)"
   ]
  },
  {
   "cell_type": "markdown",
   "metadata": {
    "slideshow": {
     "slide_type": "slide"
    }
   },
   "source": [
    "## Słabości TORa\n",
    "\n",
    "### Analiza czasu\n",
    "\n",
    "### Węzeł wyjściowy sam z siebie nie szyfruje wychodzącego połączenia\n",
    "\n"
   ]
  },
  {
   "cell_type": "markdown",
   "metadata": {
    "slideshow": {
     "slide_type": "slide"
    }
   },
   "source": [
    "## Adresacja w sieci TOR\n",
    "\n",
    "- adresy IP węzłów są znane\n",
    "- węzły można obejrzeć na stronie [projektu Tor](https://metrics.torproject.org/rs.html#toprelays)\n"
   ]
  },
  {
   "cell_type": "markdown",
   "metadata": {
    "slideshow": {
     "slide_type": "slide"
    }
   },
   "source": [
    "#### Ale...\n",
    "\n",
    "- są też usługi ukryte, do których nie odwołujemy się przez adres IP, tylko przez _pseudodomenę najwyższego poziomu_ `.onion`\n",
    "- połączenia z takimi usługami są w _bardziej_ anonimowe, bo nie przechodzą przez węzły wyjściowe\n",
    "- na przykład adress facebooka: `https://facebookcorewwwi.onion/` ([sprawdź tutaj](https://www.facebook.com/notes/protect-the-graph/making-connections-to-facebook-more-secure/1526085754298237))\n",
    "- ale w ogólności to 16-znakowy hash, który jest generowany na podstawie klucza publicznego\n"
   ]
  },
  {
   "cell_type": "markdown",
   "metadata": {
    "slideshow": {
     "slide_type": "slide"
    }
   },
   "source": [
    "### TOR\n",
    "\n",
    "Należy pokazać [stronę projektu](https://www.torproject.org/index.html.en)\n",
    "\n",
    "Z TORa można korzystać przez urządzenie z systemem Android. Więcej [tutaj](https://guardianproject.info/apps/orbot/)\n",
    "\n",
    "Można oglądać [statystyki](https://metrics.torproject.org/) sieci TOR."
   ]
  },
  {
   "cell_type": "markdown",
   "metadata": {
    "slideshow": {
     "slide_type": "slide"
    }
   },
   "source": [
    "#### Czas na krótki pokaz"
   ]
  },
  {
   "cell_type": "markdown",
   "metadata": {
    "slideshow": {
     "slide_type": "fragment"
    }
   },
   "source": [
    "#### A teraz zmiana tematu"
   ]
  },
  {
   "cell_type": "markdown",
   "metadata": {
    "slideshow": {
     "slide_type": "slide"
    }
   },
   "source": [
    "## Kryptologia\n",
    "\n",
    "Definicja za [polską wikipedią](https://pl.wikipedia.org/wiki/Kryptologia)\n",
    "\n",
    "> Kryptologia (z gr. κρυπτός – kryptos – „ukryty” i λόγος – logos – „rozum”, „słowo”) – dziedzina wiedzy o przekazywaniu informacji w sposób zabezpieczony przed niepowołanym dostępem. "
   ]
  },
  {
   "cell_type": "markdown",
   "metadata": {
    "slideshow": {
     "slide_type": "slide"
    }
   },
   "source": [
    "## Steganografia\n",
    "\n",
    "Definicja za [polską wikipedią](https://pl.wikipedia.org/wiki/Steganografia)\n",
    "\n",
    "> nauka o komunikacji w taki sposób, by obecność komunikatu nie mogła zostać wykryta. W odróżnieniu od kryptografii (gdzie obecność komunikatu nie jest negowana, natomiast jego treść jest niejawna) steganografia próbuje ukryć fakt prowadzenia komunikacji."
   ]
  },
  {
   "cell_type": "markdown",
   "metadata": {
    "slideshow": {
     "slide_type": "subslide"
    }
   },
   "source": [
    "### Kryptografia\n",
    "\n",
    "Definicja za [polską wikipedią](https://pl.wikipedia.org/wiki/Kryptologia)\n",
    "> (z gr. κρυπτός oraz γράφω gráfo „pisać”), czyli gałąź wiedzy o utajnianiu wiadomości;\n"
   ]
  },
  {
   "cell_type": "markdown",
   "metadata": {
    "slideshow": {
     "slide_type": "subslide"
    }
   },
   "source": [
    "\n",
    "### Kryptoanaliza\n",
    "\n",
    "Definicja za [polską wikipedią](https://pl.wikipedia.org/wiki/Kryptologia)\n",
    "\n",
    "> (gr. kryptós oraz analýein – rozluźnić), czyli gałąź wiedzy o przełamywaniu zabezpieczeń oraz o deszyfrowaniu wiadomości przy braku klucza lub innego wymaganego elementu schematu szyfrowania (szyfru)"
   ]
  },
  {
   "cell_type": "markdown",
   "metadata": {
    "slideshow": {
     "slide_type": "subslide"
    }
   },
   "source": [
    "## Steganografia\n",
    "\n",
    "Pierwsze użycie tego sformułowania pojawiło się w dziele [_Steganographia_](https://en.wikipedia.org/wiki/Steganographia) w 1499 roku (do 1900 była w indeksie ksiąg zakazanych)"
   ]
  },
  {
   "cell_type": "markdown",
   "metadata": {
    "slideshow": {
     "slide_type": "subslide"
    }
   },
   "source": [
    "## Zasada Kerckhoffsa\n",
    "\n",
    "Cytując [polską wikipedię](https://pl.wikipedia.org/wiki/Zasada_Kerckhoffsa)\n",
    "\n",
    "> system kryptograficzny powinien być bezpieczny nawet wtedy, gdy wszystkie szczegóły jego działania – oprócz klucza – są znane"
   ]
  },
  {
   "cell_type": "markdown",
   "metadata": {
    "slideshow": {
     "slide_type": "slide"
    }
   },
   "source": [
    "## Klasyfikacja\n",
    "\n",
    "[Polska wikipedia](https://pl.wikipedia.org/wiki/Steganografia#Klasyfikacja_system%C3%B3w_steganograficznych[1]),\n",
    "Podaje następującą klasyfikację:\n",
    "\n",
    "- steganografia czysta\n",
    "- steganografia z kluczem prywatnym\n",
    "- steganografia z kluczem publicznym\n"
   ]
  },
  {
   "cell_type": "markdown",
   "metadata": {
    "slideshow": {
     "slide_type": "slide"
    }
   },
   "source": [
    "## W pewnym sensie _security by obscurity_"
   ]
  },
  {
   "cell_type": "markdown",
   "metadata": {
    "slideshow": {
     "slide_type": "slide"
    }
   },
   "source": [
    "## Trochę historii\n"
   ]
  },
  {
   "cell_type": "markdown",
   "metadata": {
    "slideshow": {
     "slide_type": "subslide"
    }
   },
   "source": [
    "- Herodot opisywał dwie metody:\n",
    "    - Powszechnie używało się drewnianych tabliczek, które były pokryte woskiem. W wosku wydrapywano litery, które tworzyły wiadomość. Sztuczka polegała na tym, że prawdziwą wiadomość pisano na drewnie, które potem przykrywano woskiem i w wosku wydrapywano litery\n",
    "    - Król perski Dariusz więził Histiajosa. Ten chciał wysłać wiadomość do swojego zięcia - Arystogorasa. Ogolił swojego niewolnika, wytatuował wiadomość na jego głowie, poczekał aż włosy odrosną i wysłał niewolnika z listem, który zawierał nic nieznaczącą wiadomością."
   ]
  },
  {
   "cell_type": "markdown",
   "metadata": {
    "slideshow": {
     "slide_type": "subslide"
    }
   },
   "source": [
    "- Od starożytności znane były różne atramenty sympatyczne (wciąż nie ujawniono składu atramentów sympatycznych z czasów I WŚ)\n",
    "- Wiadomość zapisana alfabetem Morse'a na włóczce, wplecionej w ubranie\n",
    "- Wiadomość przykryta znaczkiem pocztowym\n",
    "- Schematy robótek ręcznych, zagadki szachowe\n",
    "- Mikrokropki\n"
   ]
  },
  {
   "cell_type": "markdown",
   "metadata": {
    "slideshow": {
     "slide_type": "subslide"
    }
   },
   "source": [
    "- Velvalee Dickinson - lalkalrka z Nowego Jorku, szpiegowała dla Japonii a wiadomości ukrywała w rachunkach za lalki\n",
    "- Jeremiah Denton - więzień w Wietnamie nadał komunikat alfabetem Morse'a mrugając okiem\n"
   ]
  },
  {
   "cell_type": "markdown",
   "metadata": {
    "slideshow": {
     "slide_type": "subslide"
    }
   },
   "source": [
    "### Pewna metoda pojawiła się polskiej literaturze\n",
    "\n",
    "Kornel Makuszyński _Szatan z siódmej klasy_"
   ]
  },
  {
   "cell_type": "markdown",
   "metadata": {
    "slideshow": {
     "slide_type": "slide"
    }
   },
   "source": [
    "## Współcześnie\n"
   ]
  },
  {
   "cell_type": "markdown",
   "metadata": {
    "slideshow": {
     "slide_type": "subslide"
    }
   },
   "source": [
    "#### Kolor czcionki jak kolor tła\n",
    "\n",
    "Obejrzyjmy [następującą stronę internetową](bg_color.html)."
   ]
  },
  {
   "cell_type": "markdown",
   "metadata": {
    "slideshow": {
     "slide_type": "subslide"
    }
   },
   "source": [
    "#### Różne znaki UTF8, które wyglądają podobnie\n",
    "\n",
    "Więcej informacji można znaleźć [tutaj](http://websec.github.io/unicode-security-guide/visual-spoofing/)\n"
   ]
  },
  {
   "cell_type": "code",
   "execution_count": 4,
   "metadata": {},
   "outputs": [
    {
     "name": "stdout",
     "output_type": "stream",
     "text": [
      "g\n",
      "ɡ\n",
      "False\n"
     ]
    }
   ],
   "source": [
    "print('g')\n",
    "print('\\u0261')\n",
    "print('g' == '\\u0261')"
   ]
  },
  {
   "cell_type": "markdown",
   "metadata": {
    "slideshow": {
     "slide_type": "subslide"
    }
   },
   "source": [
    "#### Wykorzystanie niedrukowalnych znaków\n",
    "\n",
    "Więcej informacji można znaleźć [tutaj](http://websec.github.io/unicode-security-guide/visual-spoofing/)"
   ]
  },
  {
   "cell_type": "code",
   "execution_count": 6,
   "metadata": {},
   "outputs": [
    {
     "name": "stdout",
     "output_type": "stream",
     "text": [
      "message\n",
      "mes﻿sage\n",
      "False\n"
     ]
    }
   ],
   "source": [
    "print('message')\n",
    "print('mes\\ufeffsage')\n",
    "print('message' == 'mes\\ufeffsage')"
   ]
  },
  {
   "cell_type": "markdown",
   "metadata": {
    "slideshow": {
     "slide_type": "subslide"
    }
   },
   "source": [
    "#### Różne interlinie\n",
    "\n",
    "Zobacz [przykładową stronę](interlines.html)"
   ]
  },
  {
   "cell_type": "markdown",
   "metadata": {
    "slideshow": {
     "slide_type": "subslide"
    }
   },
   "source": [
    "#### Żółte kropki na wydrukach\n",
    "\n",
    "Dawniej można było poznać jaka maszyna do pisania napisała tekst.\n",
    "\n",
    "Teraz można poznać, jaka drukarka wydrukowała tekst.\n",
    "\n",
    "![yellow_dots](https://upload.wikimedia.org/wikipedia/commons/thumb/0/07/Printer_Steganography_Illustration.png/499px-Printer_Steganography_Illustration.png)\n",
    "[Źródło](https://en.wikipedia.org/wiki/File:Printer_Steganography_Illustration.png)"
   ]
  },
  {
   "cell_type": "markdown",
   "metadata": {
    "slideshow": {
     "slide_type": "subslide"
    }
   },
   "source": [
    "#### Opóźnienia w pakietach:\n",
    "\n",
    "Na przykład:\n",
    "\n",
    "- **LACK** - Lost Audio Packets Stenanography (na przykład [w skypie](https://zaufanatrzeciastrona.pl/post/skypehide-polski-program-do-steganografii-w-skype/))\n",
    "- **WLAN Steganography** - na przykład [HICCUPS](http://krzysiek.tele.pw.edu.pl/pdf/acs2003-hiccups.pdf)"
   ]
  },
  {
   "cell_type": "markdown",
   "metadata": {
    "slideshow": {
     "slide_type": "subslide"
    }
   },
   "source": [
    "#### Dopisywanie danych na końcu pliku\n",
    "\n",
    "Zobaczmy plik `suwalszczyzna_1.png`:"
   ]
  },
  {
   "cell_type": "markdown",
   "metadata": {
    "slideshow": {
     "slide_type": "subslide"
    }
   },
   "source": [
    "![suwalszczyzna_1.png](suwalszczyzna_1.png)"
   ]
  },
  {
   "cell_type": "markdown",
   "metadata": {
    "slideshow": {
     "slide_type": "subslide"
    }
   },
   "source": [
    "Ale jak zobaczymy zawartość binarną pliku za pomocą programu `hexdump`:"
   ]
  },
  {
   "cell_type": "code",
   "execution_count": 8,
   "metadata": {
    "slideshow": {
     "slide_type": "fragment"
    }
   },
   "outputs": [
    {
     "name": "stdout",
     "output_type": "stream",
     "text": [
      "00104930  99 08 94 01 e8 31 fb bc  ce b9 d6 4c 00 2e 36 61  |.....1.....L..6a|\n",
      "00104940  ad 0c 2d 15 90 d6 5a cb  93 90 91 70 8c f1 9f bf  |..-...Z....p....|\n",
      "00104950  fe fa f3 f9 f3 9a 73 82  2f f7 af db 7d ab 5b 2b  |......s./...}.[+|\n",
      "00104960  d5 ac 20 d0 9c 6b f4 21  d5 a4 19 2b d6 bd b4 56  |.. ..k.!...+...V|\n",
      "00104970  55 b8 34 65 a3 e5 de cf  eb bf 14 8a ad df 24 d2  |U.4e..........$.|\n",
      "00104980  1d 8d 00 00 00 00 49 45  4e 44 ae 42 60 82 74 61  |......IEND.B`.ta|\n",
      "00104990  6a 6e 61 20 77 69 61 64  6f 6d 6f 73 63 20 6b 74  |jna wiadomosc kt|\n",
      "001049a0  6f 72 65 6a 20 6e 69 6b  74 20 6e 69 65 20 6d 6f  |orej nikt nie mo|\n",
      "001049b0  7a 65 20 70 72 7a 65 63  7a 79 74 61 63 0a        |ze przeczytac.|\n",
      "001049be\n"
     ]
    }
   ],
   "source": [
    "%%bash\n",
    "hexdump -C suwalszczyzna_1.png | tail"
   ]
  },
  {
   "cell_type": "markdown",
   "metadata": {
    "slideshow": {
     "slide_type": "subslide"
    }
   },
   "source": [
    "Przy okazji warto zaznajomić się z [listą sygnatur plików](https://en.wikipedia.org/wiki/List_of_file_signatures).\n",
    "\n",
    "Warto poznać też narzędzie `exiftool`. Dzięki niemu [można wydobyć miniaturkę zdjecia](https://stackoverflow.com/questions/10349622/extract-thumbnail-from-jpeg-file):\n",
    "```\n",
    "exiftool -b -ThumbnailImage my_image.jpg > my_thumbnail.jpg\n",
    "```"
   ]
  },
  {
   "cell_type": "markdown",
   "metadata": {
    "slideshow": {
     "slide_type": "subslide"
    }
   },
   "source": [
    "#### Ukrywanie danych w plikach audio\n",
    "\n",
    "[Tutaj](https://github.com/ktekeli/audio-steganography-algorithms) jest biblioteka implementująca różne metody steganografii na dźwiękach."
   ]
  },
  {
   "cell_type": "markdown",
   "metadata": {
    "slideshow": {
     "slide_type": "subslide"
    }
   },
   "source": [
    "#### Alfabet Morse'a w piosence\n",
    "\n",
    "Opis całej historii opisuje [zaufanatrzeciastrona.pl](https://zaufanatrzeciastrona.pl/post/jak-wiadomosc-ukryta-w-piosence-pop-ratowala-zakladnikow-w-dzungli/)\n",
    "\n",
    "Posłuchajmy [fragmentu piosenki](https://soundcloud.com/michael-zelenko/better-days-by-natalia-gutierrez-y-angelo)"
   ]
  },
  {
   "cell_type": "markdown",
   "metadata": {
    "slideshow": {
     "slide_type": "subslide"
    }
   },
   "source": [
    "#### Zapisywanie dane w nieużywanym miejscu na dysku"
   ]
  },
  {
   "cell_type": "markdown",
   "metadata": {
    "slideshow": {
     "slide_type": "subslide"
    }
   },
   "source": [
    "#### Odniesienia do kultury\n",
    "\n",
    "Swego czasu było głośno [o pewnej histori](http://www.zephoria.org/thoughts/archives/2010/08/23/social-steganography-learning-to-hide-in-plain-sight.html)"
   ]
  },
  {
   "cell_type": "markdown",
   "metadata": {
    "slideshow": {
     "slide_type": "subslide"
    }
   },
   "source": [
    "#### Metoda najmłodszego bitu\n",
    "\n",
    "Bardzo dokładnie jest to opisane [tutaj](https://www.pcworld.pl/porada/Steganografia,334607.html)\n",
    "\n",
    "W skrócie. Plik graficzny składa się z nagłówka i kolejnych pikseli. Każdy piksel jest zapisany za pomocą 3 wartości liczbowych: składowej czerwone (R), zielonej (G) i niebieskiej (B). Czasami jeste jeszcze 4 wartość: przezroczystość (A).\n",
    "\n",
    "Jeżeli każdą składową opisujemy 8 bitową liczbą, to każdy piksel opisujemy 3 bajtami. To daje nam 16 milionów kolorów. A ludzkie oko jest w stanie rozróżnić kilkadziesiąt tysięcy.\n",
    "\n",
    "Możemy więc wykorzystać najmniej znaczące bity z każdego piksela, żeby ukryć tam jakąś wiadomość."
   ]
  },
  {
   "cell_type": "markdown",
   "metadata": {
    "slideshow": {
     "slide_type": "subslide"
    }
   },
   "source": [
    "Na przykład:\n",
    "\n",
    "Mamy kolor: \n",
    "```\n",
    "R = 78  (01001110)\n",
    "G = 131 (10000011)\n",
    "B = 244 (11110100)\n",
    "```\n",
    "![k1](kolor1.png)\n"
   ]
  },
  {
   "cell_type": "markdown",
   "metadata": {
    "slideshow": {
     "slide_type": "subslide"
    }
   },
   "source": [
    "I kolejny kolor:\n",
    "\n",
    "```\n",
    "R = 77\n",
    "G = 132\n",
    "B = 243\n",
    "```\n",
    "\n",
    "![k2](kolor2.png)"
   ]
  },
  {
   "cell_type": "markdown",
   "metadata": {
    "slideshow": {
     "slide_type": "subslide"
    }
   },
   "source": [
    "Jeszcze raz same kolory:\n",
    "![k1](kolor1.png)\n",
    "![k2](kolor2.png)"
   ]
  },
  {
   "cell_type": "markdown",
   "metadata": {
    "slideshow": {
     "slide_type": "slide"
    }
   },
   "source": [
    "## Trochę teorii spiskowych\n",
    "\n",
    "### [Cicada 3301](https://en.wikipedia.org/wiki/Cicada_3301)\n",
    "\n",
    "Pisali o tym na [niebezpieczniku](https://niebezpiecznik.pl/post/tajemnicze-zagadki-cicada-3301/)\n",
    "\n",
    "Zagadka z roku [2014](https://imgur.com/zN4h51m)\n",
    "\n",
    "### [Manuskrypt Wojnicza](https://pl.wikipedia.org/wiki/Manuskrypt_Wojnicza)"
   ]
  },
  {
   "cell_type": "markdown",
   "metadata": {
    "slideshow": {
     "slide_type": "slide"
    }
   },
   "source": [
    "## DRM (Digital Rights Management)\n",
    "\n",
    "Cytując [polską wikipedię](https://pl.wikipedia.org/wiki/Zarz%C4%85dzanie_prawami_cyfrowymi):\n",
    "\n",
    "> system zabezpieczeń oparty na mechanizmach kryptograficznych lub innych metodach ukrywania treści mający przeciwdziałać używaniu danych w formacie elektronicznym w sposób sprzeczny z wolą ich wydawcy."
   ]
  },
  {
   "cell_type": "markdown",
   "metadata": {
    "slideshow": {
     "slide_type": "subslide"
    }
   },
   "source": [
    "\n",
    "I dalej z tego samego źródła:\n",
    "\n",
    "> W założeniu mechanizm taki ma służyć ochronie praw autorskich twórców, w praktyce może być wykorzystany do dowolnego ograniczenia możliwości korzystania z danych w systemach komputerowych i multimedialnych. DRM jest szczególnym przypadkiem systemu zarządzania prawami do informacji (IRM), stosowanego także do ochrony informacji objętych różnymi formami utajnienia.\n"
   ]
  },
  {
   "cell_type": "markdown",
   "metadata": {
    "slideshow": {
     "slide_type": "subslide"
    }
   },
   "source": [
    "### Pora na krótki [film](https://www.youtube.com/watch?v=qPEeaxI0OPU)"
   ]
  },
  {
   "cell_type": "markdown",
   "metadata": {
    "slideshow": {
     "slide_type": "subslide"
    }
   },
   "source": [
    "## DRM\n",
    "\n",
    "Zgodnie z danymi [na stronie](https://www.pcmag.com/article2/0,2817,929861,00.asp)\n",
    "- Uwaga o zakazie _piratowania_ przed filmem\n",
    "- Brak możliwości słuchania muzyki na komputerze z płyty CD\n",
    "- Brak możliwości nagrania filmu z telewizora\n",
    "- Możesz czytać kupionego e-booka, ale nie można go wydrukować"
   ]
  },
  {
   "cell_type": "markdown",
   "metadata": {
    "slideshow": {
     "slide_type": "subslide"
    }
   },
   "source": [
    "### Historyczne metody\n",
    "\n",
    "- `Lotus 1-2-3` potrzebował specjalnej dyskietki (późniejsze zabezpieczenie wymagało specjalnego urządzenia USB)\n",
    "- połączenie z serwerem licencyjnym (oprogramowania Microsoftu)\n",
    "- proponowano nawet płyty DVD, które miałbyby być niemożliwe do odczytu po kilku dniach od nagrania\n"
   ]
  },
  {
   "cell_type": "markdown",
   "metadata": {
    "slideshow": {
     "slide_type": "subslide"
    }
   },
   "source": [
    "### Mechanizmy DRM w grach komputerowych\n",
    "\n",
    "- Wykorzystywano instrukcję dołączaną do gry\n",
    "- Wskazówki do zagadek w grach przygodówek w instrukcji\n",
    "- Specjalny kształt nośników starych gier Nintendo. Wykrycie nieoryginalnego katridża w grze `Earthbound` powodowało zawieszenie gry i wykasowanie zapisanych stanów gry w czasie walki z bossem\n",
    "- Razem z grą `The Secret of Monkey Island` było sprzedawana tekturowe obrotowe koło z twarzmi piratów. W czasie gry pojawiała się odpowiednia twarz i należało wpisać kod z tekturowego kółka\n",
    "- Lenslock\n"
   ]
  },
  {
   "cell_type": "markdown",
   "metadata": {
    "slideshow": {
     "slide_type": "subslide"
    }
   },
   "source": [
    "### Mechanizmy DRM w grach komputerowych\n",
    "\n",
    "- Klucze instalacyjne\n",
    "- Wykrycie nielegalnej kopii blokuje grę, albo uniemożliwia grę\n",
    "- Zabezpieczenia płyt:\n",
    "    - `SafeDisk` - zawierał plik, który wymagał uruchomienia programu z płyty (dało się obejść emulatorami)\n",
    "    - `SecuROM` - wprowadzał limit instalcji (wykrywał zmiany sprzętowe)\n",
    "    - `StarForce` - \n",
    "- stałe połączenie z internetem (lagi w trybie gracza pojedyńcze)\n",
    "- `Steam`, `Uplay`, `Origin` itp\n"
   ]
  },
  {
   "cell_type": "markdown",
   "metadata": {
    "slideshow": {
     "slide_type": "subslide"
    }
   },
   "source": [
    "### Content Scramble System\n",
    "\n",
    "Ograniczenie możliwości odtwarzania płyty do pewnego określonego obszaru geograficznego.\n",
    "\n",
    "Jest to przykład DRM, który zabezpiecza model biznesowy bardziej niż prawa autorskie.\n"
   ]
  },
  {
   "cell_type": "markdown",
   "metadata": {
    "slideshow": {
     "slide_type": "slide"
    }
   },
   "source": [
    "# Co to ma wspólnego ze staganografią???"
   ]
  },
  {
   "cell_type": "markdown",
   "metadata": {
    "slideshow": {
     "slide_type": "fragment"
    }
   },
   "source": [
    "## Znaki wodne"
   ]
  },
  {
   "cell_type": "markdown",
   "metadata": {
    "slideshow": {
     "slide_type": "slide"
    }
   },
   "source": [
    "## Źródła:\n",
    "- [wikipedia](https://en.wikipedia.org/wiki/.onion) i [polska wersja](https://pl.wikipedia.org/wiki/.onion)\n",
    "- [wikipedia](https://en.wikipedia.org/wiki/Tor_(anonymity_network) i [po polsku](https://pl.wikipedia.org/wiki/Tor_(sie%C4%87_anonimowa)\n",
    "- [wikipedia](https://en.wikipedia.org/wiki/Onion_routing) i [po polsku](https://en.wikipedia.org/wiki/Onion_routing)\n",
    "- [dokumentacja projektu Tor](https://www.torproject.org/docs/documentation.html.en)\n",
    "- [Polska Wikipedia](https://pl.wikipedia.org/wiki/Steganografia)\n",
    "- [Angielskojęzyczna Wikipedia](https://en.wikipedia.org/wiki/Steganography)\n",
    "- [Spider's web](https://www.spidersweb.pl/2015/04/steganografia.html)\n"
   ]
  },
  {
   "cell_type": "markdown",
   "metadata": {
    "slideshow": {
     "slide_type": "subslide"
    }
   },
   "source": [
    "- [crypto-it](http://www.crypto-it.net/pl/teoria/steganografia.html)\n",
    "- [ploug.org.pl](http://www.ploug.org.pl/?page_id=886)\n",
    "- [PC World Computer](https://www.pcworld.pl/porada/Steganografia,334607.html)\n",
    "- [magazynt3](https://magazynt3.pl/Steganografia-informacja-dobrze-ukryta/)\n",
    "- [Zaufana trzecia strona](https://zaufanatrzeciastrona.pl/post/tag/steganografia/)\n",
    "- [pawelskaruz.pl](https://pawelskaruz.pl/2017/03/steganografia-a-co-to-jest-a-komu-to-potrzebne/)\n",
    "- [angielskojęzyczna wikipedia o DRM](https://en.wikipedia.org/wiki/Digital_rights_management) i [polska](https://pl.wikipedia.org/wiki/Zarz%C4%85dzanie_prawami_cyfrowymi)"
   ]
  },
  {
   "cell_type": "markdown",
   "metadata": {
    "slideshow": {
     "slide_type": "subslide"
    }
   },
   "source": [
    "- [pcmag](https://www.pcmag.com/article2/0,2817,929861,00.asp)\n",
    "- [makeuseof.com](https://www.makeuseof.com/tag/5-strange-video-game-copy-protection-measures-used-in-history/)\n",
    "- [video z kanału TVGRYpl](https://www.youtube.com/watch?v=kSsze4EoIjI)\n",
    "- [video z kanału TVGRYpl](https://www.youtube.com/watch?v=3_yICzla-6Q)\n",
    "- [jeszcze raz wikipedia](https://pl.wikipedia.org/wiki/Content_Scramble_System)"
   ]
  },
  {
   "cell_type": "markdown",
   "metadata": {
    "slideshow": {
     "slide_type": "subslide"
    }
   },
   "source": [
    "- Jeszcze kilka artykułów z wikipedii:\n",
    "    - [Znak wodny](https://pl.wikipedia.org/wiki/Cyfrowy_znak_wodny) i [po angielsku](https://en.wikipedia.org/wiki/Digital_watermarking)\n",
    "    - [O śledzeniu _zdrajców_](https://en.wikipedia.org/wiki/Traitor_tracing)\n",
    "    "
   ]
  }
 ],
 "metadata": {
  "celltoolbar": "Slideshow",
  "kernelspec": {
   "display_name": "Python 3",
   "language": "python",
   "name": "python3"
  },
  "language_info": {
   "codemirror_mode": {
    "name": "ipython",
    "version": 3
   },
   "file_extension": ".py",
   "mimetype": "text/x-python",
   "name": "python",
   "nbconvert_exporter": "python",
   "pygments_lexer": "ipython3",
   "version": "3.5.2"
  },
  "livereveal": {
   "footer": "<h3>Bezpieczeństwo systemów komputerowych, 16 kwietnia 2018, Paweł Bogdan</h3>",
   "theme": "serif"
  }
 },
 "nbformat": 4,
 "nbformat_minor": 2
}
