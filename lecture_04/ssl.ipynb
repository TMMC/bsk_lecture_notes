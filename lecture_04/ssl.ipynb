{
 "cells": [
  {
   "cell_type": "markdown",
   "metadata": {
    "slideshow": {
     "slide_type": "slide"
    }
   },
   "source": [
    "# SSL i TLS\n",
    "## Paweł Bogdan\n",
    "## 19 marca 2018\n",
    "### Bezpieczeństwo Systemów komputerowych"
   ]
  },
  {
   "cell_type": "markdown",
   "metadata": {
    "slideshow": {
     "slide_type": "slide"
    }
   },
   "source": [
    "# Problem?"
   ]
  },
  {
   "cell_type": "markdown",
   "metadata": {
    "slideshow": {
     "slide_type": "fragment"
    }
   },
   "source": [
    "Klient chce się połączyć z aplikacją webową i chce aby połączenie było szyfrowane i chce mieć pewność, że serwer na którym stoi aplikacja jest właściwy."
   ]
  },
  {
   "cell_type": "markdown",
   "metadata": {
    "slideshow": {
     "slide_type": "subslide"
    }
   },
   "source": [
    "# Rozwiązanie?"
   ]
  },
  {
   "cell_type": "markdown",
   "metadata": {
    "slideshow": {
     "slide_type": "fragment"
    }
   },
   "source": [
    "## SSL/TLS"
   ]
  },
  {
   "cell_type": "markdown",
   "metadata": {
    "slideshow": {
     "slide_type": "slide"
    }
   },
   "source": [
    "# SSL - Secure Socket Layer\n",
    "\n",
    "1. Stworzony przez Netscape w 1994\n",
    "2. W 1995 pojawiła się wersja 3\n",
    "\n"
   ]
  },
  {
   "cell_type": "markdown",
   "metadata": {
    "slideshow": {
     "slide_type": "fragment"
    }
   },
   "source": [
    "# TLS - Transport Layer Security\n",
    "\n",
    "1. Wersja 1.0 - rozwinięcie wersji 3 SSL opisane w [rfc2246](https://tools.ietf.org/html/rfc2246)\n",
    "2. Wersja 1.1 - załatanie niejednoznaczności z wersji 1.0. Opisane w plikach [rfc4346](https://tools.ietf.org/html/rfc4346), [rfc4366](https://tools.ietf.org/html/rfc4366), [rfc4680](https://tools.ietf.org/html/rfc4680), [rfc4681](https://tools.ietf.org/html/rfc4681)\n",
    "3. Wersja 1.2 - rozwinięcie wersji 1.1 opisane w [rfc5246](https://tools.ietf.org/html/rfc5246)"
   ]
  },
  {
   "cell_type": "markdown",
   "metadata": {
    "slideshow": {
     "slide_type": "slide"
    }
   },
   "source": [
    "# Podprotokoły \n",
    "\n",
    "1. **Podprotokół rekordu** (*SSL Record Protocol*)\n",
    "2. Druga warstwa:\n",
    "   1. **HTTP** (*Hypertext Transfer Protocol*)\n",
    "   2. **Podprotokół powitalny** (*Handshake Protocol*)\n",
    "   3. **Podprotokół zmiany szyfru** (*Change Cipher Spec Protocol*)\n",
    "   4. **Podprotokół alarmowy** (*Alert Protocol*)"
   ]
  },
  {
   "cell_type": "markdown",
   "metadata": {
    "slideshow": {
     "slide_type": "slide"
    }
   },
   "source": [
    "# Połączenie SSL\n",
    "\n",
    "W ramach połączenia odbywa się komunikacja na zasadzie *peer-to-peer*, która ma zapewnić odpowiedni typ usługi w ramach protokołu *SSL*.\n",
    "\n",
    "Połączenie jest nawiązywane w ramach sesji.\n",
    "\n",
    "Połączenie jest bytem tymczasowym"
   ]
  },
  {
   "cell_type": "markdown",
   "metadata": {
    "slideshow": {
     "slide_type": "subslide"
    }
   },
   "source": [
    "# Sesja SSL\n",
    "\n",
    "Stałe skojarzenie między klientem a serwerem."
   ]
  },
  {
   "cell_type": "markdown",
   "metadata": {
    "slideshow": {
     "slide_type": "subslide"
    }
   },
   "source": [
    "# Parametry sesji:\n",
    "\n",
    "- identyfikator sesji\n",
    "- certyfikat partnera\n",
    "- metoda kompresji\n",
    "- specyfikacja szyfru\n",
    "- tajny kod główny\n",
    "- znacznik wznawiania"
   ]
  },
  {
   "cell_type": "markdown",
   "metadata": {
    "slideshow": {
     "slide_type": "subslide"
    }
   },
   "source": [
    "# Parametry połączenia\n",
    "\n",
    "- unikalny ciąg losowy\n",
    "- tajny parametr MAC dla serwera\n",
    "- tajny parametr MAC dla klienta\n",
    "- klucz serwerowy\n",
    "- klucz klienta\n",
    "- wektory inicjalizacyjne\n",
    "- numery sekwencyjne"
   ]
  },
  {
   "cell_type": "markdown",
   "metadata": {
    "slideshow": {
     "slide_type": "slide"
    }
   },
   "source": [
    "# Podprotokół rekordu\n",
    "\n",
    "## Poufność\n",
    "\n",
    "## Integralność"
   ]
  },
  {
   "cell_type": "markdown",
   "metadata": {
    "slideshow": {
     "slide_type": "subslide"
    }
   },
   "source": [
    "# Podprotokół rekordu\n",
    "\n",
    "1. Dzielenie danych na mniejsze paczki\n",
    "2. Każda paczka jest przetwarzana osobno:\n",
    "    1. Paczka podlega kompresji\n",
    "    2. Obliczany i dołączany jest kod MAC\n",
    "    3. Szyfrowanie\n",
    "    4. Dołączenie odpowiedniego nagłówka SSL\n",
    "        - typ zawartości (change_cipher_spec, alert, handshake, application_data)\n",
    "        - główny numer wersji\n",
    "        - poboczny numer wersji\n",
    "        - ostateczna długość bloku"
   ]
  },
  {
   "cell_type": "markdown",
   "metadata": {
    "slideshow": {
     "slide_type": "slide"
    }
   },
   "source": [
    "# Podprotokół powitalny\n",
    "\n",
    "Warto przeanalizować ruch rzeczywistych pakietów pomiędzy przeglądarką internetową a serwerem https. Plik programu `wireshark` jest w tym samym katalogu w repozytorium na `github`, w którym się znajduje niniejszy plik.\n",
    "\n",
    "1. Faza 1\n",
    "    1. $\\textrm{Klient} ~~\\longrightarrow~~\\textrm{Serwer}~~:~~$ `client_hello`\n",
    "    2. $\\textrm{Klient} ~~\\longleftarrow~~\\textrm{Serwer}~~:~~$ `server_hello`\n",
    "2. Faza 2\n",
    "    1. $\\textrm{Klient} ~~\\longleftarrow~~\\textrm{Serwer}~~:~~$ `certificate`\n",
    "    1. $\\textrm{Klient} ~~\\longleftarrow~~\\textrm{Serwer}~~:~~$ `server_key_exchange`\n",
    "    1. $\\textrm{Klient} ~~\\longleftarrow~~\\textrm{Serwer}~~:~~$ `certificate_request`\n",
    "    1. $\\textrm{Klient} ~~\\longleftarrow~~\\textrm{Serwer}~~:~~$ `server_hello_done`\n",
    "3. Faza 3\n",
    "    1. $\\textrm{Klient} ~~\\longrightarrow~~\\textrm{Serwer}~~:~~$ `certificate`\n",
    "    2. $\\textrm{Klient} ~~\\longrightarrow~~\\textrm{Serwer}~~:~~$ `client_key_exchange`\n",
    "    3. $\\textrm{Klient} ~~\\longrightarrow~~\\textrm{Serwer}~~:~~$ `certificate_verify`\n",
    "4. Faza 4\n",
    "    1. $\\textrm{Klient} ~~\\longrightarrow~~\\textrm{Serwer}~~:~~$ `change_cipher_spec`\n",
    "    1. $\\textrm{Klient} ~~\\longrightarrow~~\\textrm{Serwer}~~:~~$ `finished`\n",
    "    1. $\\textrm{Klient} ~~\\longleftarrow~~\\textrm{Serwer}~~:~~$ `change_cipher_spec`\n",
    "    1. $\\textrm{Klient} ~~\\longleftarrow~~\\textrm{Serwer}~~:~~$ `finished`"
   ]
  },
  {
   "cell_type": "markdown",
   "metadata": {
    "slideshow": {
     "slide_type": "subslide"
    }
   },
   "source": [
    "# Podprotokół powitalny - Faza 1\n",
    "\n",
    "Określenie parametrów bezpieczeństwa oraz innych parametrów sesji.\n"
   ]
  },
  {
   "cell_type": "markdown",
   "metadata": {
    "slideshow": {
     "slide_type": "subslide"
    }
   },
   "source": [
    "## Klient wysyła komunikat `client hello`:\n",
    "\n",
    "```\n",
    "Secure Sockets Layer\n",
    "    TLSv1.2 Record Layer: Handshake Protocol: Client Hello\n",
    "        Content Type: Handshake (22)\n",
    "        Version: TLS 1.0 (0x0301)\n",
    "        Length: 174\n",
    "        Handshake Protocol: Client Hello\n",
    "            Handshake Type: Client Hello (1)\n",
    "            Length: 170\n",
    "*           Version: TLS 1.2 (0x0303)\n",
    "*           Random: dde0e8228763ac8d890559b0a0675fde7f3e7ca71595b0f7...\n",
    "*           Session ID Length: 0\n",
    "            Cipher Suites Length: 28\n",
    "            Cipher Suites (14 suites)\n",
    "            Compression Methods Length: 1\n",
    "            Compression Methods (1 method)\n",
    "            Extensions Length: 101\n",
    "            Extension: Reserved (GREASE) (len=0)\n",
    "            Extension: renegotiation_info (len=1)\n",
    "            Extension: extended_master_secret (len=0)\n",
    "            Extension: SessionTicket TLS (len=0)\n",
    "            Extension: signature_algorithms (len=20)\n",
    "            Extension: status_request (len=5)\n",
    "            Extension: signed_certificate_timestamp (len=0)\n",
    "            Extension: application_layer_protocol_negotiation (len=14)\n",
    "            Extension: channel_id (len=0)\n",
    "            Extension: ec_point_formats (len=2)\n",
    "            Extension: supported_groups (len=10)\n",
    "            Extension: Reserved (GREASE) (len=1)\n",
    "```"
   ]
  },
  {
   "cell_type": "markdown",
   "metadata": {
    "slideshow": {
     "slide_type": "subslide"
    }
   },
   "source": [
    "#### Klient proponuje następujące algorytmy szyfrujące:\n",
    "```\n",
    "Cipher Suites (14 suites)\n",
    "Cipher Suite: Reserved (GREASE) (0xaaaa)\n",
    "Cipher Suite: TLS_ECDHE_ECDSA_WITH_AES_128_GCM_SHA256 (0xc02b)\n",
    "Cipher Suite: TLS_ECDHE_RSA_WITH_AES_128_GCM_SHA256 (0xc02f)\n",
    "Cipher Suite: TLS_ECDHE_ECDSA_WITH_AES_256_GCM_SHA384 (0xc02c)\n",
    "Cipher Suite: TLS_ECDHE_RSA_WITH_AES_256_GCM_SHA384 (0xc030)\n",
    "Cipher Suite: TLS_ECDHE_ECDSA_WITH_CHACHA20_POLY1305_SHA256 (0xcca9)\n",
    "Cipher Suite: TLS_ECDHE_RSA_WITH_CHACHA20_POLY1305_SHA256 (0xcca8)\n",
    "Cipher Suite: TLS_ECDHE_RSA_WITH_AES_128_CBC_SHA (0xc013)\n",
    "Cipher Suite: TLS_ECDHE_RSA_WITH_AES_256_CBC_SHA (0xc014)\n",
    "Cipher Suite: TLS_RSA_WITH_AES_128_GCM_SHA256 (0x009c)\n",
    "Cipher Suite: TLS_RSA_WITH_AES_256_GCM_SHA384 (0x009d)\n",
    "Cipher Suite: TLS_RSA_WITH_AES_128_CBC_SHA (0x002f)\n",
    "Cipher Suite: TLS_RSA_WITH_AES_256_CBC_SHA (0x0035)\n",
    "Cipher Suite: TLS_RSA_WITH_3DES_EDE_CBC_SHA (0x000a)\n",
    "```"
   ]
  },
  {
   "cell_type": "markdown",
   "metadata": {
    "slideshow": {
     "slide_type": "subslide"
    }
   },
   "source": [
    "## Serwer odsyłą komunikat `server_hello`:\n",
    "```\n",
    "TLSv1.2 Record Layer: Handshake Protocol: Server Hello\n",
    "    Content Type: Handshake (22)\n",
    "    Version: TLS 1.2 (0x0303)\n",
    "    Length: 80\n",
    "    Handshake Protocol: Server Hello\n",
    "        Handshake Type: Server Hello (2)\n",
    "        Length: 76\n",
    "        Version: TLS 1.2 (0x0303)\n",
    "        Random: bf825276fb009ec531cf20b6be9b3e4ca15002316d07b32f...\n",
    "        Session ID Length: 0\n",
    "*       Cipher Suite: TLS_ECDHE_RSA_WITH_AES_128_GCM_SHA256 (0xc02f)\n",
    "        Compression Method: null (0)\n",
    "        Extensions Length: 36\n",
    "        Extension: renegotiation_info (len=1)\n",
    "        Extension: ec_point_formats (len=4)\n",
    "        Extension: SessionTicket TLS (len=0)\n",
    "        Extension: extended_master_secret (len=0)\n",
    "        Extension: application_layer_protocol_negotiation (len=11)\n",
    "```"
   ]
  },
  {
   "cell_type": "markdown",
   "metadata": {
    "slideshow": {
     "slide_type": "subslide"
    }
   },
   "source": [
    "# Podprotokół powitalny - Faza 2\n",
    "\n",
    "Serwer przesyła swój certyfikat, albo nie.\n",
    "\n",
    "Serwer wysyła komunikat o wymianie klucza.\n",
    "\n",
    "Serwer prosi klienta o certyfikat, albo nie.\n",
    "\n",
    "Serwer jawnie daje znać, że to już koniec tej fazy."
   ]
  },
  {
   "cell_type": "markdown",
   "metadata": {
    "slideshow": {
     "slide_type": "subslide"
    }
   },
   "source": [
    "## Serwer wysyła komunikat `certificate`:\n",
    "```\n",
    "TLSv1.2 Record Layer: Handshake Protocol: Certificate\n",
    "    Content Type: Handshake (22)\n",
    "    Version: TLS 1.2 (0x0303)\n",
    "    Length: 938\n",
    "    Handshake Protocol: Certificate\n",
    "        Handshake Type: Certificate (11)\n",
    "        Length: 934\n",
    "        Certificates Length: 931\n",
    "        Certificates (931 bytes)\n",
    "```"
   ]
  },
  {
   "cell_type": "markdown",
   "metadata": {
    "slideshow": {
     "slide_type": "subslide"
    }
   },
   "source": [
    "Można podejrzeć ten certyfikat:\n",
    "```\n",
    "Certificate: 3082039c30820284a003020102020900a224f656f12c92c2... (id-at-commonName=ii.uj.edu.pl,id-at-organizationalUnitName=IIiMK,id-at-organizationName=UJ,id-at-localityName=Suwa\\303\\205\\302\\202ki,id-at-stateOrProvinceName=SU,id-at-count\n",
    "    signedCertificate\n",
    "    algorithmIdentifier (sha256WithRSAEncryption)\n",
    "    Padding: 0\n",
    "    encrypted: 7f434a8ba1f2cb1186828380bf6ced71f61f1fc127733c31...\n",
    "```"
   ]
  },
  {
   "cell_type": "markdown",
   "metadata": {
    "slideshow": {
     "slide_type": "subslide"
    }
   },
   "source": [
    "## Serwer wysyła komunikat `server_key_exchange`:\n",
    "```\n",
    "TLSv1.2 Record Layer: Handshake Protocol: Server Key Exchange\n",
    "    Content Type: Handshake (22)\n",
    "    Version: TLS 1.2 (0x0303)\n",
    "    Length: 300\n",
    "    Handshake Protocol: Server Key Exchange\n",
    "        Handshake Type: Server Key Exchange (12)\n",
    "        Length: 296\n",
    "        EC Diffie-Hellman Server Params\n",
    "            Curve Type: named_curve (0x03)\n",
    "            Named Curve: x25519 (0x001d)\n",
    "            Pubkey Length: 32\n",
    "            Pubkey: 12e0a0ac3d1490ded312dd57b87ec78486d237655ca9ce3b...\n",
    "            Signature Algorithm: rsa_pkcs1_sha256 (0x0401)\n",
    "            Signature Length: 256\n",
    "            Signature: c222a25f8ba06a7e7922d258a53dc98b3a5c642931c133fd...\n",
    "```"
   ]
  },
  {
   "cell_type": "markdown",
   "metadata": {
    "slideshow": {
     "slide_type": "subslide"
    }
   },
   "source": [
    "## Serwer wysyła komunikat `server_hello_done`:\n",
    "```\n",
    "TLSv1.2 Record Layer: Handshake Protocol: Server Hello Done\n",
    "    Content Type: Handshake (22)\n",
    "    Version: TLS 1.2 (0x0303)\n",
    "    Length: 4\n",
    "    Handshake Protocol: Server Hello Done\n",
    "        Handshake Type: Server Hello Done (14)\n",
    "        Length: 0\n",
    "```"
   ]
  },
  {
   "cell_type": "markdown",
   "metadata": {
    "slideshow": {
     "slide_type": "subslide"
    }
   },
   "source": [
    "# Podprotokół powitalny - Faza 3\n",
    "\n",
    "Jeżeli serwer poprosił to klient wysyła certyfikat (i ewentualnie dane, które pozwolą ten certyfikat zweryfikować)\n",
    "\n",
    "Klient wysyła komunikat wymiany klucza"
   ]
  },
  {
   "cell_type": "markdown",
   "metadata": {
    "slideshow": {
     "slide_type": "subslide"
    }
   },
   "source": [
    "## Klient wysyła komunikat `client_key_exchange`:\n",
    "```\n",
    "TLSv1.2 Record Layer: Handshake Protocol: Client Key Exchange\n",
    "    Content Type: Handshake (22)\n",
    "    Version: TLS 1.2 (0x0303)\n",
    "    Length: 37\n",
    "    Handshake Protocol: Client Key Exchange\n",
    "        Handshake Type: Client Key Exchange (16)\n",
    "        Length: 33\n",
    "        EC Diffie-Hellman Client Params\n",
    "            Pubkey Length: 32\n",
    "            Pubkey: e06c99a6e8befbd608e53e3edcfd24aa412ac4652f68acc8...\n",
    "```"
   ]
  },
  {
   "cell_type": "markdown",
   "metadata": {
    "slideshow": {
     "slide_type": "subslide"
    }
   },
   "source": [
    "# Podprotokół powitalny - Faza 4\n",
    "\n",
    "Zmiana zestawu szyfrów."
   ]
  },
  {
   "cell_type": "markdown",
   "metadata": {
    "slideshow": {
     "slide_type": "subslide"
    }
   },
   "source": [
    "## Klient wysyła komunikat `change_cipher_spec`:\n",
    "```\n",
    "TLSv1.2 Record Layer: Change Cipher Spec Protocol: Change Cipher Spec\n",
    "    Content Type: Change Cipher Spec (20)\n",
    "    Version: TLS 1.2 (0x0303)\n",
    "    Length: 1\n",
    "    Change Cipher Spec Message\n",
    "```"
   ]
  },
  {
   "cell_type": "markdown",
   "metadata": {
    "slideshow": {
     "slide_type": "subslide"
    }
   },
   "source": [
    "## Klient wysyła komunikat `finished`:\n",
    "```\n",
    "TLSv1.2 Record Layer: Handshake Protocol: Encrypted Handshake Message\n",
    "    Content Type: Handshake (22)\n",
    "    Version: TLS 1.2 (0x0303)\n",
    "    Length: 40\n",
    "    Handshake Protocol: Encrypted Handshake Message\n",
    "```"
   ]
  },
  {
   "cell_type": "markdown",
   "metadata": {
    "slideshow": {
     "slide_type": "subslide"
    }
   },
   "source": [
    "## Serwer wysyła komunikat:\n",
    "```\n",
    "TLSv1.2 Record Layer: Handshake Protocol: New Session Ticket\n",
    "    Content Type: Handshake (22)\n",
    "    Version: TLS 1.2 (0x0303)\n",
    "    Length: 202\n",
    "    Handshake Protocol: New Session Ticket\n",
    "        Handshake Type: New Session Ticket (4)\n",
    "        Length: 198\n",
    "        TLS Session Ticket\n",
    "            Session Ticket Lifetime Hint: 300\n",
    "            Session Ticket Length: 192\n",
    "            Session Ticket: d9cae2cbcebc2d0660f99d930ba68f5d06a387ea93c1dc88...\n",
    "\n",
    "```"
   ]
  },
  {
   "cell_type": "markdown",
   "metadata": {
    "slideshow": {
     "slide_type": "subslide"
    }
   },
   "source": [
    "## Serwer wysyła komunikat `change_cipher_spec`:\n",
    "```\n",
    "TLSv1.2 Record Layer: Change Cipher Spec Protocol: Change Cipher Spec\n",
    "    Content Type: Change Cipher Spec (20)\n",
    "    Version: TLS 1.2 (0x0303)\n",
    "    Length: 1\n",
    "    Change Cipher Spec Message\n",
    "```"
   ]
  },
  {
   "cell_type": "markdown",
   "metadata": {
    "slideshow": {
     "slide_type": "subslide"
    }
   },
   "source": [
    "## Serwer wysyła komunikat `finished`:\n",
    "```\n",
    "TLSv1.2 Record Layer: Handshake Protocol: Encrypted Handshake Message\n",
    "    Content Type: Handshake (22)\n",
    "    Version: TLS 1.2 (0x0303)\n",
    "    Length: 40\n",
    "    Handshake Protocol: Encrypted Handshake Message\n",
    "```"
   ]
  },
  {
   "cell_type": "markdown",
   "metadata": {
    "slideshow": {
     "slide_type": "slide"
    }
   },
   "source": [
    "# Podprotokół alarmowy\n"
   ]
  },
  {
   "cell_type": "markdown",
   "metadata": {
    "slideshow": {
     "slide_type": "subslide"
    }
   },
   "source": [
    "## Podprotokół alarmowy - _powaga sytuacji_\n",
    "\n",
    "- 1 - błąd o mniejszej powadze, wystarczy ostrzeżenie\n",
    "- 2 - błąd krytyczny \n",
    "    - przerywane aktualne połączenie\n",
    "    - pozostałe nawiązane działąją \n",
    "    - nie nawiązuje się nowych"
   ]
  },
  {
   "cell_type": "markdown",
   "metadata": {
    "slideshow": {
     "slide_type": "subslide"
    }
   },
   "source": [
    "## Podprotokół alarmowy - kody błędów\n",
    "\n",
    "- `unexpected_message`\n",
    "- `bad_record_mac`\n",
    "- `decompression_failure`\n",
    "- `handshake_failure`\n",
    "- `illegal_parameter`\n",
    "- `close_notify`\n",
    "- `no_certificate`\n",
    "- `bad_certificate`\n",
    "- `unsupprted_certificate`\n",
    "- `certificate_revoked`\n",
    "- `certificate_expired`\n",
    "- `certificate_unknwown`"
   ]
  },
  {
   "cell_type": "markdown",
   "metadata": {
    "slideshow": {
     "slide_type": "slide"
    }
   },
   "source": [
    "# Standard X.509\n",
    "\n",
    "- Definiuje strukturę certyfikatu\n",
    "- Definiuje protokoły uwierzytelniające"
   ]
  },
  {
   "cell_type": "markdown",
   "metadata": {
    "slideshow": {
     "slide_type": "subslide"
    }
   },
   "source": [
    "# Struktura certyfikatu X.509\n",
    "\n",
    "1. Wersja\n",
    "2. Numer Seryjny\n",
    "3. Identyfikator algorytmu kryptograficznego\n",
    "4. Nazwa wydawcy\n",
    "5. Okres ważności\n",
    "6. Nazwę podmiotu\n",
    "7. Informacja o kluczu publicznym podmiotu\n",
    "8. Unikatowy numer wydawcy\n",
    "9. Unikatowy identyfikator podmiotu"
   ]
  },
  {
   "cell_type": "markdown",
   "metadata": {
    "slideshow": {
     "slide_type": "subslide"
    }
   },
   "source": [
    "# Przykładowy certyfikat\n",
    "\n",
    "W katalogu, w którym znajduje się ten plik, znajduje się plik `googlecom.crt`, który przesyła strona `google.com` aby uwierzytelnić się przed użytkownikiem."
   ]
  },
  {
   "cell_type": "markdown",
   "metadata": {
    "slideshow": {
     "slide_type": "subslide"
    }
   },
   "source": [
    "# Czy trudno samemu wykonać taki certyfikat?"
   ]
  },
  {
   "cell_type": "markdown",
   "metadata": {
    "slideshow": {
     "slide_type": "fragment"
    }
   },
   "source": [
    "# NIE! :-)"
   ]
  },
  {
   "cell_type": "markdown",
   "metadata": {
    "slideshow": {
     "slide_type": "subslide"
    }
   },
   "source": [
    "# Generacja certyfikatu\n",
    "\n",
    "## Krok 1: Generacja pary kluczy dla algorytmu kryptografii asymetrycznej\n",
    "\n",
    "## Krok 2: Wygenerowanie żądania CSR (*Certificate Signing Request)\n",
    "\n",
    "## Krok 3: Wygenerowanie certyfikatu"
   ]
  },
  {
   "cell_type": "markdown",
   "metadata": {
    "slideshow": {
     "slide_type": "subslide"
    }
   },
   "source": [
    "# Krok 1 - generowanie kluczy\n",
    "\n",
    "## Używając narzędzia `openssl`\n",
    "\n",
    "```bash\n",
    "echo 'bskfajnejest' > passphrase.txt\n",
    "openssl genrsa -aes128 -out server.key -passout file:passphrase.txt 2048\n",
    "```\n",
    "\n"
   ]
  },
  {
   "cell_type": "markdown",
   "metadata": {
    "slideshow": {
     "slide_type": "fragment"
    }
   },
   "source": [
    "Ten i wszystkie następne kroki można wykonać w pythonie za pomocą biblioteki [`cryptography`](https://cryptography.io/en/latest/x509/tutorial/) oraz biblioteki [`pyOpenSSL`](https://pyopenssl.org/en/stable/api.html)."
   ]
  },
  {
   "cell_type": "markdown",
   "metadata": {
    "slideshow": {
     "slide_type": "subslide"
    }
   },
   "source": [
    "# Krok 2 - generowanie CSR\n",
    "\n",
    "## Używajac narzędzia `openssl`\n",
    "\n",
    "```bash\n",
    "openssl req -new -key server.key -out server.csr\n",
    "```"
   ]
  },
  {
   "cell_type": "markdown",
   "metadata": {
    "slideshow": {
     "slide_type": "subslide"
    }
   },
   "source": [
    "# Krok 3 - generowanie certyfikatu\n",
    "\n",
    "## Używajac narzędzia `openssl`\n",
    "\n",
    "```bash\n",
    "openssl x509 -req -days 10 -in server.csr -signkey server.key -out server.crt -outform PEM\n",
    "```"
   ]
  },
  {
   "cell_type": "markdown",
   "metadata": {
    "slideshow": {
     "slide_type": "slide"
    }
   },
   "source": [
    "# Czym się różnią te dwa certyfikaty???\n",
    "\n",
    "1. Łączymy się ze stroną `google.com`.\n",
    "2. Uruchamiamy obrazek dockera:\n",
    "```bash\n",
    "sudo docker run -it -P pawelbogdan/bsk:lecture_4 bash\n",
    "```\n",
    "3. W terminalu kontenera uruchamiamy usługę `apache2`:\n",
    "```bash\n",
    "service apache2 start\n",
    "```\n",
    "4. Łączymy się ze stroną `https://172.17.0.2`"
   ]
  },
  {
   "cell_type": "markdown",
   "metadata": {
    "slideshow": {
     "slide_type": "slide"
    }
   },
   "source": [
    "# PKI - Public Key Infrastructure"
   ]
  },
  {
   "cell_type": "markdown",
   "metadata": {
    "slideshow": {
     "slide_type": "slide"
    }
   },
   "source": [
    "# Źródła:\n",
    "\n",
    "1. [akadia](https://www.akadia.com/services/ssh_test_certificate.html)\n",
    "2. [ganeti.org](http://docs.ganeti.org/ganeti/2.5/html/design-x509-ca.html)"
   ]
  }
 ],
 "metadata": {
  "celltoolbar": "Slideshow",
  "kernelspec": {
   "display_name": "Python 3",
   "language": "python",
   "name": "python3"
  },
  "language_info": {
   "codemirror_mode": {
    "name": "ipython",
    "version": 3
   },
   "file_extension": ".py",
   "mimetype": "text/x-python",
   "name": "python",
   "nbconvert_exporter": "python",
   "pygments_lexer": "ipython3",
   "version": "3.6.3"
  },
  "livereveal": {
   "footer": "<h3>Bezpieczeństwo systemów komputerowych, 19 marca 2018, Paweł Bogdan</h3>",
   "theme": "serif"
  }
 },
 "nbformat": 4,
 "nbformat_minor": 2
}
