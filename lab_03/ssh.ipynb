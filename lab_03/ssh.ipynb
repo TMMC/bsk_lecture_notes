{
 "cells": [
  {
   "cell_type": "markdown",
   "metadata": {},
   "source": [
    "# Bezpieczeństwo Systemów Komputerowych\n",
    "\n",
    "## Ćwiczenia 3: Uwierzytelnianie przez hasło\n",
    "\n",
    "### 12 i 14 marca 2018 roku"
   ]
  },
  {
   "cell_type": "markdown",
   "metadata": {},
   "source": [
    "# Zadanie 1\n",
    "\n",
    "Uruchom obrazek `pawelbogdan/bsk:lecture_3` i zaloguj się na niego używając klienta `ssh`. Nazwa użytkownika to `bsk` a hasło `bardzotajnehaslo`."
   ]
  },
  {
   "cell_type": "markdown",
   "metadata": {},
   "source": [
    "# Zadanie 2\n",
    "\n",
    "Wygeneruj parę kluczy dla użytku klienta `ssh` i zaloguj się na działający kontener dockera przy użyciu wygenerowanych kluczy."
   ]
  },
  {
   "cell_type": "markdown",
   "metadata": {},
   "source": [
    "# Zadanie 3\n",
    "\n",
    "Zaloguj się do działającego kontenera dockera jako użytkownik `root` (jego hasło to też `root`)"
   ]
  },
  {
   "cell_type": "markdown",
   "metadata": {},
   "source": [
    "# Zadanie 4\n",
    "\n",
    "Zainstaluj na działąjącym obrazku dockera jakąś aplikację z graficznym interfejsem użytkownika (na przykład `gvim`) i uruchom ją tak, aby graficzny interfejs użytkownika wyświetlił się na maszynie gospodarzu dockera."
   ]
  },
  {
   "cell_type": "markdown",
   "metadata": {},
   "source": [
    "# Zadanie 5\n",
    "\n",
    "Skonfiguruj kontener dockera i nawiąż z nim połączenie `ssh` w taki sposób, żeby po wpisaniu w pasek adresu przeglądarki `localhost:12345` wyświetliła się Twój ulubiony portal informacyjny."
   ]
  },
  {
   "cell_type": "markdown",
   "metadata": {},
   "source": [
    "# Zadanie 6\n",
    "\n",
    "Skonfiguruj kontener dockera i nawiąż z nim połączenie w ten sposób, żeby po wpisaniu w pasek adresu przeglądarki `<adres_ip_contenera>:12345` wyświetliła się strona wygenerowana na komputerze gospodarza przez skrypt:"
   ]
  },
  {
   "cell_type": "code",
   "execution_count": 4,
   "metadata": {},
   "outputs": [
    {
     "name": "stdout",
     "output_type": "stream",
     "text": [
      "Process is interrupted.\n"
     ]
    }
   ],
   "source": [
    "%%bash\n",
    "python -m SimpleHTTPServer\n",
    "# Uruchamia się lekki serwer, strona dostępna pod adresem localhost:8000"
   ]
  },
  {
   "cell_type": "markdown",
   "metadata": {},
   "source": [
    "# Zadanie 7\n",
    "\n",
    "Przygotuj środowisko:\n",
    "- jesteś w stanie zalogować się bez podawania hasła na kontener dockera\n",
    "- jesteś w stanie zalogować się bez podowania hasła na serwer `elf.ii.uj.edu.pl`\n",
    "\n",
    "Połącz się z kontenerem dockera w ten sposób, żeby następnie połączyć się z serwerem `elf.ii.uj.edu.pl` bez podawania hasła."
   ]
  },
  {
   "cell_type": "markdown",
   "metadata": {},
   "source": [
    "# Praca domowa\n",
    "\n",
    "Przygotuj środowisko, które zaprezentuje działanie protokołu `ssh` z narzędziem `kerberos`."
   ]
  },
  {
   "cell_type": "code",
   "execution_count": null,
   "metadata": {},
   "outputs": [],
   "source": []
  }
 ],
 "metadata": {
  "kernelspec": {
   "display_name": "Python 3",
   "language": "python",
   "name": "python3"
  },
  "language_info": {
   "codemirror_mode": {
    "name": "ipython",
    "version": 3
   },
   "file_extension": ".py",
   "mimetype": "text/x-python",
   "name": "python",
   "nbconvert_exporter": "python",
   "pygments_lexer": "ipython3",
   "version": "3.5.3"
  }
 },
 "nbformat": 4,
 "nbformat_minor": 2
}
