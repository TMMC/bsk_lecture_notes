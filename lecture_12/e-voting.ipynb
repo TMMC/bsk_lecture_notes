{
 "cells": [
  {
   "cell_type": "markdown",
   "metadata": {
    "slideshow": {
     "slide_type": "slide"
    }
   },
   "source": [
    "# Głosowanie elektroniczne\n",
    "## Paweł Bogdan\n",
    "## 24 maja 2018\n",
    "### Bezpieczeństwo Systemów komputerowych"
   ]
  },
  {
   "cell_type": "markdown",
   "metadata": {
    "slideshow": {
     "slide_type": "slide"
    }
   },
   "source": [
    "# Cechy głosowania\n",
    "\n",
    "### Artykuł 96 punkt 2 Konstytucji RP\n",
    "\n",
    "> Wybory do Sejmu są powszechne, równe, bezpośrednie i proporcjonalne oraz odbywają się w głosowaniu tajnym.\n",
    "\n",
    "### Artykuł 97 punkt 2 Konstytucji RP\n",
    "\n",
    "> Wybory do Senatu są powszechne, bezpośrednie i odbywają się w głosowaniu tajnym."
   ]
  },
  {
   "cell_type": "markdown",
   "metadata": {
    "slideshow": {
     "slide_type": "subslide"
    }
   },
   "source": [
    "## Wybory pięcioprzymiotnikowe\n",
    "\n",
    "Dokładny opis można znaleźć na [polskiej Wikipedii](https://pl.wikipedia.org/wiki/Wybory_pi%C4%99cioprzymiotnikowe):\n",
    "\n",
    "- tajne\n",
    "- bezpośrednie\n",
    "- równe\n",
    "- powszechne\n",
    "- proporcjonalne"
   ]
  },
  {
   "cell_type": "markdown",
   "metadata": {
    "slideshow": {
     "slide_type": "slide"
    }
   },
   "source": [
    "# Kryterium Condorceta\n",
    "\n",
    "Cytując [polską Wikipedię](https://pl.wikipedia.org/wiki/Kryterium_Condorceta)\n",
    "\n",
    "> zwycięzcą według Condorceta jest ten kandydat, który, kiedy zestawieni są parami wszyscy kandydaci, jest preferowany przez większość wyborców"
   ]
  },
  {
   "cell_type": "markdown",
   "metadata": {
    "slideshow": {
     "slide_type": "slide"
    }
   },
   "source": [
    "# Metoda Bordy\n",
    "\n",
    "Cytując [polską Wikipedię](https://pl.wikipedia.org/wiki/Metoda_Bordy)\n",
    "\n",
    "> Głosowanie polega na przyznaniu punktów reprezentujących preferencje wszystkich głosujących każdemu z kandydatów. Końcowe uszeregowanie wynika z sumy punktów, jakie uzyskał każdy kandydat. Ten, który zdobędzie najwięcej punktów jest zwycięzcą."
   ]
  },
  {
   "cell_type": "markdown",
   "metadata": {
    "slideshow": {
     "slide_type": "fragment"
    }
   },
   "source": [
    "### Niezgodna z kryterium Condorceta"
   ]
  },
  {
   "cell_type": "markdown",
   "metadata": {
    "slideshow": {
     "slide_type": "slide"
    }
   },
   "source": [
    "# Metoda Schulzego\n",
    "\n",
    "Cytując [polską Wikipedię](https://pl.wikipedia.org/wiki/Metoda_Schulzego)\n",
    "\n",
    "> Głosowanie odbywa się przez wpisanie liczby przy każdym kandydacie. Wyborca oddaje głos, oznaczając wybranych kandydatów numerami: zaznaczając '1' obok najbardziej preferowanego kandydata, '2' obok następnego w kolejności preferencji itd."
   ]
  },
  {
   "cell_type": "markdown",
   "metadata": {
    "slideshow": {
     "slide_type": "fragment"
    }
   },
   "source": [
    "### Zgodna z kryterium Condorceta"
   ]
  },
  {
   "cell_type": "markdown",
   "metadata": {
    "slideshow": {
     "slide_type": "slide"
    }
   },
   "source": [
    "# Wykorzystanie komputerów w przeprowadzeniu wyborów"
   ]
  },
  {
   "cell_type": "markdown",
   "metadata": {
    "slideshow": {
     "slide_type": "subslide"
    }
   },
   "source": [
    "## Podział\n",
    "\n",
    "1. Pomoc przy wizualizacji \n",
    "2. Głosowanie wspomagane elektroniczne\n",
    "3. Głosowanie internetowe"
   ]
  },
  {
   "cell_type": "markdown",
   "metadata": {
    "slideshow": {
     "slide_type": "subslide"
    }
   },
   "source": [
    "## Przykłady\n",
    "\n",
    "- Estonia - głosowanie przez Internet od 2005\n",
    "- Holandia - głosowanie wspomagane elektronicznie od lat 90.\n",
    "- USA - maszyny wyborcze\n",
    "- Polska - wciąż czekamy "
   ]
  },
  {
   "cell_type": "markdown",
   "metadata": {
    "slideshow": {
     "slide_type": "slide"
    }
   },
   "source": [
    "# Trudności w e-wyborach\n",
    "\n",
    "- Autentyczność głosów\n",
    "- Anonimowość głosowania\n",
    "- Możliwość weryfikacji, czy głos policzono (przy anonimowości)\n",
    "- Ochrona przed oszustwem"
   ]
  },
  {
   "cell_type": "markdown",
   "metadata": {
    "slideshow": {
     "slide_type": "slide"
    }
   },
   "source": [
    "# Wymagania stawiane e-wyborom\n",
    "\n",
    "- Zupełność - policzenie wszystkich ważnych głosów\n",
    "- Niezawodność - wykrywanie oszustw\n",
    "- Poufność\n",
    "- Niepowtarzalność - każdy głosujący nie może powtarzać głosowania\n",
    "- Weryfikacja głosujących\n",
    "- Weryfikalność - nie można sfałszować wyników\n",
    "- Obiektywność"
   ]
  },
  {
   "cell_type": "markdown",
   "metadata": {
    "slideshow": {
     "slide_type": "slide"
    }
   },
   "source": [
    "# Prosty protokół\n",
    "\n",
    "- Każdy głosujący ma dwie pary kluczy $(E_i, D_i)$ oraz $(R_i, Q_i)$\n",
    "- Jest trzech użytkowników: Alicja, Bob i Charlie"
   ]
  },
  {
   "cell_type": "markdown",
   "metadata": {
    "slideshow": {
     "slide_type": "subslide"
    }
   },
   "source": [
    "## Etap rejestracji\n",
    "\n",
    "- Wspólnie decydują kto może głosować\n",
    "- Ustalają kolejność głosowania"
   ]
  },
  {
   "cell_type": "markdown",
   "metadata": {
    "slideshow": {
     "slide_type": "subslide"
    }
   },
   "source": [
    "## Etap głosowania\n",
    "\n",
    "- Głosujący $G_i$ przygotowuje głos $v_i$ i losuje wartości $r_i$ i $q_i$\n",
    "- Oblicza wartość: $$temp_i = E_aE_bE_c(q_i, v_i)$$\n",
    "- Oblicza kolejną wartość: $$R_aR_bR_c(r_i, temp)$$\n",
    "- Każdy uczestnik głosowania wysyła swoją wartość do pierwszej osoby na liście - na przykład Alicji\n",
    "- Alicja ma 3 wiadomości:\n",
    "    - $R_aR_bR_c(r_a, temp_a)$\n",
    "    - $R_aR_bR_c(r_b, temp_b)$\n",
    "    - $R_aR_bR_c(r_c, temp_c)$"
   ]
  },
  {
   "cell_type": "markdown",
   "metadata": {
    "slideshow": {
     "slide_type": "subslide"
    }
   },
   "source": [
    "## Etap weryfikacji\n",
    "\n",
    "- Alicja usuwa jeden poziom zabezpieczenia:\n",
    "    - $R_bR_c(r_a, temp_a)$\n",
    "    - $R_bR_c(r_a, temp_a)$\n",
    "    - $R_bR_c(r_a, temp_a)$\n",
    "- I w losowej kolejności wysyła do Boba\n",
    "- Bob robi podobnie i wysyła do Charliego\n",
    "- Charlie wysyła do Alicji podpisane przez siebie wartości $temp_a$, $temp_b$ i $temp_c$"
   ]
  },
  {
   "cell_type": "markdown",
   "metadata": {
    "slideshow": {
     "slide_type": "subslide"
    }
   },
   "source": [
    "## Etap otwarcia\n",
    "- Alicja usuwa jeden poziom szyfrowania:\n",
    "    - $E_bE_c(q_a,v_a)$\n",
    "    - $E_bE_c(q_b,v_b)$\n",
    "    - $E_bE_c(q_c,v_c)$\n",
    "- podpisuje te wartości i wysyła do Boba\n",
    "- Bob postępuje podobnie\n",
    "- Charlie też, następnie publikuje wyniki (wartości $v_i$ razem z wartościami $q_i$)"
   ]
  },
  {
   "cell_type": "markdown",
   "metadata": {
    "slideshow": {
     "slide_type": "subslide"
    }
   },
   "source": [
    "## Potencjalne próby oszustwa\n",
    "\n",
    "- Odmowa głosowania\n",
    "- Wielokrotne głosowanie\n",
    "- Podstawianie głosów"
   ]
  },
  {
   "cell_type": "markdown",
   "metadata": {
    "slideshow": {
     "slide_type": "subslide"
    }
   },
   "source": [
    "## Wady\n",
    "\n",
    "- Niepraktyczne dla wielu głosujących\n",
    "- Trudny początek - wspólna decyzja wsystkich użytkowników\n",
    "- Wszyscy głosujący muszą się spotkać\n",
    "- Jeden oszust rozwala całe głosowanie"
   ]
  },
  {
   "cell_type": "markdown",
   "metadata": {
    "slideshow": {
     "slide_type": "slide"
    }
   },
   "source": [
    "# Protokół Chauma\n",
    "\n",
    "- Istnieje zaufany mieszacz, który upublicznia funkcję szyfrującą $E_x$, z która związana jest tajna funkcja deszyfrująca $D_x$\n",
    "- Alicja wysyła do Boba wiadomość $m$ wykorzystując mieszacz (Bob dostaje wiadomość, ale nie będzie wiedział od kogo):\n",
    "    1. Alicja wyznacza wiadomość: $E_x(r,m,b)$, gdzie $r$ to wartość losowa a $b$ to identyfikator Boba\n",
    "    2. Alicja wysyła wiadomość do mieszacza, który odszyfrowuje wiadomość\n",
    "    3. Mieszacz wysyła $m$ do Boba\n",
    "    4. Mieszacz wysyła komunikaty w innej kolejności niż je dostał"
   ]
  },
  {
   "cell_type": "markdown",
   "metadata": {
    "slideshow": {
     "slide_type": "subslide"
    }
   },
   "source": [
    "## Założenia\n",
    "\n",
    "- Istnieje administrator $TA$ - zaufana strona protokołu\n",
    "- Wszyscy uczestnicy komunikują się przy użyciu mieszacza\n",
    "- Każdy głosujący ma pseudonim (klucz publiczny przydatny do potwierdzania podpisu cyfrowego)"
   ]
  },
  {
   "cell_type": "markdown",
   "metadata": {
    "slideshow": {
     "slide_type": "subslide"
    }
   },
   "source": [
    "## Faza inicjalizacji\n",
    "\n",
    "- Administrator przygotowuje szyfrogramy $E_v(r_i,K_i,\\pi_i)$, gdzie $r_i$ jest wartością losową $K_i$ to klucz publiczny a $\\pi_i$ to pseudonim nadany przez administratora.\n",
    "- Szyfrogramów jest tyle ilu jest głosujących\n",
    "- Administrator wysyła wszystkie szyfrogramy do mieszacza.\n",
    "- Mieszacz wysyła po jednym szyfrogramie do głosujących, razem z informacją jak te szyfrogramy odszyfrować (zaszyfrowane kluczem publicznym głosującego)"
   ]
  },
  {
   "cell_type": "markdown",
   "metadata": {
    "slideshow": {
     "slide_type": "subslide"
    }
   },
   "source": [
    "## Głosowanie i zliczanie\n",
    "\n",
    "- Każdy głosujący przygotowuje głos: $$E_v(r_i,\\pi, E_{K_i}(q_i,v_i)$$ gdzie $q_i$ to wartość losowa a $v_i$ to głos\n",
    "- Wysyła swój glos do mieszacza\n",
    "- Mieszacz zbiera wszystkie głosy i wysyła listę głosów w postaci $(\\pi_i, E_{K_i}(q_i, v_i))$ bezpiecznym kanałem do administratora"
   ]
  },
  {
   "cell_type": "markdown",
   "metadata": {
    "slideshow": {
     "slide_type": "slide"
    }
   },
   "source": [
    "# Protokół Boyda\n",
    "\n",
    "- Siła opiera się na problemie logarytmu dyskretnego"
   ]
  },
  {
   "cell_type": "markdown",
   "metadata": {
    "slideshow": {
     "slide_type": "subslide"
    }
   },
   "source": [
    "## Inicjalizacja\n",
    "\n",
    "- Administrator wybiera 3 liczby: $a$, $b$ i $c$, takie, że $a$ i $b$ są względnie pierwsze z $p-1$ (gdzie $p$ to liczba pierwsza) oraz spełniona jest kongruencja: $$a \\cdot b \\cdot c \\equiv 1 \\mod p - 1$$\n",
    "- Administrator publikuje $a$ oraz $e \\in \\mathbb{Z}_p^*$"
   ]
  },
  {
   "cell_type": "markdown",
   "metadata": {
    "slideshow": {
     "slide_type": "subslide"
    }
   },
   "source": [
    "## Rejestracja\n",
    "\n",
    "- Każdy głosujący tworzy wiadomość $$m_i=(\\alpha, r_i, v_i)$$ gdzie $\\alpha$ jest wspólny dla wszystkich głosujących, $r_i$ jest losowe a $v_i$ to głos\n",
    "- Następnie tworzy: $$B_i \\equiv e^{m_i} \\mod p$$ oraz wyznacza takie $a_{i_0}$ oraz $a_{i_1}$, że $$a_{i_0} \\cdot a_{i_1} \\equiv a \\mod p - 1$$\n",
    "- Każdy głosujący wysyła wartośc $B_i^{a_{i_0}}$ do administratora\n",
    "- Administrator sprawdza tożsamość głosującego i zapisuje, że głosujący oddał głos.\n",
    "- Administrator wysyła do głosującego wiadomość $B_i^{a_{i_0} \\cdot b}$"
   ]
  },
  {
   "cell_type": "markdown",
   "metadata": {
    "slideshow": {
     "slide_type": "subslide"
    }
   },
   "source": [
    "## Głosowanie i zliczanie głosów\n",
    "\n",
    "- Głosujący oddają głosy w postaci $$\\left( B_i^{a_{i_0} \\cdot b} \\right)^{a_{i_1}} \\equiv B_i^{a \\cdot b} \\mod p$$\n",
    "- Taki głos jest wysyłany anonimowym kanałem do administratora wraz z oryginalną wiadomością $m_i$\n",
    "- Administrator odczytuje głos: $$\\left( B_i^{a \\cdot b} \\right)^{c} \\equiv B_i \\mod p$$\n",
    "- Następnie oblicza $$B_i^* \\equiv e^{m_i} \\mod p$$ i sprawdza czy $B_i = B_i^*$, jeżeli $\\alpha$ się zgadza to głos jest akceptowany\n",
    "- Administrator publikuje wyniki razem z wartościami $m_i$"
   ]
  },
  {
   "cell_type": "markdown",
   "metadata": {
    "slideshow": {
     "slide_type": "subslide"
    }
   },
   "source": [
    "## Wada?\n",
    "\n",
    "Administrator może podejrzeć głosy i dodać dowolnie wiele głosów"
   ]
  },
  {
   "cell_type": "markdown",
   "metadata": {
    "slideshow": {
     "slide_type": "slide"
    }
   },
   "source": [
    "# Protokół Fujioka-Okamoto-Ohta\n",
    "\n",
    "- Role w protokole:\n",
    "    - Głosujący\n",
    "    - Administrator $A$\n",
    "    - Zliczający głosy $C$"
   ]
  },
  {
   "cell_type": "markdown",
   "metadata": {
    "slideshow": {
     "slide_type": "subslide"
    }
   },
   "source": [
    "## Założenia\n",
    "\n",
    "- Zliczający używa anonimowego kanału do komunikacji z głosującymi\n",
    "- Zliczający wykorzystuje schemat przypisania bitów\n",
    "- Każdy głosujący ma podpis cyfrowy\n",
    "- Administrator składa podpisy _in blanco_"
   ]
  },
  {
   "cell_type": "markdown",
   "metadata": {
    "slideshow": {
     "slide_type": "subslide"
    }
   },
   "source": [
    "### Schemat przypisania bitów\n",
    "\n",
    "- Są dwie funkcje:\n",
    "    - $f$ - szyfrująca łańcuchy binarne\n",
    "    - $g$ - deszyfrująca - ujawnia wartości bitów w wejściowym szyfrogramie\n",
    "    \n",
    "### Podpis _in blanco_\n",
    "\n",
    "- Są dwie funkcje:\n",
    "    - $B$ - pobiera głos $x$ i losową liczbę $r$ i wyznacza wartość $e = B(x, r)$\n",
    "    - $U$ - Zamienia podpis _in blanco_ na podpis zwykły $U(d, r) = SG_A(x)$, $d$ jest wartością podpisu _in blanco_ na wartości $e$"
   ]
  },
  {
   "cell_type": "markdown",
   "metadata": {
    "slideshow": {
     "slide_type": "subslide"
    }
   },
   "source": [
    "## Rejestracja\n",
    "\n",
    "- Głosujący wybiera głos $v_i$ (jako łańcuch binarny) i tworzy paczkę: $x_i = f(v_i, k_i)$ gdzie $k_i$ jest losową wartością\n",
    "- Głosujący zaślepia wyliczoną wartość: $e_i = B(x_i, r_i)$, gdzie $r_i$ jest wartością losową\n",
    "- Głosujący podpisuje $e_i$: $s_i = SG_i(e_i)$ i wysyła $(ID_i, e_i, s_i)$ do administratora\n",
    "- Administrator sprawdza, czy głosujący może głosować, czy nie zagłosował wcześniej, czy $s_i$ jest poprawne\n",
    "- Jeżeli wszystko jest w porządku, to Administrator generuje $d_i = SG_A(e_i)$ i odsyła go do głosującego\n",
    "- Kiedy mija czas rejestracji, to administrator publikuje listę $(ID_i, e_i, s_i)$"
   ]
  },
  {
   "cell_type": "markdown",
   "metadata": {
    "slideshow": {
     "slide_type": "subslide"
    }
   },
   "source": [
    "## Głosowanie\n",
    "\n",
    "- Każdy głosujący odślepia certyfikat $d_i$ przez wyliczenie $y_i = SG_A(x_i) = U(d_i, r_i)$\n",
    "- Głosujący sprawdza, czy $y_i$ jest prawidłowym podpisem administratora, jeżeli tak to wysyła do zliczającego głosy $(x_i, y_i)$\n",
    "- Zliczający sprawdza podpis $y_i$, jeżeli się zgadza to $C$ wstawia trójkę $(l,x_l,y_l)$ na listę ($l$ jest numerem porządkowym na tej liście)\n",
    "- Gdy już wszyscy oddadzą głosy, to zliczający ujawnie listę"
   ]
  },
  {
   "cell_type": "markdown",
   "metadata": {
    "slideshow": {
     "slide_type": "subslide"
    }
   },
   "source": [
    "## Zliczenia głosów\n",
    "\n",
    "- Trzeba sprawdzić, czy liczba głosów odpowiada liczbie głosujących\n",
    "- Każdy głosujący sprawdza, czy jego głos jest na liście\n",
    "- Jeżeli sprawdzenie się powiedzie, to każdy głosujący wysyła anonimowym kanałem do zliczającego liczbę $l$ odpowiadającą jego głosowi wraz z liczbą $k_i$\n",
    "- Zliczający odkrywa głosy $v_i = g(x_k, k_i)$"
   ]
  },
  {
   "cell_type": "markdown",
   "metadata": {
    "slideshow": {
     "slide_type": "slide"
    }
   },
   "source": [
    "# Źródła\n",
    "\n",
    "- Książka _Teoria bezpieczeństwa systemów komputerowych_ autorstwa J. Pieprzyka, T. Hardjono, J. Seberry wydana przez Helion\n",
    "- Strony na Wikipedii:\n",
    "    - Artykuły o wyborach na [polskiej Wikipedii](https://pl.wikipedia.org/wiki/Wybory) i na [angielskojęzycznej](https://en.wikipedia.org/wiki/Election)\n",
    "    - Artykuł o głosowaniu na [polskiej Wikipedii](https://pl.wikipedia.org/wiki/G%C5%82osowanie) i na [angielskojęzycznej](https://en.wikipedia.org/wiki/Voting)\n",
    "    - Artykuł o tajności wyborów na [polskiej Wikipedii](https://en.wikipedia.org/wiki/Voting) i na [angielskojęzycznej](https://en.wikipedia.org/wiki/Secret_ballot)\n",
    "    - Artykuł o ordynacji wyborczej na [polskiej Wikipedii](https://pl.wikipedia.org/wiki/Ordynacja_wyborcza) i na [angielskojęzycznej](https://en.wikipedia.org/wiki/Electoral_system)\n",
    "    - Artykuł o głosowaniu elektronicznym na [polskiej Wikipedii](https://pl.wikipedia.org/wiki/G%C5%82osowanie_elektroniczne) i na [angielskojęzycznej](https://en.wikipedia.org/wiki/Electronic_voting)\n",
    "    - Artykuł o demokracji elektronicznej na [polskiej Wikipedii](https://pl.wikipedia.org/wiki/Demokracja_elektroniczna) i na [angielskojęzycznej](https://en.wikipedia.org/wiki/E-democracy)\n",
    "    - Artykuł o przykładach elektronicznego głosowania na [polskiej Wikipedii](https://pl.wikipedia.org/wiki/Przyk%C5%82ady_elektronicznego_g%C5%82osowania) i na [angielskojęzycznej](https://en.wikipedia.org/wiki/Electronic_voting_by_country)\n",
    "    - Artykuł o kryterium Condorceta na [polskiej Wikipedii](https://pl.wikipedia.org/wiki/Kryterium_Condorceta) i na [angielskojęzycznej](https://en.wikipedia.org/wiki/Condorcet_criterion)\n",
    "    - Artykuł o metodzie Schulzego na [polskiej Wikipedii](https://pl.wikipedia.org/wiki/Metoda_Schulzego) i na [angielskojęzycznej](https://en.wikipedia.org/wiki/Schulze_method)\n",
    "    - Artykuł o metodzie Bordy na [polskiej Wikipedii](https://pl.wikipedia.org/wiki/Metoda_Bordy) i na [angielskojęzycznej](https://en.wikipedia.org/wiki/Borda_count)\n",
    "- [Rozdział IV Polskiej Konstytucji](http://www.sejm.gov.pl/prawo/konst/polski/4.htm)"
   ]
  }
 ],
 "metadata": {
  "celltoolbar": "Slideshow",
  "kernelspec": {
   "display_name": "Python 3",
   "language": "python",
   "name": "python3"
  },
  "language_info": {
   "codemirror_mode": {
    "name": "ipython",
    "version": 3
   },
   "file_extension": ".py",
   "mimetype": "text/x-python",
   "name": "python",
   "nbconvert_exporter": "python",
   "pygments_lexer": "ipython3",
   "version": "3.6.5rc1"
  },
  "livereveal": {
   "footer": "<h3>Bezpieczeństwo systemów komputerowych, 24 maja 2018, Paweł Bogdan</h3>",
   "theme": "serif"
  }
 },
 "nbformat": 4,
 "nbformat_minor": 2
}
