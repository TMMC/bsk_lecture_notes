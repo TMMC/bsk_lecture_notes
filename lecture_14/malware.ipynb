{
 "cells": [
  {
   "cell_type": "markdown",
   "metadata": {
    "slideshow": {
     "slide_type": "slide"
    }
   },
   "source": [
    "# Analiza szkodliwego oprogramowania\n",
    "## Paweł Bogdan\n",
    "## 4 czerwca 2018\n",
    "### Bezpieczeństwo Systemów komputerowych"
   ]
  },
  {
   "cell_type": "markdown",
   "metadata": {
    "slideshow": {
     "slide_type": "slide"
    }
   },
   "source": [
    "# Disclaimer\n",
    "\n",
    "Prezentowane treści mają charakter **edukacyjny**.\n",
    "\n",
    "Prezentacja pokazuje techniki testowania swojej sieci bezprzewodowej.\n",
    "\n",
    "Wykorzystanie tych technik do siedzi cudzych jest **zabronione**.\n",
    "\n",
    "Autor dokumentu nie bierze odpowiedzialności za to, w jakim celu wiedza przedstawiona w dokumencie zostanie wykorzystana."
   ]
  },
  {
   "cell_type": "markdown",
   "metadata": {
    "slideshow": {
     "slide_type": "subslide"
    }
   },
   "source": [
    "## Artykuł 267 Kodeksu Karnego\n",
    "\n",
    "\n",
    "> §1. Kto bez uprawnienia uzyskuje dostęp do informacji dla niego nieprzeznaczonej, otwierając zamknięte pismo, podłączając się do sieci telekomunikacyjnej lub przełamując albo omijając elektroniczne, magnetyczne, informatyczne lub inne szczególne jej zabezpieczenie, podlega grzywnie, karze ograniczenia wolności albo **pozbawienia wolności do lat 2**.  "
   ]
  },
  {
   "cell_type": "markdown",
   "metadata": {
    "slideshow": {
     "slide_type": "slide"
    }
   },
   "source": [
    "# Źródła\n",
    "\n",
    "- Książka zatytułowana _Cyberwojna. Metody działania hakerów_, napisna przez Dawida Farbańca"
   ]
  },
  {
   "cell_type": "markdown",
   "metadata": {
    "slideshow": {
     "slide_type": "slide"
    }
   },
   "source": [
    "# Rodzaje złożliwego oprogramowania"
   ]
  },
  {
   "cell_type": "markdown",
   "metadata": {
    "slideshow": {
     "slide_type": "subslide"
    }
   },
   "source": [
    "### _Backdoor_"
   ]
  },
  {
   "cell_type": "markdown",
   "metadata": {
    "slideshow": {
     "slide_type": "subslide"
    }
   },
   "source": [
    "### Wirus komputerowy\n",
    "\n",
    "- **wirusy rezydentne** - działają przez cały czas działania systemu operacyjnego\n",
    "- **wirusy nierezydentne** - uruchamiają się i szukają celu, po wykonaniu celu kończą działanie\n",
    "- **makrowirusy** - dołączane do plików programów biurowych\n",
    "- **wirusy sektora rozruchowego** - infekują sektor rozruchowy (dysków i pamięci przenośnych)\n",
    "- **wirusy polimorficzne** - szyfrują swój kod źródłowy\n",
    "- **wirusy oligomorficzne** - ukrywają swój kod przez inne schematy\n",
    "- **wirusy metamorficzne** - modyfikują swój kod źródłowy"
   ]
  },
  {
   "cell_type": "markdown",
   "metadata": {
    "slideshow": {
     "slide_type": "subslide"
    }
   },
   "source": [
    "### _File binder_"
   ]
  },
  {
   "cell_type": "markdown",
   "metadata": {
    "slideshow": {
     "slide_type": "subslide"
    }
   },
   "source": [
    "### _Keylogger_"
   ]
  },
  {
   "cell_type": "markdown",
   "metadata": {
    "slideshow": {
     "slide_type": "subslide"
    }
   },
   "source": [
    "### _Ransomware_\n",
    "\n",
    "Oprogramowanie szantażujące"
   ]
  },
  {
   "cell_type": "markdown",
   "metadata": {
    "slideshow": {
     "slide_type": "subslide"
    }
   },
   "source": [
    "### Koń trojański"
   ]
  },
  {
   "cell_type": "markdown",
   "metadata": {
    "slideshow": {
     "slide_type": "subslide"
    }
   },
   "source": [
    "### _Adware_"
   ]
  },
  {
   "cell_type": "markdown",
   "metadata": {
    "slideshow": {
     "slide_type": "subslide"
    }
   },
   "source": [
    "### Bakteria komputerowa\n",
    "\n",
    "Czasem nazywana _Wabbit_ lub _Rabbit_ - rozmnaża się tak długo, jak ma miejsce"
   ]
  },
  {
   "cell_type": "markdown",
   "metadata": {
    "slideshow": {
     "slide_type": "subslide"
    }
   },
   "source": [
    "### Bomba logiczna"
   ]
  },
  {
   "cell_type": "markdown",
   "metadata": {
    "slideshow": {
     "slide_type": "subslide"
    }
   },
   "source": [
    "### _Botnet_"
   ]
  },
  {
   "cell_type": "markdown",
   "metadata": {
    "slideshow": {
     "slide_type": "subslide"
    }
   },
   "source": [
    "### _Chargeware_"
   ]
  },
  {
   "cell_type": "markdown",
   "metadata": {
    "slideshow": {
     "slide_type": "subslide"
    }
   },
   "source": [
    "### _Exploit_"
   ]
  },
  {
   "cell_type": "markdown",
   "metadata": {
    "slideshow": {
     "slide_type": "subslide"
    }
   },
   "source": [
    "### _Form grabber_"
   ]
  },
  {
   "cell_type": "markdown",
   "metadata": {
    "slideshow": {
     "slide_type": "subslide"
    }
   },
   "source": [
    "### _Hoax_\n",
    "\n",
    "Wiadomość, która zachęca do rozesłania tej wiadomości do wszystkich swoich znajomych"
   ]
  },
  {
   "cell_type": "markdown",
   "metadata": {
    "slideshow": {
     "slide_type": "subslide"
    }
   },
   "source": [
    "### Robak"
   ]
  },
  {
   "cell_type": "markdown",
   "metadata": {
    "slideshow": {
     "slide_type": "subslide"
    }
   },
   "source": [
    "### _Rootkit_\n",
    "\n",
    "Ukrywanie złośliwego oprogramowania"
   ]
  },
  {
   "cell_type": "markdown",
   "metadata": {
    "slideshow": {
     "slide_type": "subslide"
    }
   },
   "source": [
    "### _Stealer_"
   ]
  },
  {
   "cell_type": "markdown",
   "metadata": {
    "slideshow": {
     "slide_type": "slide"
    }
   },
   "source": [
    "# Architektura procesorów x86"
   ]
  },
  {
   "cell_type": "markdown",
   "metadata": {
    "slideshow": {
     "slide_type": "subslide"
    }
   },
   "source": [
    "## Organizacja pamięci\n",
    "\n",
    "- Poziomy:\n",
    "    - _Cache_\n",
    "    - Pamięć RAM\n",
    "    - Dysk twardy\n",
    "- Rodzaje:\n",
    "    - Wirtualna\n",
    "    - Fizyczna"
   ]
  },
  {
   "cell_type": "markdown",
   "metadata": {
    "slideshow": {
     "slide_type": "subslide"
    }
   },
   "source": [
    "## Organizacja pamięci\n",
    "\n",
    "- Jednostki\n",
    "    - bit\n",
    "    - półbajt i bajt\n",
    "    - słowo (dwa bajty)"
   ]
  },
  {
   "cell_type": "markdown",
   "metadata": {
    "slideshow": {
     "slide_type": "subslide"
    }
   },
   "source": [
    "### Segmentowy model pamięci\n",
    "\n",
    "- Dzielimy pamięć programu na niezależne przestrzenie adresowe\n",
    "- Zazwyczaj w jednym segmencie umieszczamy kod, w innym dane\n",
    "- Możemy zdefiniować do 16383 segmentów\n",
    "- Jednocześnie odwołujemy się segmentów przez selektory:\n",
    "    - **CS** - segment kodu\n",
    "    - **DS** - segment danych\n",
    "    - **ES** - segment dodatkowy\n",
    "    - **FS** - segment ogólnego przeznaczenia\n",
    "    - **GS** - segment ogólnego przeznaczenia\n",
    "    - **SS** - segment stosu"
   ]
  },
  {
   "cell_type": "markdown",
   "metadata": {
    "slideshow": {
     "slide_type": "subslide"
    }
   },
   "source": [
    "### Płaski model pamięci\n",
    "\n",
    "- Cała pamięć ma jedną adreację\n",
    "- W systemach 32 bitowych adresy są 32 bitowe, więc można użyć adresów od 0 do $2^{32}-1$"
   ]
  },
  {
   "cell_type": "markdown",
   "metadata": {
    "slideshow": {
     "slide_type": "subslide"
    }
   },
   "source": [
    "## Rejestry procesora"
   ]
  },
  {
   "cell_type": "markdown",
   "metadata": {
    "slideshow": {
     "slide_type": "subslide"
    }
   },
   "source": [
    "### Rejestry systemowe\n",
    "\n",
    "- Rejestry kontrolne\n",
    "- Rejestry odpluskwiania\n",
    "- Rejestr zadań (używany przy wykonywaniu wielu zadań jednocześnie)\n",
    "- Rejestry tablicy deskryptorów (używane do zarządzania pamięcią)\n",
    "- Rejestr znaczników (zawiera bity kontrolne)"
   ]
  },
  {
   "cell_type": "markdown",
   "metadata": {
    "slideshow": {
     "slide_type": "subslide"
    }
   },
   "source": [
    "### Rejestry ogólnego przeznaczenia\n",
    "\n",
    "- `RAX`, `RBX` itp\n",
    "\n",
    "### Rejestry segmentowe\n",
    "\n",
    "- przechowują deskryptory segmentów"
   ]
  },
  {
   "cell_type": "markdown",
   "metadata": {
    "slideshow": {
     "slide_type": "subslide"
    }
   },
   "source": [
    "### Rejestry rozszerzeń\n",
    "\n",
    "- dla dodatkowych zestawów instrukcji\n",
    "\n",
    "### Rejestr flag i znaczników\n",
    "\n",
    "- do przechowywania bitów kontrolnych i statusu"
   ]
  },
  {
   "cell_type": "markdown",
   "metadata": {
    "slideshow": {
     "slide_type": "subslide"
    }
   },
   "source": [
    "## Stos\n",
    "\n",
    "- Rejestr `RSP` przechowuje adres wierzchołek stosu\n",
    "- Są instrukcje `PUSH` i `POP`, które pozwalają zarządzać zawartością stosu"
   ]
  },
  {
   "cell_type": "markdown",
   "metadata": {
    "slideshow": {
     "slide_type": "subslide"
    }
   },
   "source": [
    "## Tryby pracy procesorów `x86`\n",
    "\n",
    "- **Tryb chroniony**\n",
    "    - przestrzeń adresowa ma co najwyżej 4GB\n",
    "    - rozmiar operandów to 16 32 bity\n",
    "- **Tryb rzeczywisty**\n",
    "    - fizyczna przestrzeń adresowa ma rozmiar ograniczony do 1 MB\n",
    "    - rozmiar operandów to 16 bitów\n",
    "- **Tryb System _Management Mode_**\n",
    "    - można w nim kontrolować wiele rzeczy, których normalnie kontrolować nie można (np: zarządzenie energią)"
   ]
  },
  {
   "cell_type": "markdown",
   "metadata": {
    "slideshow": {
     "slide_type": "subslide"
    }
   },
   "source": [
    "## Tryby pracy porcesorów `x86-64`\n",
    "\n",
    "- **Tryb 64-bitowy**\n",
    "    - adresy mają rozmiar 64 bitów\n",
    "    - są dodatkowe rejestry\n",
    "- **Tryb kompatybilności**\n",
    "    - przez zmniejszenie rozmiaru adresów można uruchamiać aplikacje przeznaczone na architekturę 16- i 32-bitowe"
   ]
  },
  {
   "cell_type": "markdown",
   "metadata": {
    "slideshow": {
     "slide_type": "subslide"
    }
   },
   "source": [
    "## Tryby adresowania\n",
    "\n",
    "- adresowanie przez rejestr:\n",
    "```nasm\n",
    "mov rax, rcx\n",
    "```\n",
    "- adresowanie natychmiastowe\n",
    "```nasm\n",
    "mov rax, 02h\n",
    "```\n",
    "- adresowanie pośrednie\n",
    "```nasm\n",
    "mov rax, [adres]\n",
    "```"
   ]
  },
  {
   "cell_type": "markdown",
   "metadata": {
    "slideshow": {
     "slide_type": "subslide"
    }
   },
   "source": [
    "## Instrukcje procesora\n",
    "\n",
    "- instrukcję zpisujemy przez\n",
    "    - **mnemonik**\n",
    "    - **opkod**\n",
    "- przykład\n",
    "    - `ADD rax, 02h`\n",
    "    - opkod to `83`"
   ]
  },
  {
   "cell_type": "markdown",
   "metadata": {
    "slideshow": {
     "slide_type": "subslide"
    }
   },
   "source": [
    "## Jak rozkodować instrukcję\n"
   ]
  },
  {
   "cell_type": "markdown",
   "metadata": {
    "slideshow": {
     "slide_type": "subslide"
    }
   },
   "source": [
    "### Format instrukcji w architekturze x86(-64)\n",
    "\n",
    "- **prefiks kompatybilności**\n",
    "- **prefix `RAX`**\n",
    "- **opkod**\n",
    "- **bajt ModR/M**\n",
    "- **bajt SIB**"
   ]
  },
  {
   "cell_type": "markdown",
   "metadata": {
    "slideshow": {
     "slide_type": "subslide"
    }
   },
   "source": [
    "#### Bajt ModR/M\n",
    "\n",
    "- Posiada trzy pola:\n",
    "    - `mod`\n",
    "    - `reg`\n",
    "    - `r/m`\n",
    "- Określa:\n",
    "    - jaka operacja jest wykonywana\n",
    "    - jaki jest rodzaj operandów\n",
    "    - jedno i drugir"
   ]
  },
  {
   "cell_type": "markdown",
   "metadata": {
    "slideshow": {
     "slide_type": "subslide"
    }
   },
   "source": [
    "#### Bajt SIB\n",
    "\n",
    "- opcjonalny bajt\n",
    "- wykorzystywany do adresowania:\n",
    "```\n",
    "Adres = B + (S * I) + P\n",
    "```\n",
    "gdzie:\n",
    "    - `B` - **baza** zapisana w rejestrze ogólnego przeznaczenia\n",
    "    - `S` - **skala**, która może przyjąć jedną z wartościL 1,2,3,4,8\n",
    "    - `I` - **indeks**, wartość rejestru ogólnego przeznaczenia\n",
    "    - `p` - **przesunięcie**"
   ]
  },
  {
   "cell_type": "markdown",
   "metadata": {
    "slideshow": {
     "slide_type": "subslide"
    }
   },
   "source": [
    "### Przykład\n",
    "\n",
    "W Asemblerze:\n",
    "```nasm\n",
    "mov rax, 07h\n",
    "```\n",
    "W systemie szesnastkowym:\n",
    "```\n",
    "48 C7 C0 07\n",
    "```\n",
    "Gdzie:\n",
    "- `48` - to prefix `RAX`\n",
    "- `C7` - opkod instrukcji `MOV`\n",
    "- `C0` - bajt `ModR/M`\n",
    "- `07` - wartość natychmiastowa"
   ]
  },
  {
   "cell_type": "markdown",
   "metadata": {
    "slideshow": {
     "slide_type": "slide"
    }
   },
   "source": [
    "# PE - Portable Executable\n",
    "\n",
    "- format plików:\n",
    "    - wykonywalnych\n",
    "    - obiektowych\n",
    "    - `DLL`\n",
    "- można pliki PE wykonywać na każdym windowsie"
   ]
  },
  {
   "cell_type": "markdown",
   "metadata": {
    "slideshow": {
     "slide_type": "subslide"
    }
   },
   "source": [
    "## Budowa PE\n",
    "\n",
    "- Nagłówek `MS-DOS`\n",
    "- `MS-DOS` Stub program\n",
    "- Nagłówek PE\n",
    "- Opcjonalny nagłówek `PE`\n",
    "- Nagłówek sekcji 1\n",
    "- Nagłówek sekcji 2\n",
    "- ...\n",
    "- Nagłówek sekcji `n`\n",
    "- Dane sekcji 1\n",
    "- ...\n",
    "- Dane sekcji `n`"
   ]
  },
  {
   "cell_type": "markdown",
   "metadata": {
    "slideshow": {
     "slide_type": "subslide"
    }
   },
   "source": [
    "## Więcej informacji\n",
    "\n",
    "- O formacie PE można zobaczyć [tutaj](https://drive.google.com/file/d/0B3_wGJkuWLytbnIxY1J5WUs4MEk/view)\n",
    "- Jak szukać poszczególnych sekcji można znaleźć [tutaj](https://drive.google.com/file/d/0B3_wGJkuWLytQmc2di0wajB1Xzg/view)\n",
    "- Przykład pliku PE z omówieniem jest [tutaj](https://www.red-gate.com/simple-talk/blogs/anatomy-of-a-net-assembly-pe-headers/)"
   ]
  },
  {
   "cell_type": "markdown",
   "metadata": {
    "slideshow": {
     "slide_type": "slide"
    }
   },
   "source": [
    "# Jak przeprowadzić statyczne skanowanie pliku?"
   ]
  },
  {
   "cell_type": "markdown",
   "metadata": {
    "slideshow": {
     "slide_type": "subslide"
    }
   },
   "source": [
    "## Przeskanuj plik w serwisie antywirusowym"
   ]
  },
  {
   "cell_type": "markdown",
   "metadata": {
    "slideshow": {
     "slide_type": "subslide"
    }
   },
   "source": [
    "## Analizę przeprowdzamy na maszynie wirtualnej"
   ]
  },
  {
   "cell_type": "markdown",
   "metadata": {
    "slideshow": {
     "slide_type": "subslide"
    }
   },
   "source": [
    "## Program w rzeczywistym systemie może się zachowywać inaczej niż w środowisku virtualnym"
   ]
  }
 ],
 "metadata": {
  "celltoolbar": "Slideshow",
  "kernelspec": {
   "display_name": "Python 3",
   "language": "python",
   "name": "python3"
  },
  "language_info": {
   "codemirror_mode": {
    "name": "ipython",
    "version": 3
   },
   "file_extension": ".py",
   "mimetype": "text/x-python",
   "name": "python",
   "nbconvert_exporter": "python",
   "pygments_lexer": "ipython3",
   "version": "3.6.5rc1"
  },
  "livereveal": {
   "footer": "<h3>Bezpieczeństwo systemów komputerowych, 4 czerwca 2018, Paweł Bogdan</h3>",
   "theme": "serif"
  }
 },
 "nbformat": 4,
 "nbformat_minor": 2
}
