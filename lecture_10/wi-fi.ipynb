{
 "cells": [
  {
   "cell_type": "markdown",
   "metadata": {
    "slideshow": {
     "slide_type": "slide"
    }
   },
   "source": [
    "# Zabezpieczenia sieci Wi-Fi\n",
    "## Paweł Bogdan\n",
    "## 14 maja 2018\n",
    "### Bezpieczeństwo Systemów komputerowych"
   ]
  },
  {
   "cell_type": "markdown",
   "metadata": {
    "slideshow": {
     "slide_type": "slide"
    }
   },
   "source": [
    "# Disclaimer\n",
    "\n",
    "Prezentowane treści mają charakter **edukacyjny**.\n",
    "\n",
    "Prezentacja pokazuje techniki testowania swojej sieci bezprzewodowej.\n",
    "\n",
    "Wykorzystanie tych technik do siedzi cudzych jest **zabronione**.\n",
    "\n",
    "Autor dokumentu nie bierze odpowiedzialności za to, w jakim celu wiedza przedstawiona w dokumencie zostanie wykorzystana."
   ]
  },
  {
   "cell_type": "markdown",
   "metadata": {
    "slideshow": {
     "slide_type": "subslide"
    }
   },
   "source": [
    "## Artykuł 267 Kodeksu Karnego\n",
    "\n",
    "\n",
    "> §1. Kto bez uprawnienia uzyskuje dostęp do informacji dla niego nieprzeznaczonej, otwierając zamknięte pismo, podłączając się do sieci telekomunikacyjnej lub przełamując albo omijając elektroniczne, magnetyczne, informatyczne lub inne szczególne jej zabezpieczenie, podlega grzywnie, karze ograniczenia wolności albo **pozbawienia wolności do lat 2**.  \n",
    "§ 2. Tej samej karze podlega, kto bez uprawnienia uzyskuje dostęp do całości lub części systemu informatycznego.  \n",
    "§ 3. Tej samej karze podlega, kto w celu uzyskania informacji, do której nie jest uprawniony, zakłada lub posługuje się urządzeniem podsłuchowym, wizualnym albo innym urządzeniem lub oprogramowaniem."
   ]
  },
  {
   "cell_type": "markdown",
   "metadata": {
    "slideshow": {
     "slide_type": "slide"
    }
   },
   "source": [
    "# IEEE 802.11\n",
    "\n",
    "Za [wikipedią](https://pl.wikipedia.org/wiki/IEEE_802.11)\n",
    "\n",
    "> IEEE 802.11 to podgrupa standardów IEEE 802, opisujących warstwę fizyczną i podwarstwę MAC bezprzewodowych sieci lokalnych."
   ]
  },
  {
   "cell_type": "markdown",
   "metadata": {
    "slideshow": {
     "slide_type": "subslide"
    }
   },
   "source": [
    "I dalej tamże:\n",
    "\n",
    "> Zakres częstotliwości fal radiowych wykorzystywany w 802.11 nie podlega koncesjonowaniu i dlatego można bez żadnych zezwoleń instalować sieci tego typu."
   ]
  },
  {
   "cell_type": "markdown",
   "metadata": {
    "slideshow": {
     "slide_type": "subslide"
    }
   },
   "source": [
    "Oraz w tym samym miejscu: \n",
    "\n",
    ">W Polsce dopuszczalna moc promieniowania EIRP wynosi 100 mW dla pasma 2,4 GHz, a dla pasma od 5470 MHz do 5725 MHz jest to maksymalnie 1 wat. W pasmach wykorzystywanych przez sieci bezprzewodowe mogą występować znaczne zakłócenia, pochodzące między innymi od kuchenek mikrofalowych."
   ]
  },
  {
   "cell_type": "markdown",
   "metadata": {
    "slideshow": {
     "slide_type": "subslide"
    }
   },
   "source": [
    "## `802.11b`\n",
    "\n",
    "Za [wikipedią](https://pl.wikipedia.org/wiki/IEEE_802.11)\n",
    "\n",
    "> Standard 802.11b pozwala osiągnąć zasięg ok. 47 m w pomieszczeniu oraz ok. 98 m na otwartej przestrzeni.  \n",
    "(...)  \n",
    "Odpowiednie anteny kierunkowe pozwalają osiągać zasięg do 8 lub nawet 40 kilometrów.  \n",
    "(...)  \n",
    "Spektrum 802.11b jest podzielone na maksymalnie 14 kanałów o szerokości 22 MHz każdy.  \n",
    "(...)  \n",
    "W Polsce można wykorzystywać pasmo od 2400,0 do 2483,5 MHz, czyli od kanału 1 do 13."
   ]
  },
  {
   "cell_type": "markdown",
   "metadata": {
    "slideshow": {
     "slide_type": "subslide"
    }
   },
   "source": [
    "### Kanały\n",
    "\n",
    "- 1: (2,401 - 2,423)\n",
    "- 2: (2,406 - 2,428)\n",
    "- 3: (2,411 - 2,433)\n",
    "- 4: (2,416 - 2,438)\n",
    "- 5: (2,421 - 2,443)\n",
    "- 6: (2,426 - 2,448)\n",
    "- 7: (2,431 - 2,453)\n",
    "- 8: (2,436 - 2,458)\n",
    "- 9: (2,441 - 2,463)\n",
    "- 10: (2,446 - 2,468)\n",
    "- 11: (2,451 - 2,473)\n",
    "- 12: (2,456 - 2,478)\n",
    "- 13: (2,461 - 2,483)\n",
    "- 14: (2,473 - 2,495)"
   ]
  },
  {
   "cell_type": "markdown",
   "metadata": {
    "slideshow": {
     "slide_type": "subslide"
    }
   },
   "source": [
    "## `802.11g`\n",
    "\n",
    "Za [wikipedią](https://pl.wikipedia.org/wiki/IEEE_802.11)\n",
    "\n",
    "> Pracuje on podobnie jak 802.11b na częstotliwości 2,4 GHz, ale pozwala na transfer z prędkością 54 Mb/s. Standard 802.11g jest całkowicie zgodny w dół ze standardem 802.11b, jednak wykorzystanie starszych urządzeń powoduje w praktyce redukcję prędkości do 11 Mb/s."
   ]
  },
  {
   "cell_type": "markdown",
   "metadata": {
    "slideshow": {
     "slide_type": "subslide"
    }
   },
   "source": [
    "## `802.11n`\n",
    "\n",
    "Za [wikipedią](https://pl.wikipedia.org/wiki/IEEE_802.11)\n",
    "\n",
    "> Teoretycznie dostępne są prędkości rzędu 600 Mbit/s, w praktyce górną granicą jest 150 Mbit/s przy paśmie o szerokości 40 MHz.  \n",
    "(...)  \n",
    "Standardowa szerokość kanału wynosi w paśmie 2,4 GHz około 20 MHz, co przy wykorzystaniu dwóch kanałów pozwala na transmisję w paśmie około 40 MHz.  \n",
    "(...)  \n",
    "Przepustowość sieci 802.11n (...) sięga do 600 Mb/s, natomiast dostępna dla użytkownika prędkość transmisji ma osiągnąć w wersji ostatecznej co najmniej 100 Mb/s"
   ]
  },
  {
   "cell_type": "markdown",
   "metadata": {
    "slideshow": {
     "slide_type": "slide"
    }
   },
   "source": [
    "# Architektura\n",
    "\n",
    "## Ad-hoc\n",
    "\n",
    "## Zarządzana (AP - Access Point)"
   ]
  },
  {
   "cell_type": "markdown",
   "metadata": {
    "slideshow": {
     "slide_type": "subslide"
    }
   },
   "source": [
    "## Gdy jeden AP to za mało\n",
    "\n",
    "### Wiele AP połączonych kablem w sień LAN\n",
    "\n",
    "### Niektóre AP działają w trybie _bridge_"
   ]
  },
  {
   "cell_type": "markdown",
   "metadata": {
    "slideshow": {
     "slide_type": "slide"
    }
   },
   "source": [
    "# Zalety\n",
    "\n",
    "- brak kabli\n",
    "- łatwość konfiguracji\n",
    "- łatwość podłączenia"
   ]
  },
  {
   "cell_type": "markdown",
   "metadata": {
    "slideshow": {
     "slide_type": "slide"
    }
   },
   "source": [
    "# Wady\n",
    "\n",
    "Za [sekurakiem](https://sekurak.pl/bezpieczenstwo-sieci-wi-fi-czesc-1/):\n",
    "\n",
    "> nie ma możliwości fizycznego ograniczenia dostępu do danej sieci"
   ]
  },
  {
   "cell_type": "markdown",
   "metadata": {
    "slideshow": {
     "slide_type": "slide"
    }
   },
   "source": [
    "# Scenariusze ataków\n",
    "\n",
    "- włamanie się do sieci Wi-Fi, żeby łączyć się _anonimowo_ z internetem\n",
    "- włamanie się do sieci Wi-Fi, żeby poznać tajemnice przesyłane wewnątrz sieci\n",
    "- podszywanie się pod prawdziwy AP"
   ]
  },
  {
   "cell_type": "markdown",
   "metadata": {
    "slideshow": {
     "slide_type": "slide"
    }
   },
   "source": [
    "# Podstawowe pomysły na zabezpieczanie sieci\n",
    "\n",
    "- nierozgłaszanie identyfikatora sieci\n",
    "- filtrowanie dostępu na podstawie adresu fizycznego\n",
    "- izolacja klientów\n",
    "- szyfrowanie połączenia"
   ]
  },
  {
   "cell_type": "markdown",
   "metadata": {
    "slideshow": {
     "slide_type": "slide"
    }
   },
   "source": [
    "# WEP - Wired Equivalent Privacy\n",
    "\n",
    "- wprowadzono do standardu 802.11 w 1999 roku\n",
    "- używany jest szyfr RC4 (z kluczem 64 lub 128 bitowym)\n",
    "- używana jest funkcja skrótu CRC-32\n",
    "- dodano wektor inicjalizujący IV (24 bitowa liczba, inna dla każdego pakietu)\n",
    "- klucz szyfrowania jest konkatenowany z IV i w ten sposób każdy pakiet jest szyfrowany innym kluczem\n"
   ]
  },
  {
   "cell_type": "markdown",
   "metadata": {
    "slideshow": {
     "slide_type": "subslide"
    }
   },
   "source": [
    "## Podatności\n",
    "\n",
    "- IV najpierw musi być przesłany jawnym tekstem\n",
    "- skoro IV ma tylko 24 bity, to możemy znaleźć paczki, które są szyfrowane tym samym kluczem\n",
    "- w 2007 opublikowano pracę, która podaje sposób, aby po zebraniu około 40 tysięcy pakietów poznać klucz zabezpieczający z prawdopodobieństwem 1/2\n",
    "- w 2004 IEEE uznało WEP za przestarzały"
   ]
  },
  {
   "cell_type": "markdown",
   "metadata": {
    "slideshow": {
     "slide_type": "subslide"
    }
   },
   "source": [
    "## Uwierzytelnianie użytkowników\n",
    "\n",
    "### Metoda otwarta\n",
    "\n",
    "Wpuszczani są wszyscy, którzy znają SSID\n",
    "\n",
    "### Metoda współdzielonego klucza\n",
    "\n",
    "Mechanizm _chelenge-response_ wymusza znajomość współdzielonego klucza"
   ]
  },
  {
   "cell_type": "markdown",
   "metadata": {
    "slideshow": {
     "slide_type": "subslide"
    }
   },
   "source": [
    "## Metody _ataku_\n",
    "\n",
    "### Sposób pierwszy\n",
    "\n",
    "Pasywne nasłuchiwanie pakietów i ich mozolne zbieranie\n"
   ]
  },
  {
   "cell_type": "markdown",
   "metadata": {
    "slideshow": {
     "slide_type": "fragment"
    }
   },
   "source": [
    "### Wada?\n",
    "\n",
    "Gdy ruch jest mały to może się okazać, że będziemy bardzo długo zbierać potrzebne pakiety"
   ]
  },
  {
   "cell_type": "markdown",
   "metadata": {
    "slideshow": {
     "slide_type": "subslide"
    }
   },
   "source": [
    "## Metody _ataku_\n",
    "\n",
    "### Sposób drugi\n",
    "\n",
    "Wymuszenie zwiększenia ruchu\n"
   ]
  },
  {
   "cell_type": "markdown",
   "metadata": {
    "slideshow": {
     "slide_type": "fragment"
    }
   },
   "source": [
    "Pakiety ARP mają zawsze tą samą długość, możemy taki jeden przechwycić i wstrzykiwać kolejne"
   ]
  },
  {
   "cell_type": "markdown",
   "metadata": {
    "slideshow": {
     "slide_type": "slide"
    }
   },
   "source": [
    "# WPA - Wi-Fi Protected Access\n",
    "\n",
    "- _tymczasowe_ rozwiązanie przed wdrożeniem 802.11i\n",
    "- ogłoszone w 2003\n"
   ]
  },
  {
   "cell_type": "markdown",
   "metadata": {
    "slideshow": {
     "slide_type": "subslide"
    }
   },
   "source": [
    "## Podatności WEP do załatania\n",
    "\n",
    "- współdzielony klucz\n",
    "- słabe szyfrowanie\n",
    "- brak uwierzytelniania\n",
    "- ciężkie zmiany klucza\n",
    "- słaba funkcja skrótu"
   ]
  },
  {
   "cell_type": "markdown",
   "metadata": {
    "slideshow": {
     "slide_type": "subslide"
    }
   },
   "source": [
    "## RSN - Robust Security Network\n",
    "\n",
    "- uzgadnianie polityki bezpieczeństwa\n",
    "- uwierzytelnianie klientów\n",
    "- ustalenie algorytmów i kluczy (4-way handshake)\n",
    "- główny klucz, nie jest używany bezpoeśrednio do szyfrowania\n",
    "- TKIP i CCMP użyte do poufności i integralności"
   ]
  },
  {
   "cell_type": "markdown",
   "metadata": {
    "slideshow": {
     "slide_type": "subslide"
    }
   },
   "source": [
    "## Metody uwierzytelniania\n",
    "\n",
    "### WPA-PSK\n",
    "\n",
    "Pre-shared key\n",
    "\n",
    "### WPA-Enterprise\n",
    "\n",
    "- Login+hasło albo certyfikat\n",
    "- Radius\n",
    "- **UWAGA:** to nie to samo jak wpisanie loginu i hasła na specjalnej stronie internetowej"
   ]
  },
  {
   "cell_type": "markdown",
   "metadata": {
    "slideshow": {
     "slide_type": "subslide"
    }
   },
   "source": [
    "## PMK - Pairwise Master Key\n",
    "\n",
    "### WPA-PSK\n",
    "\n",
    "- Funkcja skrótu [PBKDF2](https://en.wikipedia.org/wiki/PBKDF2) na:\n",
    "     - SSID\n",
    "     - PSK\n",
    "     - 4096 iteracji HMAC (dla WPA: MD5, dla WPA2: SHA1)\n",
    "\n",
    "\n",
    "### WPA-Enterprise\n",
    "\n",
    "- Ustalany z serwerem RADIUS"
   ]
  },
  {
   "cell_type": "markdown",
   "metadata": {
    "slideshow": {
     "slide_type": "subslide"
    }
   },
   "source": [
    "## PTK - Pairwise Transient Key\n",
    "\n",
    "klucz ustalany dla każdego użytkownika do transmisji indywidualnej\n",
    "\n",
    "## GTK - Group Transient Key\n",
    "\n",
    "klucz do komunikacji grupowej (zmieniany, po każdym odłączeniu klienta)"
   ]
  },
  {
   "cell_type": "markdown",
   "metadata": {
    "slideshow": {
     "slide_type": "subslide"
    }
   },
   "source": [
    "## 4-way handshake\n",
    "\n",
    "1. $\\textrm{AP} ~~ \\longrightarrow ~~ \\textrm{Klient}~:~\\textrm{ANonce}$\n",
    "2. $\\textrm{AP} ~~ \\longleftarrow ~~ \\textrm{Klient}~:~\\textrm{CNonce, MIC}$\n",
    "3. $\\textrm{AP} ~~ \\longrightarrow ~~ \\textrm{Klient}~:~\\textrm{GTK, numer sekwencyjny komunikacji grupwej, MIC}$\n",
    "4. $\\textrm{AP} ~~ \\longleftarrow ~~ \\textrm{Klient}~:~\\textrm{Potwierdzenie}$\n",
    "\n",
    "Wyznaczamy PTK przez kontakenację PMK, ANonce, CNonce, MAC AP i MAC klienta. Taki napis wrzucamy na wejście funkcji PBKDF2."
   ]
  },
  {
   "cell_type": "markdown",
   "metadata": {
    "slideshow": {
     "slide_type": "subslide"
    }
   },
   "source": [
    "## Szyfrowanie\n",
    "\n",
    "Wciąż używany jest algorytm RC4, ale nie konkatenację wektora inicjalizującego i klucza zastąpiono nietrywialną funkcją mieszającą"
   ]
  },
  {
   "cell_type": "markdown",
   "metadata": {
    "slideshow": {
     "slide_type": "subslide"
    }
   },
   "source": [
    "## Łaty bezpieczeństwa względem WEP\n",
    "\n",
    "- Podsłuchiwanie nic nie daje, bo klucz się zmienia\n",
    "- Jak poznamy PSK, to i tak nie odszyfrujemy całej transmisji\n",
    "- Nie ma kolizji wektorów inicjalizacyjnych"
   ]
  },
  {
   "cell_type": "markdown",
   "metadata": {
    "slideshow": {
     "slide_type": "subslide"
    }
   },
   "source": [
    "## Czyli nie ma żadnych podatności?"
   ]
  },
  {
   "cell_type": "markdown",
   "metadata": {
    "slideshow": {
     "slide_type": "fragment"
    }
   },
   "source": [
    "## Oczywiście, że ma\n",
    "\n",
    "## Czy ktoś potrafi jakąś wskazać?"
   ]
  },
  {
   "cell_type": "markdown",
   "metadata": {
    "slideshow": {
     "slide_type": "subslide"
    }
   },
   "source": [
    "## Podatności\n",
    "\n",
    "1. Atak siłowy na PSK po przechwyceniu 4-way handshake\n",
    "2. Atak siłowy na WPS"
   ]
  },
  {
   "cell_type": "markdown",
   "metadata": {
    "slideshow": {
     "slide_type": "slide"
    }
   },
   "source": [
    "# WPS - Wi-Fi Protected Setup\n",
    "\n",
    "- wprowadzono w 2007\n",
    "- miało uprościć konfigurację urządzeń poprzez automatyczne uzyskanie hasła\n",
    "- ma dwa podejścia:\n",
    "    - konfiguracja _in-band_\n",
    "    - konfiguracja _out-of-band_\n"
   ]
  },
  {
   "cell_type": "markdown",
   "metadata": {
    "slideshow": {
     "slide_type": "subslide"
    }
   },
   "source": [
    "## WPS _in-band_\n",
    "\n",
    "- 8-cyfrowy **PIN** (każde urządzenie musi implementować to rozwiązanie)\n",
    "- **PBC** (Push-Button-Connect) (tylko AP muszą to implementować)"
   ]
  },
  {
   "cell_type": "markdown",
   "metadata": {
    "slideshow": {
     "slide_type": "subslide"
    }
   },
   "source": [
    "## WPS PIN\n",
    "\n",
    "- wewnętrzna - musimy wpisać kod klienta w konfigurację AP\n",
    "- zewnetrzna - musimy wpisać kod AP w kliencie"
   ]
  },
  {
   "cell_type": "markdown",
   "metadata": {
    "slideshow": {
     "slide_type": "subslide"
    }
   },
   "source": [
    "## WPS PBC\n",
    "\n",
    "- klient nawiązuje połączenie z AP\n",
    "- w AP należy wcisnąć przycisk\n",
    "- klient zostaje prawidłowo skonfigurowany"
   ]
  },
  {
   "cell_type": "markdown",
   "metadata": {
    "slideshow": {
     "slide_type": "subslide"
    }
   },
   "source": [
    "## Podatność WPS PIN\n",
    "\n",
    "- PIN ma 8 cyfr, więc jest $10^8$ możliwości"
   ]
  },
  {
   "cell_type": "markdown",
   "metadata": {
    "slideshow": {
     "slide_type": "fragment"
    }
   },
   "source": [
    "- Trochę za dużo na atak siłowy"
   ]
  },
  {
   "cell_type": "markdown",
   "metadata": {
    "slideshow": {
     "slide_type": "fragment"
    }
   },
   "source": [
    "- Ostatnia cyfra to suma kontrolna, więc jest $10^7$ możliwości"
   ]
  },
  {
   "cell_type": "markdown",
   "metadata": {
    "slideshow": {
     "slide_type": "fragment"
    }
   },
   "source": [
    "- Wciąż trochę za dużo..."
   ]
  },
  {
   "cell_type": "markdown",
   "metadata": {
    "slideshow": {
     "slide_type": "subslide"
    }
   },
   "source": [
    "- Ale najpierw są przesyłane pierwsze 4 cyfry i jeżeli się zgadzają, to są wysyłane kolejne 4"
   ]
  },
  {
   "cell_type": "markdown",
   "metadata": {
    "slideshow": {
     "slide_type": "fragment"
    }
   },
   "source": [
    "- Więc $10^7$ redukuje się do $10^4 + 10^3 = 11000$"
   ]
  },
  {
   "cell_type": "markdown",
   "metadata": {
    "slideshow": {
     "slide_type": "slide"
    }
   },
   "source": [
    "## Źródła\n",
    "\n",
    "- Cykl artykułów na stronie [sekurak.pl](https://sekurak.pl/)\n",
    "    - [Część 1](https://sekurak.pl/bezpieczenstwo-sieci-wi-fi-czesc-1/)\n",
    "    - [Część 2](https://sekurak.pl/bezpieczenstwo-sieci-wi-fi-czesc-2-wprowadzenie-do-nasluchiwania-ruchu/)\n",
    "    - [Część 3](https://sekurak.pl/bezpieczenstwo-sieci-wi-fi-czesc-3-wep/)\n",
    "    - [Część 4](https://sekurak.pl/bezpieczenstwo-sieci-wi-fi-czesc-4-standard-802-11i-czyli-wpa-i-wpa2/)\n",
    "    - [Część 5](https://sekurak.pl/bezpieczenstwo-sieci-wi-fi-czesc-5-testowanie-wpa-i-wpa2/)\n",
    "    - [Część 6](https://sekurak.pl/bezpieczenstwo-sieci-wi-fi-czesc-6-bezpieczenstwo-wps/)\n",
    "- Książka _Kali Linux. Audyt bezpieczeństwa sieci Wi-Fi dla każdego_, wydanie II, Autorzy: Vivek Ramachandran i Cameron Buchanan"
   ]
  }
 ],
 "metadata": {
  "celltoolbar": "Slideshow",
  "kernelspec": {
   "display_name": "Python 3",
   "language": "python",
   "name": "python3"
  },
  "language_info": {
   "codemirror_mode": {
    "name": "ipython",
    "version": 3
   },
   "file_extension": ".py",
   "mimetype": "text/x-python",
   "name": "python",
   "nbconvert_exporter": "python",
   "pygments_lexer": "ipython3",
   "version": "3.6.5rc1"
  },
  "livereveal": {
   "footer": "<h3>Bezpieczeństwo systemów komputerowych, 14 maja 2018, Paweł Bogdan</h3>",
   "theme": "serif"
  }
 },
 "nbformat": 4,
 "nbformat_minor": 2
}
