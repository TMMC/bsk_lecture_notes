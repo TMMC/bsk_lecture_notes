{
 "cells": [
  {
   "cell_type": "markdown",
   "metadata": {},
   "source": [
    "# Bezpieczeństwo Systemów Komputerowych\n",
    "\n",
    "## Ćwiczenia 4: SSL/TLS\n",
    "\n",
    "### 19 i 28 marca 2018 roku"
   ]
  },
  {
   "cell_type": "markdown",
   "metadata": {},
   "source": [
    "# Wprowadzenie\n",
    "\n",
    "Do rozwiązania dzisiejszego zestawu sugeruję użyć jednego z dwóch obrazków:\n",
    "- `pawelbogdan/bsk:lab_4_1` - prosty obrazek, który ma zainstalowany interpreter pythona ze wszystkimi potrzebnymi bibliotekami po uruchomieniu kontenera:\n",
    "```bash\n",
    "docker run -it -P pawelbogdan/bsk:lab_4_1\n",
    "```\n",
    "uruchomi się `bash`\n",
    "- `pawelbogdan/bsk:lab_4_2` - obrazek, który ma zainstalowane to samo co obrazek `pawelbogdan/bsk:lab_4_1` oraz do tego `jupytera`. Po uruchomieniu kontenera:\n",
    "```bash\n",
    "docker run -it -P pawelbogdan/bsk:lab_4_2\n",
    "```\n",
    "uruchomi się `jupyter`."
   ]
  },
  {
   "cell_type": "markdown",
   "metadata": {},
   "source": [
    "# Zadanie 1\n",
    "\n",
    "Wygeneruj certyfikat typu *self-signed* używając narzędzi systemu Linux."
   ]
  },
  {
   "cell_type": "markdown",
   "metadata": {},
   "source": [
    "# Zadanie 2\n",
    "\n",
    "Wygeneruj certyfikat typu *self-signed* używając skryptu w języku Python."
   ]
  },
  {
   "cell_type": "markdown",
   "metadata": {},
   "source": [
    "# Zadanie 3\n",
    "\n",
    "Wykorzystaj klucz `server.key` oraz certyfikat `server.crt`, który jest w tym samym katalogu, w którym jest niniejszy dokument, aby wygenerować swój certyfikat, którego autentyczność będzie potwierdzona przez certyfikat `server.crt`."
   ]
  },
  {
   "cell_type": "markdown",
   "metadata": {},
   "source": [
    "# Praca domowa\n",
    "\n",
    "Twoim zadaniem jest przygotowanie takiego obrazka dockera, aby po jego uruchomieniu i uruchomieniu usługi `apache2`\n",
    "- można było się połączyć z serwerem przez protokół `https`\n",
    "- wyświetlana strona będzie zawierać nazwisko autora rozwiązania \n",
    "- strona będzie się przedstawiać certyfikatem utworzonym przez autora rozwiązania\n",
    "- wystawcą certyfikatu będzie właściciel certyfikatu `server.crt` \n",
    "\n",
    "Jako rozwiązanie przyślij archiwum `zip`, w którym będzie plik `Dockerfile` z którego można otrzymać wyżej opisany obrazek oraz wszystkie niezbędne do wygenerowania obrazka pliki.\n",
    "\n",
    "Zadanie będzie zaliczone, gdy:\n",
    "- server `https` będzie wyświetlał odpowiednią stronę (z nazwiskiem twórcy)\n",
    "- się przedstawiał certyfikatem utworzonym przez autora rozwiązania\n",
    "- wystawcą certyfikatu będzie certyfikat załączony do treści zadania"
   ]
  }
 ],
 "metadata": {
  "kernelspec": {
   "display_name": "Python 3",
   "language": "python",
   "name": "python3"
  },
  "language_info": {
   "codemirror_mode": {
    "name": "ipython",
    "version": 3
   },
   "file_extension": ".py",
   "mimetype": "text/x-python",
   "name": "python",
   "nbconvert_exporter": "python",
   "pygments_lexer": "ipython3",
   "version": "3.5.2"
  }
 },
 "nbformat": 4,
 "nbformat_minor": 2
}
