{
 "cells": [
  {
   "cell_type": "markdown",
   "metadata": {
    "slideshow": {
     "slide_type": "slide"
    }
   },
   "source": [
    "# Sprawy organizacyjne\n",
    "## Paweł Bogdan\n",
    "## 26 lutego 2018\n",
    "### Bezpieczeństwo Systemów komputerowych"
   ]
  },
  {
   "cell_type": "markdown",
   "metadata": {
    "slideshow": {
     "slide_type": "slide"
    }
   },
   "source": [
    "# Kontakt z prowadzącym\n",
    "\n",
    "1. [Strona pegaz z przedmiotu](https://pegaz.uj.edu.pl/course/view.php?id=318370)\n",
    "2. Adresy e-mail: \n",
    "   - bogdan@ii.uj.edu.pl\n",
    "   - pawel.bogdan@uj.edu.pl\n",
    "   - na maile odpisuję na bieżąco, jeżeli nie odpowiem w ciągu 24 godzin proszę o maila przypominającego\n",
    "3. Konsultacje w pokoju 2066 (chyba, że kartka przy drzwiach, albo osoba w środku mówi inaczej)\n",
    "   - poniedziałki 14:00 - 15:00\n",
    "   - w każdy inny dzień tygodnia po wcześniejszym ustaleniu mailowym\n",
    "4. Anonimowe pytania i komentarze przez stronę: https://sayat.me/pawelbogdan\n"
   ]
  },
  {
   "cell_type": "markdown",
   "metadata": {
    "slideshow": {
     "slide_type": "slide"
    }
   },
   "source": [
    "# Reguły zaliczenia\n",
    "\n",
    "Cały regulamin jest dostępny [tutaj](BSK 2017_2018 - regulamin.pdf)"
   ]
  },
  {
   "cell_type": "markdown",
   "metadata": {
    "slideshow": {
     "slide_type": "slide"
    }
   },
   "source": [
    "# Tematyka poruszana na zajęciach\n",
    "\n",
    "[Tutaj](https://docs.google.com/spreadsheets/d/1opC30e9K8Pmy6Y3ohnQL7JxR7uScrFjTLBC7T-3stEw/edit?usp=sharing) jest arkusz zbiorczy.\n",
    "\n",
    "- Ustalenie języka dla wykładu:\n",
    "   - kryptografia symetryczna\n",
    "   - kryptografia asymetryczna\n",
    "   - funkcje skrótu\n",
    "- Problem uwierzytalniania\n",
    "   - proste metody uwierzytelnienia\n",
    "   - uwierzytelnienie z użyciem zaufanej trzeciej strony\n",
    "   - system Kerberos\n",
    "- Protokół SSH"
   ]
  },
  {
   "cell_type": "markdown",
   "metadata": {
    "slideshow": {
     "slide_type": "subslide"
    }
   },
   "source": [
    "- Protokół TSL\n",
    "- System PGP\n",
    "- Wirtualne sieci prywatne\n",
    "- Kryptowaluty\n",
    "- Zabezpieczenia sieci bezprzewodowych\n",
    "- Bezpieczeństwo aplikacji webowych\n",
    "- Testy penetracyjne\n",
    "- Steganografia\n",
    "- Współczesne narzędzia hackerów\n",
    "- Protokoły kryptograficzne w praktyce"
   ]
  },
  {
   "cell_type": "markdown",
   "metadata": {
    "slideshow": {
     "slide_type": "slide"
    }
   },
   "source": [
    "# Materiały pomocnicze\n",
    "\n",
    "1. William Stallings _Kryptografia i bezpieczeństwo sieci komputerowych_\n",
    "2. Alfred J. Menzes, Paul C. van Oorschot, Scott A. Vanstone _Handbook of Applied Cryptography_\n",
    "3. [niebezpiecznik.pl](https://niebezpiecznik.pl/)\n",
    "4. [sekurak.pl](https://sekurak.pl/)"
   ]
  },
  {
   "cell_type": "markdown",
   "metadata": {
    "slideshow": {
     "slide_type": "slide"
    }
   },
   "source": [
    "# Narzędzia wykorzystywane w czasie zajęć\n",
    "\n",
    "1. Język Python 3.x.x\n",
    "2. Docker\n",
    "3. Wireshark"
   ]
  }
 ],
 "metadata": {
  "celltoolbar": "Slideshow",
  "kernelspec": {
   "display_name": "Python 3",
   "language": "python",
   "name": "python3"
  },
  "language_info": {
   "codemirror_mode": {
    "name": "ipython",
    "version": 3
   },
   "file_extension": ".py",
   "mimetype": "text/x-python",
   "name": "python",
   "nbconvert_exporter": "python",
   "pygments_lexer": "ipython3",
   "version": "3.5.3"
  },
  "livereveal": {
   "footer": "<h3>Bezpieczeństwo systemów komputerowych, 26 lutego 2018, Paweł Bogdan</h3>",
   "theme": "serif"
  }
 },
 "nbformat": 4,
 "nbformat_minor": 2
}
