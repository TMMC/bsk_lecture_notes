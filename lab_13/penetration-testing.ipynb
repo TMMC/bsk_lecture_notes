{
 "cells": [
  {
   "cell_type": "markdown",
   "metadata": {},
   "source": [
    "# Bezpieczeństwo Systemów Komputerowych\n",
    "\n",
    "## Ćwiczenia 13: Testy penetracyjne\n",
    "\n",
    "### 28 maja 2018 roku"
   ]
  },
  {
   "cell_type": "markdown",
   "metadata": {},
   "source": [
    "# Disclaimer\n",
    "\n",
    "Prezentowane treści mają charakter **edukacyjny**.\n",
    "\n",
    "Prezentacja pokazuje techniki testowania swojej sieci bezprzewodowej.\n",
    "\n",
    "Wykorzystanie tych technik do siedzi cudzych jest **zabronione**.\n",
    "\n",
    "Autor dokumentu nie bierze odpowiedzialności za to, w jakim celu wiedza przedstawiona w dokumencie zostanie wykorzystana.\n",
    "\n",
    "## Artykuł 267 Kodeksu Karnego\n",
    "\n",
    "\n",
    "> §1. Kto bez uprawnienia uzyskuje dostęp do informacji dla niego nieprzeznaczonej, otwierając zamknięte pismo, podłączając się do sieci telekomunikacyjnej lub przełamując albo omijając elektroniczne, magnetyczne, informatyczne lub inne szczególne jej zabezpieczenie, podlega grzywnie, karze ograniczenia wolności albo **pozbawienia wolności do lat 2**.  \n",
    "§ 2. Tej samej karze podlega, kto bez uprawnienia uzyskuje dostęp do całości lub części systemu informatycznego.  \n",
    "§ 3. Tej samej karze podlega, kto w celu uzyskania informacji, do której nie jest uprawniony, zakłada lub posługuje się urządzeniem podsłuchowym, wizualnym albo innym urządzeniem lub oprogramowaniem."
   ]
  },
  {
   "cell_type": "markdown",
   "metadata": {},
   "source": [
    "# Informacje wstępne\n",
    "\n",
    "Potrzebujemy:\n",
    "- [VMWare Player](https://www.vmware.com/pl/products/workstation-player/workstation-player-evaluation.html)\n",
    "- Maszynę wirtualną De-ICE S1.100, którą można pobrać [stąd](http://hackingdojo.com/pentest-media/)\n",
    "- Maszynę wirtualną Kali Linuksa, którą można pobrać [stąd](https://www.kali.org/downloads/)\n",
    "\n",
    "W obu maszynach ustawiamy sieć w tryb bridged. Aby nie mieć żadnych problemów, sugeruję, aby wszyscy połączyli się z moim routerem i przez niego atakowali jedną maszynę, którą udostępnię na swoim komputerze."
   ]
  },
  {
   "cell_type": "markdown",
   "metadata": {},
   "source": [
    "# Zadanie 1\n",
    "\n",
    "Wykorzystując narzędzie `netdiscover` sprawdź, jaki pod jakim adresem dostępna jest maszyna De-ICE.\n",
    "\n",
    "**Uwaga** - przez niektórych takie skanowanie może być odebrane jako naruszenie sieci, więc warto wykonać takei skanowanie bez podłączenie się do internetu."
   ]
  },
  {
   "cell_type": "markdown",
   "metadata": {},
   "source": [
    "# Zadanie 2\n",
    "\n",
    "Wykorzystując narzędzie `nmap` sprawdź:\n",
    "\n",
    "1. jakie porty są otwate na badanej maszynie\n",
    "2. jaki system operacyjny jest zainstalowany na badanej maszynie"
   ]
  },
  {
   "cell_type": "markdown",
   "metadata": {},
   "source": [
    "# Zadanie 3\n",
    "\n",
    "Który z portów wygląda najciekawiej? Jakie informacje można zdobyć przy jego pomocy?"
   ]
  },
  {
   "cell_type": "markdown",
   "metadata": {},
   "source": [
    "# Zadanie 4\n",
    "\n",
    "Wygeneruj listę potencjalnych nazw użytkowników i sprawdź, czy ktoś nie ustawił łatwego hasła."
   ]
  },
  {
   "cell_type": "markdown",
   "metadata": {},
   "source": [
    "# Zadanie 5\n",
    "\n",
    "Zobacz, jakie grupy są w systemie. Czy widzisz jakąś interesującą? Jaki użytkownik należy do tej grupy?"
   ]
  },
  {
   "cell_type": "markdown",
   "metadata": {},
   "source": [
    "# Zadanie 6\n",
    "\n",
    "Spróbuj wykonać atak słownikowy na użytkowniku odkrytym we wcześniejszym zadaniu. Skorzystaj z narzędzia `metasploit`."
   ]
  },
  {
   "cell_type": "markdown",
   "metadata": {},
   "source": [
    "# Zadanie 7\n",
    "\n",
    "Zaloguj się przy użyciu danych z poprzedniego zadania. Zastanów się, w jaki sposób można uzyskać hasło użytkownika `root`"
   ]
  },
  {
   "cell_type": "markdown",
   "metadata": {},
   "source": [
    "# Praca domowa\n",
    "\n",
    "Proszę przeszukać komputer z uprawnieniami administratora w poszukiwaniu jakichkolwiek poufnych wiadomości. Jako rozwiązanie proszę o przesłanie ścieżki bezwzględnej do pliku.\n",
    "\n",
    "Za dodatkowe 3 punkty do puli wszystkich punktów za ćwiczenia, proszę przesłać jego zawartość w formie jawnego tekstu razem z opisem pełnego rozwiązania."
   ]
  },
  {
   "cell_type": "markdown",
   "metadata": {},
   "source": [
    "# Źródła:\n",
    "\n",
    "- https://www.vulnhub.com/entry/de-ice-s1100,8/\n",
    "- http://securenetworkmanagement.com/de-ice-s1-100/\n",
    "- https://binarycoders.wordpress.com/2018/01/24/walkthrough-de-ice-s1-100/\n",
    "- https://l33thacker.com/de-ice-s1-100-walkthrough/\n",
    "- http://ssl-encrypted.blogspot.com/2014/05/recently-i-just-mess-around-with-de-ice.html\n",
    "- http://ssl-encrypted.blogspot.com/2014/05/recently-i-just-mess-around-with-de-ice.html\n",
    "- http://www.thehonz.com/stepping-through-de-ices1-100/\n",
    "- http://hackingandsecurity.blogspot.com/2016/06/de-ices1100-machine.html\n",
    "- Książka Petera Kima _Podręcznik pentestera_\n",
    "- Książka Thomasa Wilhelma _Profesjonalne testy penetracyjne_\n",
    "- Książka Davida Kennedy'ego, Jima O'Gormana, Devona Kearns'a i Mati'ego Aharoni _Metaspoloit. Przewodnik po testach penetracyjnych_"
   ]
  }
 ],
 "metadata": {
  "kernelspec": {
   "display_name": "Python 3",
   "language": "python",
   "name": "python3"
  },
  "language_info": {
   "codemirror_mode": {
    "name": "ipython",
    "version": 3
   },
   "file_extension": ".py",
   "mimetype": "text/x-python",
   "name": "python",
   "nbconvert_exporter": "python",
   "pygments_lexer": "ipython3",
   "version": "3.6.5rc1"
  }
 },
 "nbformat": 4,
 "nbformat_minor": 2
}
