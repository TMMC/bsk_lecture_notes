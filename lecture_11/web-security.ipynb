{
 "cells": [
  {
   "cell_type": "markdown",
   "metadata": {
    "slideshow": {
     "slide_type": "slide"
    }
   },
   "source": [
    "# Zabezpieczenia aplikacji webowych\n",
    "## Paweł Bogdan\n",
    "## 21 maja 2018\n",
    "### Bezpieczeństwo Systemów komputerowych"
   ]
  },
  {
   "cell_type": "markdown",
   "metadata": {
    "slideshow": {
     "slide_type": "slide"
    }
   },
   "source": [
    "# Disclaimer\n",
    "\n",
    "Prezentowane treści mają charakter **edukacyjny**.\n",
    "\n",
    "Prezentacja pokazuje techniki testowania swojej sieci bezprzewodowej.\n",
    "\n",
    "Wykorzystanie tych technik do siedzi cudzych jest **zabronione**.\n",
    "\n",
    "Autor dokumentu nie bierze odpowiedzialności za to, w jakim celu wiedza przedstawiona w dokumencie zostanie wykorzystana."
   ]
  },
  {
   "cell_type": "markdown",
   "metadata": {
    "slideshow": {
     "slide_type": "subslide"
    }
   },
   "source": [
    "## Artykuł 267 Kodeksu Karnego\n",
    "\n",
    "\n",
    "> §1. Kto bez uprawnienia uzyskuje dostęp do informacji dla niego nieprzeznaczonej, otwierając zamknięte pismo, podłączając się do sieci telekomunikacyjnej lub przełamując albo omijając elektroniczne, magnetyczne, informatyczne lub inne szczególne jej zabezpieczenie, podlega grzywnie, karze ograniczenia wolności albo **pozbawienia wolności do lat 2**.  "
   ]
  },
  {
   "cell_type": "markdown",
   "metadata": {
    "slideshow": {
     "slide_type": "slide"
    }
   },
   "source": [
    "# Źródła:\n",
    "\n",
    "- [Poradnik o testowaniu organizacji OWASP](https://www.owasp.org/index.php/OWASP_Testing_Guide_v4_Table_of_Contents)\n",
    "- Książka _Profesjonalne testy penetracyjne_ autorstwa Thomasa Wilhelma, wydanie II, Helion 2013\n",
    "- Książka _Podręcznik pentestera_ autorstwa Petera Kima, Helion 2014"
   ]
  },
  {
   "cell_type": "markdown",
   "metadata": {
    "slideshow": {
     "slide_type": "slide"
    }
   },
   "source": [
    "# OWASP - Open Web Application Security Project\n",
    "\n",
    "- powstała jako organizacja non-profit w roku 2001\n",
    "- otwarta społeczność, która dba o rozwój bezpieczeństwa aplikacji webowych\n",
    "- niezwiązana z żadną firmą i żadną technologią\n",
    "\n"
   ]
  },
  {
   "cell_type": "markdown",
   "metadata": {
    "slideshow": {
     "slide_type": "subslide"
    }
   },
   "source": [
    "## [Core Purpose](https://www.owasp.org/index.php/About_The_Open_Web_Application_Security_Project#Core_Purpose)\n",
    "\n",
    "> _Be the thriving global community that drives visibility and evolution in the safety and security of the world’s software._"
   ]
  },
  {
   "cell_type": "markdown",
   "metadata": {
    "slideshow": {
     "slide_type": "slide"
    }
   },
   "source": [
    "# Słowniczek pojęć\n",
    "\n",
    "Na podstawie [poradnika](https://www.owasp.org/index.php/Testing:_Introduction_and_objectives):\n",
    "\n",
    "- Testowanie\n",
    "- Podatność\n",
    "- Zagrożenie\n",
    "- Test"
   ]
  },
  {
   "cell_type": "markdown",
   "metadata": {
    "slideshow": {
     "slide_type": "subslide"
    }
   },
   "source": [
    "## Metodologia testowania OWASP\n",
    "\n",
    "Na podstawie [poradnika](https://www.owasp.org/index.php/Testing:_Introduction_and_objectives)\n",
    "\n",
    "- Cechy\n",
    "    - Konsekwentny\n",
    "    - Odtwarzalny\n",
    "    - Ścisły\n",
    "    - Pod kontrolą"
   ]
  },
  {
   "cell_type": "markdown",
   "metadata": {
    "slideshow": {
     "slide_type": "subslide"
    }
   },
   "source": [
    "## Metodologia testowania OWASP\n",
    "\n",
    "Na podstawie [poradnika](https://www.owasp.org/index.php/Testing:_Introduction_and_objectives)\n",
    "\n",
    "### Model\n",
    "\n",
    "- Tester\n",
    "- Narzędzia i techniki\n",
    "- Aplikacja jako czarna skrzynka"
   ]
  },
  {
   "cell_type": "markdown",
   "metadata": {
    "slideshow": {
     "slide_type": "subslide"
    }
   },
   "source": [
    "## Metodologia testowania OWASP\n",
    "\n",
    "Na podstawie [poradnika](https://www.owasp.org/index.php/Testing:_Introduction_and_objectives)\n",
    "\n",
    "### Fazy:\n",
    "\n",
    "- Faza 1: tryb bierny\n",
    "- Faza 2: tryb aktywny"
   ]
  },
  {
   "cell_type": "markdown",
   "metadata": {
    "slideshow": {
     "slide_type": "subslide"
    }
   },
   "source": [
    "## Grupy testów fazy aktywnej\n",
    "\n",
    "Na podstawie [poradnika](https://www.owasp.org/index.php/Testing:_Introduction_and_objectives)\n",
    "\n",
    "- Zbieranie informacji\n",
    "- Testowanie konfiguracji\n",
    "- Testowanie zarządzania tożsamościami\n",
    "- Testowanie uwierzytelniania"
   ]
  },
  {
   "cell_type": "markdown",
   "metadata": {
    "slideshow": {
     "slide_type": "subslide"
    }
   },
   "source": [
    "## Grupy testów fazy aktywnej\n",
    "\n",
    "Na podstawie [poradnika](https://www.owasp.org/index.php/Testing:_Introduction_and_objectives)\n",
    "\n",
    "- Testowanie autoryzacji\n",
    "- Testowanie zarządzania sesjami\n",
    "- Tesotwanie walidowania danych wejściowych\n",
    "- Testowanie obsługi błędów"
   ]
  },
  {
   "cell_type": "markdown",
   "metadata": {
    "slideshow": {
     "slide_type": "subslide"
    }
   },
   "source": [
    "## Grupy testów fazy aktywnej\n",
    "\n",
    "Na podstawie [poradnika](https://www.owasp.org/index.php/Testing:_Introduction_and_objectives)\n",
    "\n",
    "- Testy algorytmów kryptograficznych\n",
    "- Testowanie logiki biznesowej\n",
    "- Testowanie strony klienta"
   ]
  },
  {
   "cell_type": "markdown",
   "metadata": {
    "slideshow": {
     "slide_type": "slide"
    }
   },
   "source": [
    "# Metody zbierania informacji\n",
    "\n",
    "Pełna lista jest dostępna [tutaj](https://www.owasp.org/index.php/Testing_Information_Gathering)"
   ]
  },
  {
   "cell_type": "markdown",
   "metadata": {
    "slideshow": {
     "slide_type": "subslide"
    }
   },
   "source": [
    "## Rekonesans\n",
    "\n",
    "Pełny opis jest [tutaj](https://www.owasp.org/index.php/Conduct_search_engine_discovery/reconnaissance_for_information_leakage_%28OTG-INFO-001%29)\n",
    "- Cel testu\n",
    "    - Zebranie danych o systemie korzystając z wyszukiwarek"
   ]
  },
  {
   "cell_type": "markdown",
   "metadata": {
    "slideshow": {
     "slide_type": "subslide"
    }
   },
   "source": [
    "## Rekonesans\n",
    "\n",
    "- Szukamy:\n",
    "    - Jakichś informacji o konfiguracji sieciowej\n",
    "    - Formatów loginów\n",
    "    - Opisu procedur\n",
    "    - ...\n",
    "- Warto poznać [bazę danych googla](https://www.exploit-db.com/google-hacking-database/)"
   ]
  },
  {
   "cell_type": "markdown",
   "metadata": {
    "slideshow": {
     "slide_type": "subslide"
    }
   },
   "source": [
    "## Poznanie serwera\n",
    "\n",
    "Dokładny opis jest dostępny [tutaj](https://www.owasp.org/index.php/Fingerprint_Web_Server_%28OTG-INFO-002%29)\n",
    "\n",
    "- Cel testu\n",
    "    - Poznanie jakiego oprogramowania używa serwer\n",
    "- Jak to zrobić?\n",
    "    - Zbadanie nagłówka odpowiedzi HTTP od serwera"
   ]
  },
  {
   "cell_type": "markdown",
   "metadata": {
    "slideshow": {
     "slide_type": "subslide"
    }
   },
   "source": [
    "## Zbadanie matadanych\n",
    "\n",
    "Dokładny opis jest dostępny [tutaj](https://www.owasp.org/index.php/Review_Webserver_Metafiles_for_Information_Leakage_%28OTG-INFO-003%29)\n",
    "\n",
    "## Poznanie jakie aplikacje są zainstalowane na serwerze\n",
    "\n",
    "Dokładny opis jest dostępny [tutaj](https://www.owasp.org/index.php/Enumerate_Applications_on_Webserver_%28OTG-INFO-004%29)"
   ]
  },
  {
   "cell_type": "markdown",
   "metadata": {
    "slideshow": {
     "slide_type": "subslide"
    }
   },
   "source": [
    "## Przeczytanie komentarzy\n",
    "\n",
    "Dokładny opis znajduje się [tutaj](https://www.owasp.org/index.php/Review_webpage_comments_and_metadata_for_information_leakage_%28OTG-INFO-005%29)\n",
    "\n",
    "- Cel testu\n",
    "    - Poznanie danych, których nie powinniśmy poznać"
   ]
  },
  {
   "cell_type": "markdown",
   "metadata": {
    "slideshow": {
     "slide_type": "subslide"
    }
   },
   "source": [
    "## Przeczytanie komentarzy\n",
    "\n",
    "- Jak to zrobić?\n",
    "    - Przejrzeć kod źródłowy stron\n",
    "        - Komentarze\n",
    "        - Metadane"
   ]
  },
  {
   "cell_type": "markdown",
   "metadata": {
    "slideshow": {
     "slide_type": "subslide"
    }
   },
   "source": [
    "## Poznanie _punktów wejściowych_ aplikacji\n",
    "\n",
    "Dokładny opis znajduje się [tutaj](https://www.owasp.org/index.php/Identify_application_entry_points_%28OTG-INFO-006%29)\n",
    "\n",
    "- Poznanie w jaki sposób są formowane zapytania i jak aplikacja nie odpowiada"
   ]
  },
  {
   "cell_type": "markdown",
   "metadata": {
    "slideshow": {
     "slide_type": "subslide"
    }
   },
   "source": [
    "## Poznanie przepływu działania aplikacji\n",
    "\n",
    "Dokładny opis znajduje się [tutaj](https://www.owasp.org/index.php/Map_execution_paths_through_application_%28OTG-INFO-007%29)\n",
    "\n",
    "- Jak to zrobić?\n",
    "    - przeklikać wszystkie możliwe przypadki użycia\n",
    "    - obserwować jak przepływają dane w programie\n",
    "    - sprawdzić jak aplikacja działa przy równoległym wykonywaniu tych samych operacji"
   ]
  },
  {
   "cell_type": "markdown",
   "metadata": {
    "slideshow": {
     "slide_type": "subslide"
    }
   },
   "source": [
    "## Poznanie frameworku, w którym aplikację stworzono\n",
    "\n",
    "Dokładny opis znajduje się [tutaj](https://www.owasp.org/index.php/Fingerprint_Web_Application_Framework_%28OTG-INFO-008%29)\n",
    "\n",
    "## Poznanie aplikacji, na której działa strona\n",
    "\n",
    "Dokładny opis znajduje się [tutaj](https://www.owasp.org/index.php/Fingerprint_Web_Application_%28OTG-INFO-009%29)\n",
    "\n",
    "Sprawdź wtyczkę [wappalyzer](http://wappalyzer.com/)"
   ]
  },
  {
   "cell_type": "markdown",
   "metadata": {
    "slideshow": {
     "slide_type": "slide"
    }
   },
   "source": [
    "# Testowanie konfiguracji\n",
    "\n",
    "Pełna lista znajduje się [tutaj](https://www.owasp.org/index.php/Testing_for_configuration_management)"
   ]
  },
  {
   "cell_type": "markdown",
   "metadata": {
    "slideshow": {
     "slide_type": "subslide"
    }
   },
   "source": [
    "## Testowanie konfiguracji sieciowej\n",
    "\n",
    "Dokładny opis znajduje się [tutaj](https://www.owasp.org/index.php/Test_Network/Infrastructure_Configuration_%28OTG-CONFIG-001%29)\n",
    "\n",
    "- Cel testu\n",
    "    - Zbadaj infrastrukturę sprzętu na którym działa aplikacja\n",
    "- Metody\n",
    "    - Zbadaj komputery, jakie są, jak są połączone, jak na nich działa aplikacja"
   ]
  },
  {
   "cell_type": "markdown",
   "metadata": {
    "slideshow": {
     "slide_type": "subslide"
    }
   },
   "source": [
    "## Testowanie konfiguracji platformy\n",
    "\n",
    "Dokładny opis znajduje się [tutaj](https://www.owasp.org/index.php/Test_Application_Platform_Configuration_%28OTG-CONFIG-002%29)\n",
    "\n",
    "- Cel testu\n",
    "    - Sprawdzenie, jak skonfigurowano platformę na której działa aplikacja (czy są jakieś domyślne aplikacje, pliki, konfiguracje, hasła)\n",
    "    - Sprawdzenie, co ciekawego jest w logach"
   ]
  },
  {
   "cell_type": "markdown",
   "metadata": {
    "slideshow": {
     "slide_type": "subslide"
    }
   },
   "source": [
    "## Testowanie obsługi plików z różnymi rozszerzeniami\n",
    "\n",
    "Dokładny opis znajduje się [tutaj](https://www.owasp.org/index.php/Test_File_Extensions_Handling_for_Sensitive_Information_%28OTG-CONFIG-003%29)\n",
    "\n",
    "## Testowanie, czy stare pliki zawierają wrażliwe dane\n",
    "\n",
    "Dokładny opis znajduje się [tutaj](https://www.owasp.org/index.php/Review_Old,_Backup_and_Unreferenced_Files_for_Sensitive_Information_%28OTG-CONFIG-004%29)"
   ]
  },
  {
   "cell_type": "markdown",
   "metadata": {
    "slideshow": {
     "slide_type": "subslide"
    }
   },
   "source": [
    "## Testowanie interfejsów dla administratorów\n",
    "\n",
    "Dokładny opis znajduje się [tutaj](https://www.owasp.org/index.php/Enumerate_Infrastructure_and_Application_Admin_Interfaces_%28OTG-CONFIG-005%29)\n",
    "\n",
    "## Testowanie metod HTTP\n",
    "\n",
    "Dokładny opis znajduje się [tutaj](https://www.owasp.org/index.php/Test_HTTP_Methods_%28OTG-CONFIG-006%29)"
   ]
  },
  {
   "cell_type": "markdown",
   "metadata": {
    "slideshow": {
     "slide_type": "slide"
    }
   },
   "source": [
    "# Testowanie zarządzania tożsamościami\n",
    "\n",
    "Pełna lista znajduje się [tutaj](https://www.owasp.org/index.php/Testing_Identity_Management)"
   ]
  },
  {
   "cell_type": "markdown",
   "metadata": {
    "slideshow": {
     "slide_type": "subslide"
    }
   },
   "source": [
    "## Testowanie definicji ról\n",
    "\n",
    "Dokładny opis znajduje się [tutaj](https://www.owasp.org/index.php/Test_Role_Definitions_%28OTG-IDENT-001%29)\n",
    "\n",
    "- Cel testu\n",
    "    - sprawdzenie, czy wszystkie role są właściwie zdefiniowane i czy użytkownik danej roli nie ma dostępu do akcji dla niego nieprzeznaczonej"
   ]
  },
  {
   "cell_type": "markdown",
   "metadata": {
    "slideshow": {
     "slide_type": "subslide"
    }
   },
   "source": [
    "## Testowanie procesu rejestracji\n",
    "\n",
    "Dokładny opis znajduje się [tutaj](https://www.owasp.org/index.php/Test_User_Registration_Process_%28OTG-IDENT-002%29)\n",
    "\n",
    "- Cel testu\n",
    "    - sprawdzenie, czy proces rejestracji przebiega prawidłowo\n"
   ]
  },
  {
   "cell_type": "markdown",
   "metadata": {
    "slideshow": {
     "slide_type": "subslide"
    }
   },
   "source": [
    "## Testowanie procesu obsługi kont\n",
    "\n",
    "Dokładny opis znajduje się [tutaj](https://www.owasp.org/index.php/Test_Account_Provisioning_Process_%28OTG-IDENT-003%29)\n",
    "\n",
    "- Cel testu\n",
    "    - sprawdzenie jakie konta mogą obsługiwać inne konta"
   ]
  },
  {
   "cell_type": "markdown",
   "metadata": {
    "slideshow": {
     "slide_type": "subslide"
    }
   },
   "source": [
    "## Testowanie, czy można poznać nazwy użytkowników\n",
    "\n",
    "Dokładny opis znajduje się [tutaj](https://www.owasp.org/index.php/Testing_for_Account_Enumeration_and_Guessable_User_Account_%28OTG-IDENT-004%29)\n",
    "\n",
    "- Cel testu\n",
    "    - sprawdzenie, czy aplikacja przy logowaniu zwraca informacje o braku użytkownika w bazie"
   ]
  },
  {
   "cell_type": "markdown",
   "metadata": {
    "slideshow": {
     "slide_type": "subslide"
    }
   },
   "source": [
    "## Testowanie, czy nazwy kont są możliwe do odgadnięcia\n",
    "\n",
    "Dokładny opis znajduje się [tutaj](https://www.owasp.org/index.php/Testing_for_Weak_or_unenforced_username_policy_%28OTG-IDENT-005%29)"
   ]
  },
  {
   "cell_type": "markdown",
   "metadata": {
    "slideshow": {
     "slide_type": "slide"
    }
   },
   "source": [
    "# Testowanie uwierzytelniania\n",
    "\n",
    "Pełna lista znajduje się [tutaj](https://www.owasp.org/index.php/Testing_for_authentication)"
   ]
  },
  {
   "cell_type": "markdown",
   "metadata": {
    "slideshow": {
     "slide_type": "subslide"
    }
   },
   "source": [
    "## Testowanie, czy dane logowania są przesyłane zaszyfrowanym kanałem\n",
    "\n",
    "Dokładny opis znajduje się [tutaj](https://www.owasp.org/index.php/Testing_for_Credentials_Transported_over_an_Encrypted_Channel_%28OTG-AUTHN-001%29)\n",
    "\n",
    "## Testowanie, czy domyślne dane logowania działają\n",
    "\n",
    "Dokładny opis znajduje się [tutaj](https://www.owasp.org/index.php/Testing_for_default_credentials_%28OTG-AUTHN-002%29)"
   ]
  },
  {
   "cell_type": "markdown",
   "metadata": {
    "slideshow": {
     "slide_type": "subslide"
    }
   },
   "source": [
    "## Testowanie, czy możliwość logowania się blokuje po wpisaniu nieprawidłowego hasła po $n$ próbach\n",
    "\n",
    "Dokładny opis znajduje się [tutaj](https://www.owasp.org/index.php/Testing_for_Weak_lock_out_mechanism_%28OTG-AUTHN-003%29)"
   ]
  },
  {
   "cell_type": "markdown",
   "metadata": {
    "slideshow": {
     "slide_type": "subslide"
    }
   },
   "source": [
    "## Testowanie, czy da się ominąć mechanizm uwierzytelniania\n",
    "\n",
    "Dokładny opis znajduje się [tutaj](https://www.owasp.org/index.php/Testing_for_Bypassing_Authentication_Schema_%28OTG-AUTHN-004%29)\n",
    "\n",
    "- Metody testowania\n",
    "    - próba dostępu do strony zabezpieczonej hasłem\n",
    "    - próba zmiana parametru zapytania\n",
    "    - próba przewidzenie identyfiktara sesji\n",
    "    - SQL injection"
   ]
  },
  {
   "cell_type": "markdown",
   "metadata": {
    "slideshow": {
     "slide_type": "subslide"
    }
   },
   "source": [
    "## Testowanie, czy mechanizm _zapamiętywania hasła_ jest bezpieczny\n",
    "\n",
    "Dokładny opis znajduje się [tutaj](https://www.owasp.org/index.php/Testing_for_Vulnerable_Remember_Password_%28OTG-AUTHN-005%29)\n",
    "\n",
    "- Metody testowania\n",
    "    - Sprawdź, czy hasło w ciasteczku jest jawnym tekstem\n",
    "    - Jeżeli jest haszowane, sprawdź, czy algorytm jest silny\n",
    "    - Sprawdź, jak często dane logowania są przesyłane na serwer"
   ]
  },
  {
   "cell_type": "markdown",
   "metadata": {
    "slideshow": {
     "slide_type": "subslide"
    }
   },
   "source": [
    "## Testowanie, czy aplikacja pozwala na ustawianie prostych haseł\n",
    "\n",
    "Dokładny opis znajduje się [tutaj](https://www.owasp.org/index.php/Testing_for_Weak_password_policy_%28OTG-AUTHN-007%29)"
   ]
  },
  {
   "cell_type": "markdown",
   "metadata": {
    "slideshow": {
     "slide_type": "slide"
    }
   },
   "source": [
    "# Testowanie autoryzacji\n",
    "\n",
    "Pełna lista znajduje się [tutaj](https://www.owasp.org/index.php/Testing_for_Authorization)"
   ]
  },
  {
   "cell_type": "markdown",
   "metadata": {
    "slideshow": {
     "slide_type": "subslide"
    }
   },
   "source": [
    "## Testowanie, czy można obejść mechanizm autoryzacji\n",
    "\n",
    "Dokładny opis znajduje się [tutaj](https://www.owasp.org/index.php/Testing_for_Bypassing_Authorization_Schema_%28OTG-AUTHZ-002%29)\n",
    "- Przykładowe scenariusze testowe\n",
    "    - czy do zasobu można się dostać bez uwierzytenienia\n",
    "    - czy można się dostać do zasobu po wylogowaniu\n",
    "    - czy można dostać się do zasobów nieprzeznaczonych dla zalogowane użytkownika (czy zwykły użytkownik może dostać się do zasobów dostępnych dla użytkownika)"
   ]
  },
  {
   "cell_type": "markdown",
   "metadata": {
    "slideshow": {
     "slide_type": "subslide"
    }
   },
   "source": [
    "## Testowanie, czy można zwiększyć uprawnienia\n",
    "\n",
    "Dokładny opis znajduje się [tutaj](https://www.owasp.org/index.php/Testing_for_Privilege_escalation_%28OTG-AUTHZ-003%29)\n",
    "\n",
    "- Przykładowe scenariusz testowe\n",
    "    - próby wywołania pewnych operacji na bazie danych\n",
    "    - manipulowanie przesyłanymi zapytaniami\n"
   ]
  },
  {
   "cell_type": "markdown",
   "metadata": {
    "slideshow": {
     "slide_type": "slide"
    }
   },
   "source": [
    "# Testowanie zarządzania sesją\n",
    "\n",
    "Pełna lista jest dostępna [tutaj](https://www.owasp.org/index.php/Testing_for_Session_Management)"
   ]
  },
  {
   "cell_type": "markdown",
   "metadata": {
    "slideshow": {
     "slide_type": "subslide"
    }
   },
   "source": [
    "## Testowanie ciasteczek\n",
    "\n",
    "Dokładny opis znajduje się [tutaj](https://www.owasp.org/index.php/Testing_for_Session_Management_Schema_%28OTG-SESS-001%29)\n",
    "\n",
    "- Przykładowy scenariusz:\n",
    "    - Przechwycenie ciasteczka\n",
    "    - Analizowanie ciasteczka\n",
    "    - Zmiana i wykorzystanie zmienionego ciasteczka"
   ]
  },
  {
   "cell_type": "markdown",
   "metadata": {
    "slideshow": {
     "slide_type": "subslide"
    }
   },
   "source": [
    "## Testowanie tworzenia sesji\n",
    "\n",
    "Dokładny opis znajduje się [tutaj](https://www.owasp.org/index.php/Testing_for_Session_Fixation_%28OTG-SESS-003%29)\n",
    "\n",
    "Czasami jest tak, że ciasteczko z sesją jest wysyłane przy pierwszym połączeniu ze stroną, przed zalogowaniem się"
   ]
  },
  {
   "cell_type": "markdown",
   "metadata": {
    "slideshow": {
     "slide_type": "subslide"
    }
   },
   "source": [
    "## Testowanie wylogowania\n",
    "\n",
    "Dokładny opis znajduje się [tutaj](https://www.owasp.org/index.php/Testing_for_logout_functionality_%28OTG-SESS-006%29)"
   ]
  },
  {
   "cell_type": "markdown",
   "metadata": {
    "slideshow": {
     "slide_type": "subslide"
    }
   },
   "source": [
    "## Testowanie CSFR - Cross-Site Request Forgery\n",
    "\n",
    "Dokładny opis znajduje się [tutaj](https://www.owasp.org/index.php/Testing_for_CSRF_%28OTG-SESS-005%29)\n",
    "\n"
   ]
  },
  {
   "cell_type": "markdown",
   "metadata": {
    "slideshow": {
     "slide_type": "subslide"
    }
   },
   "source": [
    "## Testowanie CSFR - Cross-Site Request Forgery\n",
    "\n",
    "Możemy atak wykonać, gdy\n",
    "1. Ofiara jest zalogowana do aplikacji webowej\n",
    "2. Mechanizm sesji zależy od informacji, którą zna przeglądarka\n",
    "3. Atakujący zna właściwy adres URL\n",
    "4. Fakt, że pewne tagi html (na przykład img) powodują natychmiastowy dostęp do zasobu\n"
   ]
  },
  {
   "cell_type": "markdown",
   "metadata": {
    "slideshow": {
     "slide_type": "subslide"
    }
   },
   "source": [
    "## Testowanie CSFR - Cross-Site Request Forgery\n",
    "\n",
    "Atakujący wysyła do ofiary link do strony, która zawiera:\n",
    "```html\n",
    "<img src=”https://www.company.example/action” width=”0” height=”0”>\n",
    "```\n",
    "To powoduje, że ofiara w swoim imieniu wykonuje operację w aplikacji webowej, której wcale nie chciała wykonać\n"
   ]
  },
  {
   "cell_type": "markdown",
   "metadata": {
    "slideshow": {
     "slide_type": "slide"
    }
   },
   "source": [
    "# Testowanie walidowania inputu\n",
    "\n",
    "Pełna lista jest dostępna [tutaj](https://www.owasp.org/index.php/Testing_for_Input_Validation)\n",
    "\n",
    "Chodzi przede wszystkim o:\n",
    "- XSS - Cross Site Scripting\n",
    "- manipulowaniem parametrami zapytania\n",
    "- SQL injection\n",
    "- i jeszcze kilka innych"
   ]
  },
  {
   "cell_type": "markdown",
   "metadata": {
    "slideshow": {
     "slide_type": "subslide"
    }
   },
   "source": [
    "## Testowanie _reflected_ XSS\n",
    "\n",
    "Dokładny opis znajduje się [tutaj](https://www.owasp.org/index.php/Testing_for_Reflected_Cross_site_scripting_%28OTG-INPVAL-001%29)\n",
    "\n",
    "Można to osiągnąć, gdy jakaś część URL jest wstawiana bez walidacji do treści strony, wtedy można wysłać spreparowany link, który wstawi skrypt na stronę, którą wyświetli ofiara."
   ]
  },
  {
   "cell_type": "markdown",
   "metadata": {
    "slideshow": {
     "slide_type": "subslide"
    }
   },
   "source": [
    "## Testowanie _stored_ XSS\n",
    "\n",
    "Dokładny opis znajduje się [tutaj](https://www.owasp.org/index.php/Testing_for_Stored_Cross_site_scripting_%28OTG-INPVAL-002%29)\n",
    "\n",
    "Wstrzykiwany kod trafia do aplikacji i jest wyświetlany każdemu użytkownikowi aplikacji."
   ]
  },
  {
   "cell_type": "markdown",
   "metadata": {
    "slideshow": {
     "slide_type": "subslide"
    }
   },
   "source": [
    "## Testowanie zanieczyszczenia parametrów HTTP\n",
    "\n",
    "Dokładny opis znajduje się [tutaj](https://www.owasp.org/index.php/Testing_for_HTTP_Parameter_pollution_%28OTG-INPVAL-004%29)\n",
    "\n",
    "Różne serwery aplikacyjne różnie obsługują sytuację, gdy do zapytania HTTP dodamy wiele parametrów o takiej samej nazwie"
   ]
  },
  {
   "cell_type": "markdown",
   "metadata": {
    "slideshow": {
     "slide_type": "subslide"
    }
   },
   "source": [
    "## Testowanie SQL injection\n",
    "\n",
    "Dokładny opis znajduje się [tutaj](https://www.owasp.org/index.php/Testing_for_SQL_Injection_%28OTG-INPVAL-005%29)"
   ]
  },
  {
   "cell_type": "markdown",
   "metadata": {
    "slideshow": {
     "slide_type": "subslide"
    }
   },
   "source": [
    "## Testowanie SQL injection\n",
    "\n",
    "Najprostszy przykład [stąd](https://www.owasp.org/index.php/Testing_for_SQL_Injection_%28OTG-INPVAL-005%29#Example_1_.28classical_SQL_Injection.29:):\n",
    "Zapytanie:\n",
    "```sql\n",
    "SELECT * FROM Users WHERE Username='$username' AND Password='$password'\n",
    "```\n",
    "Możemy zmienić na\n",
    "```sql\n",
    "SELECT * FROM Users WHERE Username='1' OR '1' = '1' AND Password='1' OR '1' = '1' ```"
   ]
  },
  {
   "cell_type": "markdown",
   "metadata": {
    "slideshow": {
     "slide_type": "subslide"
    }
   },
   "source": [
    "## Testowanie XML injection\n",
    "\n",
    "Dokładny opis znajduje się [tutaj](https://www.owasp.org/index.php/Testing_for_XML_Injection_%28OTG-INPVAL-008%29)\n",
    "\n",
    "Jest możliwe do zastosowania, gdy w komunikacji korzysta się z plików XML"
   ]
  },
  {
   "cell_type": "markdown",
   "metadata": {
    "slideshow": {
     "slide_type": "subslide"
    }
   },
   "source": [
    "## Testowanie wstrzykiwania poleceń systemowych\n",
    "\n",
    "Dokładny opis znajduje się [tutaj](https://www.owasp.org/index.php/Testing_for_Command_Injection_%28OTG-INPVAL-013%29)\n",
    "\n",
    "Czasami można aplikacji wstrzyknąć kod, który wykona się w systemie operacyjnym serwera."
   ]
  },
  {
   "cell_type": "markdown",
   "metadata": {
    "slideshow": {
     "slide_type": "subslide"
    }
   },
   "source": [
    "## Testowanie przepełnienia sterty\n",
    "\n",
    "Dokładny opis jest [tutaj](https://www.owasp.org/index.php/Testing_for_Heap_Overflow)\n",
    "\n",
    "Sterta to część pamięci programu, w której są alokowane dynamicznie tworzone obiekty. Testowanie polega na przesyłaniu za długich danych. W ten sposób można nadpisać pewne rejestry procesora, przez co aplikacja może zacząć działać inaczej niż przewidział twórca aplikacji."
   ]
  },
  {
   "cell_type": "markdown",
   "metadata": {
    "slideshow": {
     "slide_type": "subslide"
    }
   },
   "source": [
    "## Testowanie przepełnienia stosu\n",
    "\n",
    "Dokładny opis znajduje się [tutaj](https://www.owasp.org/index.php/Testing_for_Stack_Overflow)\n",
    "\n",
    "Podobnie jak wcześniej - podawanie na wejście danych dłuższych niż oczekiwane może spowodować DoS lub wykonanie nieoczekiwanych operacji."
   ]
  },
  {
   "cell_type": "markdown",
   "metadata": {
    "slideshow": {
     "slide_type": "subslide"
    }
   },
   "source": [
    "## Testowanie formatowania napisów\n",
    "\n",
    "Dokładny opis znajduje się [tutaj](https://www.owasp.org/index.php/Testing_for_Format_String)\n",
    "\n",
    "Wykorzystanie tego, że aplikacja włącza wartość podaną przez użytkownika w poleceniach typu `String.format`."
   ]
  },
  {
   "cell_type": "markdown",
   "metadata": {
    "slideshow": {
     "slide_type": "slide"
    }
   },
   "source": [
    "# Testowanie obsługi błędów\n",
    "\n",
    "Pełna lista znajduje się [tutaj](https://www.owasp.org/index.php/Testing_for_Error_Handling)"
   ]
  },
  {
   "cell_type": "markdown",
   "metadata": {
    "slideshow": {
     "slide_type": "subslide"
    }
   },
   "source": [
    "## Testowanie kodów błędów\n",
    "\n",
    "Dokładny opis znajduje się [tutaj](https://www.owasp.org/index.php/Testing_for_Error_Code_%28OTG-ERR-001%29)\n",
    "\n",
    "Każdy serwer ma trochę inaczej zaimplementowaną obsługę zapytań i błędów HTTP. Testując zachowanie aplikacji i obserwacja sposobów obsługi błędów HTTP może nam pomóc zidentyfikować rodzaj serwera."
   ]
  },
  {
   "cell_type": "markdown",
   "metadata": {
    "slideshow": {
     "slide_type": "subslide"
    }
   },
   "source": [
    "## Testowanie _stacktrace_'ów\n",
    "\n",
    "Dokładny opis znajduje się [tutaj](https://www.owasp.org/index.php/Testing_for_Stack_Traces_%28OTG-ERR-002%29)"
   ]
  },
  {
   "cell_type": "markdown",
   "metadata": {
    "slideshow": {
     "slide_type": "slide"
    }
   },
   "source": [
    "# Testowanie słabej kryptografii\n",
    "\n",
    "Pełna lista znajduje się [tutaj](https://www.owasp.org/index.php/Testing_for_weak_Cryptography)"
   ]
  },
  {
   "cell_type": "markdown",
   "metadata": {
    "slideshow": {
     "slide_type": "subslide"
    }
   },
   "source": [
    "## Testowanie słabego zabezpieczenia SSL/TLS\n",
    "\n",
    "Dokładny opis jest dostępny [tutaj](https://www.owasp.org/index.php/Testing_for_Weak_SSL/TLS_Ciphers,_Insufficient_Transport_Layer_Protection_%28OTG-CRYPST-001%29)"
   ]
  },
  {
   "cell_type": "markdown",
   "metadata": {
    "slideshow": {
     "slide_type": "subslide"
    }
   },
   "source": [
    "## Testowanie, czy wrażliwe dane nie są przesyłane niezaszyfrowanym kanałem\n",
    "\n",
    "Dokładny opis znajduje się [tutaj](https://www.owasp.org/index.php/Testing_for_Sensitive_information_sent_via_unencrypted_channels_%28OTG-CRYPST-003%29)"
   ]
  },
  {
   "cell_type": "markdown",
   "metadata": {
    "slideshow": {
     "slide_type": "subslide"
    }
   },
   "source": [
    "## Testowanie słąbego szyfrowania\n",
    "\n",
    "Dokładny opis znajduje się [tutaj](https://www.owasp.org/index.php/Testing_for_Weak_Encryption_%28OTG-CRYPST-004%29)"
   ]
  },
  {
   "cell_type": "markdown",
   "metadata": {
    "slideshow": {
     "slide_type": "slide"
    }
   },
   "source": [
    "# Testowanie logiki biznesowej\n",
    "\n",
    "Pełna lista jest dostępna [tutaj](https://www.owasp.org/index.php/Testing_for_business_logic)\n",
    "\n",
    "- testowanie, czy sprawdzana jest spójność danych\n",
    "- testowanie, czy zapytania są przetwarzane wystarczająco szybko\n",
    "- czy można wykonać jakąś akcję z pominięciem przewidzianego _flow_\n",
    "- testowanie, jak aplikacja się zachowa, gdy uploadujemy plik o nieoczekiwanym rozszerzeniu lub jakiś podejrzany plik\n"
   ]
  },
  {
   "cell_type": "markdown",
   "metadata": {
    "slideshow": {
     "slide_type": "slide"
    }
   },
   "source": [
    "# Testowanie klienckiej części aplikacji\n",
    "\n",
    "Pełna lista jest dostępna [tutaj](https://www.owasp.org/index.php/Client_Side_Testing)\n",
    "\n",
    "- Testowanie bezpieczeństwa związanego z kodem, który jest wykonywany po stronie użytkownika"
   ]
  }
 ],
 "metadata": {
  "celltoolbar": "Slideshow",
  "kernelspec": {
   "display_name": "Python 3",
   "language": "python",
   "name": "python3"
  },
  "language_info": {
   "codemirror_mode": {
    "name": "ipython",
    "version": 3
   },
   "file_extension": ".py",
   "mimetype": "text/x-python",
   "name": "python",
   "nbconvert_exporter": "python",
   "pygments_lexer": "ipython3",
   "version": "3.6.5rc1"
  },
  "livereveal": {
   "footer": "<h3>Bezpieczeństwo systemów komputerowych, 22 maja 2018, Paweł Bogdan</h3>",
   "theme": "serif"
  }
 },
 "nbformat": 4,
 "nbformat_minor": 2
}
