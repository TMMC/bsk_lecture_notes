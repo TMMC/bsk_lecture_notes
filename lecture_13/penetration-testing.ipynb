{
 "cells": [
  {
   "cell_type": "markdown",
   "metadata": {
    "slideshow": {
     "slide_type": "slide"
    }
   },
   "source": [
    "# Testy penetracyjne\n",
    "## Paweł Bogdan\n",
    "## 28 maja 2018\n",
    "### Bezpieczeństwo Systemów komputerowych"
   ]
  },
  {
   "cell_type": "markdown",
   "metadata": {
    "slideshow": {
     "slide_type": "slide"
    }
   },
   "source": [
    "# Disclaimer\n",
    "\n",
    "Prezentowane treści mają charakter **edukacyjny**.\n",
    "\n",
    "Prezentacja pokazuje techniki testowania swojej sieci bezprzewodowej.\n",
    "\n",
    "Wykorzystanie tych technik do siedzi cudzych jest **zabronione**.\n",
    "\n",
    "Autor dokumentu nie bierze odpowiedzialności za to, w jakim celu wiedza przedstawiona w dokumencie zostanie wykorzystana."
   ]
  },
  {
   "cell_type": "markdown",
   "metadata": {
    "slideshow": {
     "slide_type": "subslide"
    }
   },
   "source": [
    "## Artykuł 267 Kodeksu Karnego\n",
    "\n",
    "\n",
    "> §1. Kto bez uprawnienia uzyskuje dostęp do informacji dla niego nieprzeznaczonej, otwierając zamknięte pismo, podłączając się do sieci telekomunikacyjnej lub przełamując albo omijając elektroniczne, magnetyczne, informatyczne lub inne szczególne jej zabezpieczenie, podlega grzywnie, karze ograniczenia wolności albo **pozbawienia wolności do lat 2**.  "
   ]
  },
  {
   "cell_type": "markdown",
   "metadata": {
    "slideshow": {
     "slide_type": "slide"
    }
   },
   "source": [
    "# Źródła\n",
    "\n",
    "- Książka Petera Kima _Podręcznik pentestera_\n",
    "- Książka Thomasa Wilhelma _Profesjonalne testy penetracyjne_\n",
    "- Książka Davida Kennedy'ego, Jima O'Gormana, Devona Kearns'a i Mati'ego Aharoni _Metaspoloit. Przewodnik po testach penetracyjnych_\n",
    "- Dokument ISSAF opracowany przez grupę OISSG (Open Information Systems Security Group). Plik [pdf jest dostępny tutaj](http://ftp.oissg.org/issaf.html)\n",
    "- Podręcznik OSSTMM (Open Source Security Testing Methodology Manual) opracowany przez ISECOM (Insitute for Security and Open Methodologies). Plik [pdf jest dostępny tutaj](http://www.isecom.org/research/)"
   ]
  },
  {
   "cell_type": "markdown",
   "metadata": {
    "slideshow": {
     "slide_type": "slide"
    }
   },
   "source": [
    "# Czym są testy penetracyjne?\n",
    "\n",
    "### Szukanie luk bezpieczeństwa i ich umiejętne wykorzystanie"
   ]
  },
  {
   "cell_type": "markdown",
   "metadata": {
    "slideshow": {
     "slide_type": "slide"
    }
   },
   "source": [
    "# Jak je wykonywać?\n",
    "\n",
    "Według Petera Kima o teście pentracyjnym można myśleć jak o meczu futbolu amerykańskiego\n",
    "\n",
    "- **Przed grą** - przygotowanie się do _ataku_\n",
    "- **Przed gwizdkiem** - poznanie _atakowanego_ systemu\n",
    "- **Ciąg** - wykorzystujemy luki poznane w czasie skanowania systemu i próbujemy się dostać do systemu\n",
    "- **Rzut** - wykorzystanie luk w aplikacjach webowych\n",
    "- **Podanie boczne** - poruszanie się po systemie (jak to określił Kim: \"zakosami\")\n",
    "- **Ekran** - wykorzystanie inżynierii społecznej\n",
    "- **Wykop na bok** - jak można wykorzystać fizyczny dostęp do maszyny\n",
    "- **Zmyłka rozgrywającego** - o oszukiwaniu antywirusa\n",
    "- **Zespoły specjalne** - różnego rodzaju sztuczki\n",
    "- **Analiza po grze** - jak tworzyć raport"
   ]
  },
  {
   "cell_type": "markdown",
   "metadata": {
    "slideshow": {
     "slide_type": "slide"
    }
   },
   "source": [
    "# ISSAF na podstawie książki Thomasa Wilhelma"
   ]
  },
  {
   "cell_type": "markdown",
   "metadata": {
    "slideshow": {
     "slide_type": "subslide"
    }
   },
   "source": [
    "## Faza 1:\n",
    "\n",
    "- Planowanie\n",
    "- Przygotowania"
   ]
  },
  {
   "cell_type": "markdown",
   "metadata": {
    "slideshow": {
     "slide_type": "subslide"
    }
   },
   "source": [
    "## Faza 2:\n",
    "- Rekonesans"
   ]
  },
  {
   "cell_type": "markdown",
   "metadata": {
    "slideshow": {
     "slide_type": "subslide"
    }
   },
   "source": [
    "### Warstwy rekonesansu\n",
    "\n",
    "- Przeszukiwanie Internetu pod kątem testowanego systemu i jego właściciela\n",
    "- Mapowanie sieci testowanego systemu\n",
    "- Szukanie luk\n",
    "- Wejście do systemu i eskalacja uprawnień\n",
    "- Zbadanie jak działa system\n",
    "- Włamanie się na konta użytkowników\n",
    "- Fałszywa komunikacja z użytkownikami\n",
    "- Zapewnienie łatwiejszego dostępu w przyszłości\n",
    "- Zatarcie śladów"
   ]
  },
  {
   "cell_type": "markdown",
   "metadata": {
    "slideshow": {
     "slide_type": "subslide"
    }
   },
   "source": [
    "### Cele ataków\n",
    "\n",
    "- sieć\n",
    "- komputery\n",
    "- aplikacje (w tym webowe)\n",
    "- bazy danych"
   ]
  },
  {
   "cell_type": "markdown",
   "metadata": {
    "slideshow": {
     "slide_type": "subslide"
    }
   },
   "source": [
    "## Faza 3:\n",
    "\n",
    "- Raportowanie\n",
    "- Sprzątanie"
   ]
  },
  {
   "cell_type": "markdown",
   "metadata": {
    "slideshow": {
     "slide_type": "subslide"
    }
   },
   "source": [
    "### Typy raportów\n",
    "\n",
    "- ustny\n",
    "- pisemny"
   ]
  },
  {
   "cell_type": "markdown",
   "metadata": {
    "slideshow": {
     "slide_type": "subslide"
    }
   },
   "source": [
    "### Informacje w raporcie\n",
    "\n",
    "- zakres projektu\n",
    "- użyte narzędzia\n",
    "- jak wykorzystano luki\n",
    "- ramy czasowe testów\n",
    "- jakie dane uzyskano\n",
    "- wszystkie luki\n",
    "- zalecania"
   ]
  },
  {
   "cell_type": "markdown",
   "metadata": {
    "slideshow": {
     "slide_type": "slide"
    }
   },
   "source": [
    "# Pasywne zbieranie informacji\n",
    "\n",
    "- [dogpile.com](http://www.dogpile.com/) - _metasearch engine_\n",
    "- [alexa.com](https://www.alexa.com/) - bada ruch do innych stron w internecie\n",
    "- [archive.org](https://archive.org/) - przechowuje kopie starych wersji stron\n",
    "- `dig`, `nslookup` - programy do odpytywania serwerów DNS\n",
    "- `whois`"
   ]
  },
  {
   "cell_type": "markdown",
   "metadata": {
    "slideshow": {
     "slide_type": "subslide"
    }
   },
   "source": [
    "## Pasywne zbieranie informacji\n",
    "\n",
    "- Kali Linux posiada wiele narzędzi, które pozwalają zautomatyzować taką operację\n",
    "- Jest też rozwiązanie zbiorcze: https://github.com/leebaird/discover"
   ]
  },
  {
   "cell_type": "markdown",
   "metadata": {
    "slideshow": {
     "slide_type": "slide"
    }
   },
   "source": [
    "# Aktywne zbieranie informacji\n",
    "\n",
    "- skanowanie sieci na przykład przy użyciu `traceroute`\n",
    "- odpytywanie wewnętrznego serwera DNS"
   ]
  },
  {
   "cell_type": "markdown",
   "metadata": {
    "slideshow": {
     "slide_type": "slide"
    }
   },
   "source": [
    "# Wykrywanie luk"
   ]
  },
  {
   "cell_type": "markdown",
   "metadata": {
    "slideshow": {
     "slide_type": "subslide"
    }
   },
   "source": [
    "## Skanowanie, czy cel ataku istnieje\n",
    "\n",
    "- `ping`\n",
    "- `nmap -sP`\n",
    "- pasywne skanowanie ruchu sieciowego pomiędzy innymi komputerami"
   ]
  },
  {
   "cell_type": "markdown",
   "metadata": {
    "slideshow": {
     "slide_type": "subslide"
    }
   },
   "source": [
    "## Skanowanie UDP\n",
    "\n",
    "Wyniki skanowania UDP:\n",
    "- otwarty - skanowanie się powiodło, potwierdziliśmy istnienie aktywnego portu UDP\n",
    "- otwarty/filtrowany - skanowanie nie dostaje odpowiedzi\n",
    "- zamknięty - ICMP dostaje odpowiedź o tym, że port jest niedostępny (ale to oznacza, że komputer istnieje)\n",
    "- filtrowany - ICMP dostaje odpowiedź ale nie dotyczącą niedostępnego portu"
   ]
  },
  {
   "cell_type": "markdown",
   "metadata": {
    "slideshow": {
     "slide_type": "subslide"
    }
   },
   "source": [
    "## Skanowanie TCP\n",
    "\n",
    "- `netcat`\n",
    "- `nmap`"
   ]
  },
  {
   "cell_type": "markdown",
   "metadata": {
    "slideshow": {
     "slide_type": "subslide"
    }
   },
   "source": [
    "## Identyfikacja systemu operacyjnego\n",
    "\n",
    "- `nmap -O`\n",
    "- `xprobe2`"
   ]
  },
  {
   "cell_type": "markdown",
   "metadata": {
    "slideshow": {
     "slide_type": "subslide"
    }
   },
   "source": [
    "## Identyfikacja usług\n",
    "\n",
    "- Pozyskiwanie banerów - `nmap -sV`\n",
    "- Ręczne łączenie się z portami, które nie przedstawiają się banerami"
   ]
  },
  {
   "cell_type": "markdown",
   "metadata": {
    "slideshow": {
     "slide_type": "subslide"
    }
   },
   "source": [
    "## Sprawdzenie aplikacji i wersji w bazie danych ze znanymi podatnościami"
   ]
  },
  {
   "cell_type": "markdown",
   "metadata": {
    "slideshow": {
     "slide_type": "slide"
    }
   },
   "source": [
    "# Wykorzystanie znalezionych luk"
   ]
  },
  {
   "cell_type": "markdown",
   "metadata": {
    "slideshow": {
     "slide_type": "subslide"
    }
   },
   "source": [
    "## Narzędzia zautomatyzowane\n",
    "\n",
    "- Nessus\n",
    "- OpenVAS\n",
    "- CORE Impact\n",
    "- Nexpose\n",
    "- GFI LanGuard"
   ]
  },
  {
   "cell_type": "markdown",
   "metadata": {
    "slideshow": {
     "slide_type": "subslide"
    }
   },
   "source": [
    "## Narzędzia zautomatyzowane\n",
    "\n",
    "- QualysGuard\n",
    "- MBSA\n",
    "- Retina\n",
    "- Secunia PSI\n",
    "- Nipper"
   ]
  },
  {
   "cell_type": "markdown",
   "metadata": {
    "slideshow": {
     "slide_type": "subslide"
    }
   },
   "source": [
    "## Trochę bardziej złożone narzędzia\n",
    "\n",
    "- Metasploit\n",
    "- CORE Impact\n",
    "- sqlmap\n",
    "- Canvas\n",
    "- Netsparker"
   ]
  },
  {
   "cell_type": "markdown",
   "metadata": {
    "slideshow": {
     "slide_type": "slide"
    }
   },
   "source": [
    "# Poruszanie się po systemie"
   ]
  },
  {
   "cell_type": "markdown",
   "metadata": {
    "slideshow": {
     "slide_type": "subslide"
    }
   },
   "source": [
    "## Stworzenie powłoki odwrotnej\n",
    "\n",
    "- narzędzie `netcat`"
   ]
  },
  {
   "cell_type": "markdown",
   "metadata": {
    "slideshow": {
     "slide_type": "slide"
    }
   },
   "source": [
    "# Eskalacja uprawnień"
   ]
  },
  {
   "cell_type": "markdown",
   "metadata": {
    "slideshow": {
     "slide_type": "subslide"
    }
   },
   "source": [
    "## Ataki na hasła\n",
    "\n",
    "- zdalne - na przykład przy wykorzystaniu programu `hydra`\n",
    "- lokalny - gdy już jesteśmy w systemie, to możemy łamać hashe z pliku `/etc/shadow`"
   ]
  },
  {
   "cell_type": "markdown",
   "metadata": {
    "slideshow": {
     "slide_type": "subslide"
    }
   },
   "source": [
    "## Socjotechnika"
   ]
  },
  {
   "cell_type": "markdown",
   "metadata": {
    "slideshow": {
     "slide_type": "subslide"
    }
   },
   "source": [
    "## Ukrywanie obecności\n",
    "\n",
    "- czyszczenie logów\n",
    "- ukrywanie utworzonych plików"
   ]
  },
  {
   "cell_type": "markdown",
   "metadata": {
    "slideshow": {
     "slide_type": "slide"
    }
   },
   "source": [
    "## Ataki na sieci\n",
    "\n",
    "- już to przerabialiśmy"
   ]
  },
  {
   "cell_type": "markdown",
   "metadata": {
    "slideshow": {
     "slide_type": "slide"
    }
   },
   "source": [
    "## Ataki na aplikacje webowe"
   ]
  },
  {
   "cell_type": "markdown",
   "metadata": {
    "slideshow": {
     "slide_type": "slide"
    }
   },
   "source": [
    "# Metasploit\n",
    "\n",
    "Cytując książkę _Metaspoloit. Przewodnik po testach penetracyjnych_:\n",
    "\n",
    "> Jest to platforma typu\n",
    "open source zapewniająca spójną, niezawodną bibliotekę stale aktualizowanych\n",
    "exploitów oraz oferująca kompletne środowisko programistyczne do tworzenia\n",
    "nowych narzędzi i automatyzowania wszelkich aspektów testu penetracyjnego."
   ]
  },
  {
   "cell_type": "markdown",
   "metadata": {
    "slideshow": {
     "slide_type": "subslide"
    }
   },
   "source": [
    "## Słowniczek\n",
    "\n",
    "- Exploit\n",
    "- Payload\n",
    "- Shellcode\n",
    "- Module\n",
    "- Listener"
   ]
  },
  {
   "cell_type": "markdown",
   "metadata": {
    "slideshow": {
     "slide_type": "subslide"
    }
   },
   "source": [
    "## Interfejsy dla użytkownika\n",
    "\n",
    "- MSFconsole\n",
    "- MSFcli\n",
    "- Armitage"
   ]
  },
  {
   "cell_type": "markdown",
   "metadata": {
    "slideshow": {
     "slide_type": "subslide"
    }
   },
   "source": [
    "## Kilka poleceń\n",
    "\n",
    "- `show exploits`\n",
    "- `show auxiliary`\n",
    "- `show options`\n",
    "- `search <>`\n",
    "- `use <>`\n",
    "- `set` i `unset`"
   ]
  }
 ],
 "metadata": {
  "celltoolbar": "Slideshow",
  "kernelspec": {
   "display_name": "Python 3",
   "language": "python",
   "name": "python3"
  },
  "language_info": {
   "codemirror_mode": {
    "name": "ipython",
    "version": 3
   },
   "file_extension": ".py",
   "mimetype": "text/x-python",
   "name": "python",
   "nbconvert_exporter": "python",
   "pygments_lexer": "ipython3",
   "version": "3.6.5rc1"
  },
  "livereveal": {
   "footer": "<h3>Bezpieczeństwo systemów komputerowych, 28 maja 2018, Paweł Bogdan</h3>",
   "theme": "serif"
  }
 },
 "nbformat": 4,
 "nbformat_minor": 2
}
