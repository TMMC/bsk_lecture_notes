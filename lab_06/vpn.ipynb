{
 "cells": [
  {
   "cell_type": "markdown",
   "metadata": {},
   "source": [
    "# Bezpieczeństwo Systemów Komputerowych\n",
    "\n",
    "## Ćwiczenia 6: VPN\n",
    "\n",
    "### 9 kwietnia 2018 roku"
   ]
  },
  {
   "cell_type": "markdown",
   "metadata": {},
   "source": [
    "# Informacje wstępne\n",
    "\n",
    "Na dzisiejszych zajęciach będziemy korzystać z obrazka `pawelbogdan/bsk:lecture_6`. Mamy na nim zainstalowane\n",
    "- oprogramowanie, które pozwala przeglądać internet z poziomu terminala systemu. Są dwie przeglądarki: `links` i `lynx`. Wydaje mi się, że `lynx` jest bardziej intuicyjny dla początkujących użytkowników.\n",
    "- oprogramowanie `openvpn`\n",
    "-server `ssh`\n",
    "\n",
    "Aby uniknąć późniejszych błędów sugeruję, aby uruchomić kontener przy użyciu następującego polecenia:\n",
    "```\n",
    "docker run --privileged -it -P pawelbogdan/bsk:lecture_6 bash\n",
    "```\n",
    "Uwaga dodana po lekturze [tego wątku na stacku](https://stackoverflow.com/questions/44379051/error-connecting-to-vpn-within-docker-container)"
   ]
  },
  {
   "cell_type": "markdown",
   "metadata": {},
   "source": [
    "# Zadanie 1\n",
    "\n",
    "Korzystając z którejś z przeglądarek zainstalowanej na kontenerze sprawdź jaki jest adres IP maszyny i jej lokalizacja geograficzna."
   ]
  },
  {
   "cell_type": "markdown",
   "metadata": {},
   "source": [
    "# Zadanie 2\n",
    "\n",
    "Połącz się z jakimś serwerem `openvpn`. \n",
    "\n",
    "Na potrzeby ćwiczeń możemy wykorzystać jakiś darmowy serwer. Jednym z pierwszych wyników w wyszukiwarce `duckduckgo.com` jest strona: [`https://www.vpnbook.com/`](https://www.vpnbook.com/), która udostępnia różne serwery `openvpn`."
   ]
  },
  {
   "cell_type": "markdown",
   "metadata": {},
   "source": [
    "# Zadanie 3\n",
    "\n",
    "Sprawdź, pod jakim adresem jesteś teraz widoczny w internecie."
   ]
  },
  {
   "cell_type": "markdown",
   "metadata": {},
   "source": [
    "# Zadanie 4\n",
    "\n",
    "Przeanalizuj pliki konfiguracyjne. Czym się różnią między sobą?"
   ]
  },
  {
   "cell_type": "markdown",
   "metadata": {},
   "source": [
    "# Zadanie 5\n",
    "\n",
    "Korzystając z `wiresharka` przeanalizuj ruch sieciowy maszyny. Jakie zależności widzisz?"
   ]
  },
  {
   "cell_type": "markdown",
   "metadata": {},
   "source": [
    "## Zadanie 6\n",
    "\n",
    "Skonfiguruj na kontenerze dockerowym serwer `ssh` i nawiąż z nim połączenie w taki sposób, aby połączenie z maszyny gospodarza z adresem `localhost:12345` wyświetliło informacje o adresie IP."
   ]
  },
  {
   "cell_type": "markdown",
   "metadata": {},
   "source": [
    "# Praca domowa\n",
    "\n",
    "Jako pracę domową przygotuj obraz Dockera, który po uruchomieniu będzie serwerem `openvpn`."
   ]
  }
 ],
 "metadata": {
  "kernelspec": {
   "display_name": "Python 3",
   "language": "python",
   "name": "python3"
  },
  "language_info": {
   "codemirror_mode": {
    "name": "ipython",
    "version": 3
   },
   "file_extension": ".py",
   "mimetype": "text/x-python",
   "name": "python",
   "nbconvert_exporter": "python",
   "pygments_lexer": "ipython3",
   "version": "3.5.2"
  }
 },
 "nbformat": 4,
 "nbformat_minor": 2
}
