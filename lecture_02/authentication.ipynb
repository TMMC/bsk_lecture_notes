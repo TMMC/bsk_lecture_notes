{
 "cells": [
  {
   "cell_type": "markdown",
   "metadata": {
    "slideshow": {
     "slide_type": "slide"
    }
   },
   "source": [
    "# Metody uwierzytelnienia\n",
    "## Paweł Bogdan\n",
    "## 5 marca 2018\n",
    "### Bezpieczeństwo Systemów komputerowych"
   ]
  },
  {
   "cell_type": "markdown",
   "metadata": {
    "slideshow": {
     "slide_type": "slide"
    }
   },
   "source": [
    "## Definicje\n",
    "\n",
    "Cytując książkę Stallingsa:\n",
    "\n",
    "> Protokoły wzajemnego **uwierzytelnienia** dają komunikującym się podmiotom pewność co do autentyczności drugiej strony oraz umożliwiają wymianę kluczy sesji"
   ]
  },
  {
   "cell_type": "markdown",
   "metadata": {
    "slideshow": {
     "slide_type": "slide"
    }
   },
   "source": [
    "## Proces weryfikacji\n",
    "\n",
    "### 1. Identyfikacja\n",
    "\n",
    "### 2. Weryfikacja"
   ]
  },
  {
   "cell_type": "markdown",
   "metadata": {
    "slideshow": {
     "slide_type": "slide"
    }
   },
   "source": [
    "## Z czego możemy korzystać, żeby się uwierzytelnić?\n",
    "\n",
    "### Z czegoś _co wiemy_\n",
    "\n",
    "### Z czegoś _co mamy_\n",
    "\n",
    "### Z czegoś _kim jesteśmy_"
   ]
  },
  {
   "cell_type": "markdown",
   "metadata": {
    "slideshow": {
     "slide_type": "slide"
    }
   },
   "source": [
    "## Hasła \n",
    "\n",
    "**Prawo Moore'a**: co 3 lata hasła tracą 2 bity swojej mocy"
   ]
  },
  {
   "cell_type": "markdown",
   "metadata": {
    "slideshow": {
     "slide_type": "slide"
    }
   },
   "source": [
    "## Jak się przechowuje hasła?\n",
    "\n",
    "- `crypt(3)`\n",
    "- `MD5`\n",
    "- PBKDF2 Password Based Key Derivation Formula\n",
    "   - PKCS#2 "
   ]
  },
  {
   "cell_type": "markdown",
   "metadata": {
    "slideshow": {
     "slide_type": "slide"
    }
   },
   "source": [
    "## Wady prostego uwierzytelniania przez hasło"
   ]
  },
  {
   "cell_type": "markdown",
   "metadata": {
    "slideshow": {
     "slide_type": "fragment"
    }
   },
   "source": [
    "### Ataki _przez powtarzanie_"
   ]
  },
  {
   "cell_type": "markdown",
   "metadata": {
    "slideshow": {
     "slide_type": "slide"
    }
   },
   "source": [
    "## Rozwiązanie?"
   ]
  },
  {
   "cell_type": "markdown",
   "metadata": {
    "slideshow": {
     "slide_type": "fragment"
    }
   },
   "source": [
    "### Znaczniki czasowe"
   ]
  },
  {
   "cell_type": "markdown",
   "metadata": {
    "slideshow": {
     "slide_type": "fragment"
    }
   },
   "source": [
    "### Wyzwanie odpowiedź"
   ]
  },
  {
   "cell_type": "markdown",
   "metadata": {
    "slideshow": {
     "slide_type": "slide"
    }
   },
   "source": [
    "## Systemy haseł jednorazowych\n"
   ]
  },
  {
   "cell_type": "markdown",
   "metadata": {
    "slideshow": {
     "slide_type": "fragment"
    }
   },
   "source": [
    "### S/KEY (albo schemat Lamporta)"
   ]
  },
  {
   "cell_type": "markdown",
   "metadata": {
    "slideshow": {
     "slide_type": "subslide"
    }
   },
   "source": [
    "### Schemat Lamporta - tworzenie kluczy\n",
    "\n",
    "- Serwer generuje losową wartość $K$\n",
    "- Przy użyciu kryptograficznej funkcji haszującej $H$ generuje ciąg:\n",
    "$$H(K),~~~ H(H(K)) = H^2(K),~~~ H^3(K),~~~...~~~,H^{n-1}(K),~~~H^n(K)$$\n",
    "- Serwer wysyła do klienta przez **bezpieczny kanał** ciąg w odwrotnej kolejności:\n",
    "$$H^{n-1}(K),~~~H^{n-2}(K),~~~...~~~, H^2(K),~~~H(K)$$\n",
    "- Serwer zapomina $K$ i cały ciąg poza $H^n(K)$\n",
    "- Serwer zapamiętuje $H^n(K)$ pod zmienną $A$\n",
    "\n",
    "### Albo\n",
    "\n",
    "- Klient wysyła na serwer $H^n(K)$ przez **bezpieczny kanał**"
   ]
  },
  {
   "cell_type": "markdown",
   "metadata": {
    "slideshow": {
     "slide_type": "subslide"
    }
   },
   "source": [
    "### Schemat Lamporta - uwierzytelnianie\n",
    "\n",
    "- Klient wysyła serwerowi wyraz $H^{n-1}(K)$\n",
    "- Serwer wykonuje porównanie:\n",
    "$$A == H(H^{n-1}(K))$$\n",
    "- Serwer zapamiętuje $H^{n-1}(K)$ do zmiennej $A$"
   ]
  },
  {
   "cell_type": "markdown",
   "metadata": {
    "slideshow": {
     "slide_type": "slide"
    }
   },
   "source": [
    "## Algorytm wyzwanie-odpowiedź\n",
    "\n",
    "Klient chce udowodnić serwerowi, że jest tym kim jest. Obie strony współdzielą wspólny sekret $K$. Uwierzytelnienie ma się odbyć przez niezaszyfrowany kanał.\n",
    "\n",
    "1. $\\textrm{Klient}~\\longleftarrow~\\textrm{Serwer}~~:~r_B$\n",
    "2. $\\textrm{Klient}~\\longrightarrow~\\textrm{Serwer}~~:~E_K\\left( r_b ~||~id_S \\right)$"
   ]
  },
  {
   "cell_type": "markdown",
   "metadata": {
    "slideshow": {
     "slide_type": "subslide"
    }
   },
   "source": [
    "## Algorytm wyzwanie-odpowiedź\n",
    "\n",
    "Klient chce udowodnić serwerowi, że jest tym kim jest, ale chce mieć pewność, że kontaktuje się z właściwym serwerem. Obie strony współdzielą wspólny sekret $K$. Uwierzytelnienie ma się odbyć przez niezaszyfrowany kanał.\n",
    "\n",
    "1. $\\textrm{Klient}~\\longleftarrow~\\textrm{Serwer}~~:~r_B$\n",
    "2. $\\textrm{Klient}~\\longrightarrow~\\textrm{Serwer}~~:~E_K\\left( r_a~||~r_b ~||~id_S \\right)$\n",
    "3. $\\textrm{Klient}~\\longleftarrow~\\textrm{Serwer}~~:~E_K(r_b~||~r_a~||~id_S)$"
   ]
  },
  {
   "cell_type": "markdown",
   "metadata": {
    "slideshow": {
     "slide_type": "slide"
    }
   },
   "source": [
    "## Uwierzytelnianie z wykorzystaniem zaufanej trzeciej strony"
   ]
  },
  {
   "cell_type": "markdown",
   "metadata": {
    "slideshow": {
     "slide_type": "subslide"
    }
   },
   "source": [
    "### Bohaterowie historii:\n",
    "\n",
    "#### Zaufany serwer: T\n",
    "\n",
    "#### Klient: K\n",
    "\n",
    "#### Serwer: S"
   ]
  },
  {
   "cell_type": "markdown",
   "metadata": {
    "slideshow": {
     "slide_type": "subslide"
    }
   },
   "source": [
    "### Identyfikatory\n",
    "\n",
    "$$id_T~~~~id_S~~~~id_K$$"
   ]
  },
  {
   "cell_type": "markdown",
   "metadata": {
    "slideshow": {
     "slide_type": "fragment"
    }
   },
   "source": [
    "### Klucze\n",
    "\n",
    "$$K_{KT}~~~~~~K_{ST}$$"
   ]
  },
  {
   "cell_type": "markdown",
   "metadata": {
    "slideshow": {
     "slide_type": "subslide"
    }
   },
   "source": [
    "## Needham-Shroeder\n",
    "\n",
    "1. $\\textrm{Klient}~\\longrightarrow~\\textrm{Zaufany serwer}~~:~id_K~~||~~id_S~~||~~N_K$\n",
    "2. $\\textrm{Klient}~\\longrightarrow~\\textrm{Zaufany serwer}~~:~E_{K_{KT}}\\left(M_K ~~||~~  M_S\\right)$  \n",
    "gdzie\n",
    "    - $M_K = K_{KS}~~||~~id_S~~||~~n_K$\n",
    "    - $M_S = E_{K_{ST}}\\left( K_{KS}~~||~~id_K \\right)$\n",
    "3. $\\textrm{Klient}~\\longrightarrow~\\textrm{Serwer}~~:~M_S$\n",
    "4. $\\textrm{Klient}~\\longleftarrow~\\textrm{Serwer}~~:~E_{K_{KS}}\\left(n_S\\right)$\n",
    "5. $\\textrm{Klient}~\\longrightarrow~\\textrm{Serwer}~~:~E_{K_{KS}}\\left(f(n_S)\\right)$  \n",
    "gdzie $f$ jest jakąś ustaloną funkcją, na przykład inkrementacją"
   ]
  },
  {
   "cell_type": "markdown",
   "metadata": {
    "slideshow": {
     "slide_type": "fragment"
    }
   },
   "source": [
    "## Czy ktoś widzi jakieś zagrożenie?"
   ]
  },
  {
   "cell_type": "markdown",
   "metadata": {
    "slideshow": {
     "slide_type": "subslide"
    }
   },
   "source": [
    "## Obserwacja Denninga i Sacco\n",
    "\n",
    "1. $\\textrm{Klient}~\\longrightarrow~\\textrm{Zaufany serwer}~~:~id_K~~||~~id_S~~||~~N_K$\n",
    "2. $\\textrm{Klient}~\\longrightarrow~\\textrm{Zaufany serwer}~~:~E_{K_{KT}}\\left(M_K ~~||~~  M_S\\right)$  \n",
    "gdzie\n",
    "    - $M_K = K_{KS}~~||~~id_S~~||~~n_K$\n",
    "    - $M_S = E_{K_{ST}}\\left( K_{KS}~~||~~id_K \\right)$\n",
    "3. $\\textrm{Klient}~\\longrightarrow~\\textrm{Serwer}~~:~M_S$ **TUTAJ KTOŚ MOŻE PRZESŁAĆ STARSZY KOMUNIKAT!!!**\n",
    "4. $\\textrm{Klient}~\\longleftarrow~\\textrm{Serwer}~~:~E_{K_{KS}}\\left(n_S\\right)$ **I PODSZYWAĆ SIĘ POD KLIENTA**\n",
    "5. $\\textrm{Klient}~\\longrightarrow~\\textrm{Serwer}~~:~E_{K_{KS}}\\left(f(n_S)\\right)$  \n",
    "gdzie $f$ jest jakąś ustaloną funkcją, na przykład inkrementacją"
   ]
  },
  {
   "cell_type": "markdown",
   "metadata": {
    "slideshow": {
     "slide_type": "subslide"
    }
   },
   "source": [
    "## Poprawka Denninga i Sacco\n",
    "\n",
    "Zasugerowali, żeby w komunikaty zaszyć znaczniki czasowe\n",
    "1. $\\textrm{Klient}~\\longrightarrow~\\textrm{Zaufany serwer}~~:~id_K~~||~~id_S~~||~~N_K$\n",
    "2. $\\textrm{Klient}~\\longrightarrow~\\textrm{Zaufany serwer}~~:~E_{K_{KT}}\\left(M_K ~~||~~  M_S\\right)$  \n",
    "gdzie\n",
    "    - $M_K = K_{KS}~~||~~id_S~~||~~n_K~~||~~t$\n",
    "    - $M_S = E_{K_{ST}}\\left( K_{KS}~~||~~id_K~~||~~ t \\right)$\n",
    "3. $\\textrm{Klient}~\\longrightarrow~\\textrm{Serwer}~~:~M_S$\n",
    "4. $\\textrm{Klient}~\\longleftarrow~\\textrm{Serwer}~~:~E_{K_{KS}}\\left(n_S\\right)$\n",
    "5. $\\textrm{Klient}~\\longrightarrow~\\textrm{Serwer}~~:~E_{K_{KS}}\\left(f(n_S)\\right)$  \n",
    "gdzie $f$ jest jakąś ustaloną funkcją, na przykład inkrementacją"
   ]
  },
  {
   "cell_type": "markdown",
   "metadata": {
    "slideshow": {
     "slide_type": "slide"
    }
   },
   "source": [
    "## Kerberos\n",
    "\n",
    "![logo](http://web.mit.edu/kerberos/images/dog-ring.jpg)"
   ]
  },
  {
   "cell_type": "markdown",
   "metadata": {
    "slideshow": {
     "slide_type": "subslide"
    }
   },
   "source": [
    "### Wymagania:\n",
    "\n",
    "#### Bezpieczeństwo\n",
    "#### Niezawodność\n",
    "#### Przezroczystość\n",
    "#### Skalowalność"
   ]
  },
  {
   "cell_type": "markdown",
   "metadata": {
    "slideshow": {
     "slide_type": "subslide"
    }
   },
   "source": [
    "### Podejście pierwsze\n",
    "\n",
    "#### Bohatorowie opowieści:\n",
    "\n",
    "##### Klient : C\n",
    "##### Serwer uwierzytelniający : AS\n",
    "##### Serwer udostępniający usługę: V"
   ]
  },
  {
   "cell_type": "markdown",
   "metadata": {
    "slideshow": {
     "slide_type": "subslide"
    }
   },
   "source": [
    "### Podejście pierwsze\n",
    "\n",
    "#### Identyfikatory:\n",
    "$$id_C~~~~~id_V$$\n",
    "#### Adresy sieciowe:\n",
    "$$adr_C$$\n"
   ]
  },
  {
   "cell_type": "markdown",
   "metadata": {
    "slideshow": {
     "slide_type": "subslide"
    }
   },
   "source": [
    "### Podejście pierwsze\n",
    "\n",
    "#### Klucze\n",
    "$$K_V$$\n",
    "#### Hasła\n",
    "$$P_C$$"
   ]
  },
  {
   "cell_type": "markdown",
   "metadata": {
    "slideshow": {
     "slide_type": "subslide"
    }
   },
   "source": [
    "### Podejście pierwsze\n",
    "\n",
    "#### Komunikaty\n",
    "\n",
    "1. $C~~\\longrightarrow~~AS~~~:~~id_C~~||~~P_C~~||~~id_V$\n",
    "2. $C~~\\longleftarrow~~AS~~~:~~B$  \n",
    "gdzie $B=E_{K_V}\\left( id_C~~||~~adr_C~~||~~id_V \\right)$\n",
    "3. $C~~\\longrightarrow~~V~~~:~~id_C~~||~~B$  "
   ]
  },
  {
   "cell_type": "markdown",
   "metadata": {
    "slideshow": {
     "slide_type": "subslide"
    }
   },
   "source": [
    "### Wady?"
   ]
  },
  {
   "cell_type": "markdown",
   "metadata": {
    "slideshow": {
     "slide_type": "subslide"
    }
   },
   "source": [
    "1. Należy podawać hasło przy każdym zapytaniu o kolejny zasób\n",
    "2. Hasło jest przesyłane jawnym tekstem"
   ]
  },
  {
   "cell_type": "markdown",
   "metadata": {
    "slideshow": {
     "slide_type": "subslide"
    }
   },
   "source": [
    "### Podejście drugie\n",
    "\n",
    "#### Nowy bohater:\n",
    "\n",
    "##### Serwer biletowy : TGS (Ticket Granting Server)\n",
    "\n",
    "#### Nowe klucze:\n",
    "\n",
    "$$K_C~~~~~~~K_{TGS}$$"
   ]
  },
  {
   "cell_type": "markdown",
   "metadata": {
    "slideshow": {
     "slide_type": "subslide"
    }
   },
   "source": [
    "### Podejście drugie\n",
    "\n",
    "#### Komunikaty\n",
    "\n",
    "1. $C~~\\longrightarrow~~AS~~~:~~id_C~~||~~id_{TGS}$\n",
    "2. $C~~\\longleftarrow~~AS~~~:~~E_{K_C}\\left( P_{TGS} \\right)$  \n",
    "3. $C~~\\longrightarrow~~TGS~~~:~~id_C~~||~~id_V~~||~~P_{TGS}$\n",
    "4. $C~~\\longleftarrow~~TGS~~~:~~T_V$\n",
    "5. $C~~\\longrightarrow~~V~~~:~~id_C~~||~~T_V$\n",
    "\n",
    "Gdzie:  \n",
    "$P_{TGS} = E_{K_{TGS}}\\left(id_C~~||~~adr_C~~||~~id_{TGS}~~||~~TS_1~~||~~ToL_1\\right)$  \n",
    "$T_{V} = E_{K_{V}}\\left(id_C~~||~~adr_C~~||~~id_{V}~~||~~TS_2~~||~~ToL_2\\right)$"
   ]
  },
  {
   "cell_type": "markdown",
   "metadata": {
    "slideshow": {
     "slide_type": "subslide"
    }
   },
   "source": [
    "### Wady?"
   ]
  },
  {
   "cell_type": "markdown",
   "metadata": {
    "slideshow": {
     "slide_type": "fragment"
    }
   },
   "source": [
    "1. Zbyt długi czas życia zwiększa ryzyko przejęcia paszportu i biletu\n",
    "2. Zbyt krótki czas sprawia, że system nie jest wygodny w użyciu"
   ]
  },
  {
   "cell_type": "markdown",
   "metadata": {
    "slideshow": {
     "slide_type": "subslide"
    }
   },
   "source": [
    "### Rozwiązanie\n",
    "\n",
    "Serwery usługowe i TGS muszą mieć możliwość weryfikacji, czy obsługują właściwego klienta, czy intruza"
   ]
  },
  {
   "cell_type": "markdown",
   "metadata": {
    "slideshow": {
     "slide_type": "subslide"
    }
   },
   "source": [
    "### Podejście trzecie\n",
    "\n",
    "#### Komunikaty\n",
    "\n",
    "1. $C~~\\longrightarrow~~AS~~~:~~id_C~~||~~id_{TGS}~~||~~TS_1$\n",
    "2. $C~~\\longleftarrow~~AS~~~:~~E_{K_C}\\left(K_{C,TGS}~~||~~ id_{TGS}~~||~~ TS_2~~||~~ ToL_2~~||~~ P_{TGS} \\right)$  \n",
    "3. $C~~\\longrightarrow~~TGS~~~:~~id_V~~||~~P_{TGS}~~||~~A_{C,TGS}$\n",
    "4. $C~~\\longleftarrow~~TGS~~~:~~E_{K_{C,TGS}}\\left( K_{C,V}~~||~~id_V~~||~~TS_4~~||~~T_V \\right)$\n",
    "5. $C~~\\longrightarrow~~V~~~:~~T_V~~||~~A_{C,V}$\n",
    "6. $C~~\\longleftarrow~~V~~~:~~E_{K_{C,V}}\\left( TS_5+1 \\right)$\n",
    "\n",
    "Gdzie:  \n",
    "$P_{TGS} = E_{K_{TGS}}\\left( K_{C,TGS}~~||~~id_C~~||~~adr_C~~||~~id_{TGS}~~||~~TS_2~~||~~ToL_2 \\right)$  \n",
    "$T_V = E_{K_V}\\left( K_{C,V}~~||~~id_C~~||~~adr_C~~||~~id_V~~||~~TS_4~~||~~ToL_4 \\right)$  \n",
    "$A_{C,TGS} = E_{K_{C,TGS}}\\left( id_C ~~||~~adr_C~~||~~TS_3 \\right)$  \n",
    "$A_{C,V} = E_{K_{C,V}} \\left( id_C~~||~~adr_C~~||~~TS_5 \\right)$"
   ]
  },
  {
   "cell_type": "markdown",
   "metadata": {
    "slideshow": {
     "slide_type": "subslide"
    }
   },
   "source": [
    "## To był opis Kerberosa w wersji 4"
   ]
  },
  {
   "cell_type": "markdown",
   "metadata": {
    "slideshow": {
     "slide_type": "fragment"
    }
   },
   "source": [
    "## Co zmieniło się w wersji 5?"
   ]
  },
  {
   "cell_type": "markdown",
   "metadata": {
    "slideshow": {
     "slide_type": "subslide"
    }
   },
   "source": [
    "## Kerberos w wesji 5\n",
    "\n",
    "1. Możliwość swobodnego wyboru szyfrowania\n",
    "2. Uwolnienie się od adresacji IP\n",
    "3. Czas życia wyrażony za pomocą dwóch znaczników czasowych (w wersji 4 czas życia był wyrażany 8-bitową liczbą jednostek pięciominutowych)\n",
    "4. Dodanie możliwości przekazywania uwierzytelnienia"
   ]
  }
 ],
 "metadata": {
  "celltoolbar": "Slideshow",
  "kernelspec": {
   "display_name": "Python 3",
   "language": "python",
   "name": "python3"
  },
  "language_info": {
   "codemirror_mode": {
    "name": "ipython",
    "version": 3
   },
   "file_extension": ".py",
   "mimetype": "text/x-python",
   "name": "python",
   "nbconvert_exporter": "python",
   "pygments_lexer": "ipython3",
   "version": "3.5.3"
  },
  "livereveal": {
   "footer": "<h3>Bezpieczeństwo systemów komputerowych, 5 marca 2018, Paweł Bogdan</h3>",
   "theme": "serif"
  }
 },
 "nbformat": 4,
 "nbformat_minor": 2
}
