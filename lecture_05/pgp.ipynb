{
 "cells": [
  {
   "cell_type": "markdown",
   "metadata": {
    "slideshow": {
     "slide_type": "slide"
    }
   },
   "source": [
    "# Pretty Good Privacy\n",
    "## Paweł Bogdan\n",
    "## 26 marca 2018\n",
    "### Bezpieczeństwo Systemów komputerowych"
   ]
  },
  {
   "cell_type": "markdown",
   "metadata": {
    "slideshow": {
     "slide_type": "slide"
    }
   },
   "source": [
    "# Pretty Good Privacy\n",
    "\n",
    "- Dzieło jednego człowieka - Phila Zimmermanna\n",
    "- Narzędzie, które zapewnia usługę szyfrowania i uwierzytelniania\n",
    "- Używa najlepszych i przetestowanych narzędzi kryptograficznych\n",
    "- Istnieją darmowe implementacje dla wszystkich platform\n",
    "- PGP powstało niezależnie od jakichkolwiek agencji rządowych\n",
    "- Ostatecznie powstał dokument [rfc3156](https://www.rfc-editor.org/rfc/rfc3156.txt)"
   ]
  },
  {
   "cell_type": "markdown",
   "metadata": {
    "slideshow": {
     "slide_type": "slide"
    }
   },
   "source": [
    "# Oznaczenia\n",
    "\n",
    "(Zgodne z książką W. Stallingsa _Kryptografia i bezpieczeńśtwo sieci komputerowych. Tom II_)\n",
    "\n",
    "- $K_S$ - klucz sesji\n",
    "- $PR_a$ - klucz prywatny użytkownika $A$\n",
    "- $PU_a$ - klucz publiczny użytkownika $A$\n",
    "- $EP$ - szyfrowanie asymetryczne\n",
    "- $DP$ - deszyfrowanie asymetryczne"
   ]
  },
  {
   "cell_type": "markdown",
   "metadata": {
    "slideshow": {
     "slide_type": "slide"
    }
   },
   "source": [
    "# Oznaczenia\n",
    "\n",
    "(Zgodne z książką W. Stallingsa _Kryptografia i bezpieczeńśtwo sieci komputerowych. Tom II_)\n",
    "\n",
    "- $EC$ - szyfrowanie symetryczne\n",
    "- $DC$ - deszyfrowanie symetryczne\n",
    "- $H$ - kryptograficzna funkcja skrótu\n",
    "- $||$ - katencja\n",
    "- $Z$ - kompresja\n",
    "- $R64$ - radix 64"
   ]
  },
  {
   "cell_type": "markdown",
   "metadata": {
    "slideshow": {
     "slide_type": "slide"
    }
   },
   "source": [
    "# Operacje PGP\n",
    "\n",
    "## Podpis cyfrowy\n",
    "\n",
    "## Szyfrowanie komunikatu\n",
    "\n",
    "## Kompresja\n",
    "\n",
    "## Kompatybilność z systemami e-mail"
   ]
  },
  {
   "cell_type": "markdown",
   "metadata": {
    "slideshow": {
     "slide_type": "subslide"
    }
   },
   "source": [
    "## Podpis cyfrowy\n",
    "\n",
    "1. Obliczamy skrót wiadomości przy użyciu funkcji `SHA1`\n",
    "2. Składamy podpis przy użyciu algorytmu `RSA` albo `DSS`."
   ]
  },
  {
   "cell_type": "markdown",
   "metadata": {
    "slideshow": {
     "slide_type": "subslide"
    }
   },
   "source": [
    "## Szyfrowanie komunikatu\n",
    "\n",
    "1. Nadawca generuje klucz sesji\n",
    "2. Szyfruje klucz sesji przy pomocy klucza publicznego adresata używając algorytmu `RSA` lub `ElGamal`\n",
    "3. Komunikat jest szyfrowany przy użyciu klucza sesji używając algorytmu `CAST-128`, `IDEA` albo `3DES`\n",
    "4. Wiadmość składa się z zaszyfrowanego komunikatu i zaszyfrowanego klucza"
   ]
  },
  {
   "cell_type": "markdown",
   "metadata": {
    "slideshow": {
     "slide_type": "subslide"
    }
   },
   "source": [
    "## Kompresja\n",
    "\n",
    "1. Komunikat można skompresować przy użyciu algorytmu `ZIP`, aby był krótszy"
   ]
  },
  {
   "cell_type": "markdown",
   "metadata": {
    "slideshow": {
     "slide_type": "subslide"
    }
   },
   "source": [
    "## Kompatybilność z systemami e-mail\n",
    "\n",
    "1. Aby wiadomość można było wysłać za pomocą dowolnej usługi poczty elektronicznej wiadomość kompresuje się do ciągu znaków ASCII przy pomocy schematu `radix-64`."
   ]
  },
  {
   "cell_type": "markdown",
   "metadata": {
    "slideshow": {
     "slide_type": "slide"
    }
   },
   "source": [
    "# Procedura tylko uwierzytelnienia\n",
    "\n",
    "![uwierzytelnienie](uwierzytelnianie.png)"
   ]
  },
  {
   "cell_type": "markdown",
   "metadata": {
    "slideshow": {
     "slide_type": "slide"
    }
   },
   "source": [
    "# Procedura tylko szyfrowania\n",
    "\n",
    "![szufrowanie](szyfrowanie.png)"
   ]
  },
  {
   "cell_type": "markdown",
   "metadata": {
    "slideshow": {
     "slide_type": "slide"
    }
   },
   "source": [
    "# Jak połączyć ze sobą te procedury?"
   ]
  },
  {
   "cell_type": "markdown",
   "metadata": {
    "slideshow": {
     "slide_type": "fragment"
    }
   },
   "source": [
    "## Najpierw podpisujemy a potem szyfrujemy wiadomość razem z podpisem\n",
    "\n",
    "## Czy widać dlaczego?"
   ]
  },
  {
   "cell_type": "markdown",
   "metadata": {
    "slideshow": {
     "slide_type": "subslide"
    }
   },
   "source": [
    "## A w którym miejscu wstawić kompresję?"
   ]
  },
  {
   "cell_type": "markdown",
   "metadata": {
    "slideshow": {
     "slide_type": "fragment"
    }
   },
   "source": [
    "## Po podpisaniu a przed szyfrowaniem"
   ]
  },
  {
   "cell_type": "markdown",
   "metadata": {
    "slideshow": {
     "slide_type": "slide"
    }
   },
   "source": [
    "# Radix-64\n",
    "\n",
    "3 bajty (24 bity) są dzielone na cztery grupy po 6 bitów każda. Każdy ciąg 6 bitów w jasny sposób koduje jakiś znak ASCII"
   ]
  },
  {
   "cell_type": "markdown",
   "metadata": {
    "slideshow": {
     "slide_type": "slide"
    }
   },
   "source": [
    "# Klucze kryptograficzne\n",
    "\n",
    "## Jednorazowe klucze sesji\n",
    "\n",
    "## Klucze publiczne i prywatne\n",
    "\n",
    "## Klucze szyfrowania symetrycznego oparte na haśle"
   ]
  },
  {
   "cell_type": "markdown",
   "metadata": {
    "slideshow": {
     "slide_type": "subslide"
    }
   },
   "source": [
    "## Jednorazowe klucze sesji\n",
    "\n",
    "Są generowane za pomocą algorytmu [CAST-128](https://tools.ietf.org/html/rfc2144).\n",
    "\n",
    "Jako źródło losowości jest brany ciąg bitów uzyskany przez śledzenie naciśnięć klawiszy oraz charakterystyki czasowej ich naciskania."
   ]
  },
  {
   "cell_type": "markdown",
   "metadata": {
    "slideshow": {
     "slide_type": "subslide"
    }
   },
   "source": [
    "# Klucze publiczne\n",
    "\n",
    "### Identyfikator klucza\n",
    "\n",
    "Najmniej znaczące 64 bity klucza publicznego"
   ]
  },
  {
   "cell_type": "markdown",
   "metadata": {
    "slideshow": {
     "slide_type": "slide"
    }
   },
   "source": [
    "# Struktura komunikatu PGP\n",
    "\n",
    "## Komponent treści\n",
    "\n",
    "## Komponent podpisu\n",
    "\n",
    "## Komponent klucza sesji"
   ]
  },
  {
   "cell_type": "markdown",
   "metadata": {
    "slideshow": {
     "slide_type": "subslide"
    }
   },
   "source": [
    "## Komponent treści\n",
    "\n",
    "- **nazwa pliku**\n",
    "- **znacznik czasu**\n",
    "- **zawartość pliku**"
   ]
  },
  {
   "cell_type": "markdown",
   "metadata": {
    "slideshow": {
     "slide_type": "subslide"
    }
   },
   "source": [
    "## Komponent podpisu\n",
    "\n",
    "- **znacznik czasu**\n",
    "- **wyciąg komunikatu**\n",
    "    - Obliczany jest skrót treści komunikatu skatenowanego z czasem złożenia podpisu\n",
    "    - Skrót jest szyfrowany kluczem prywatnym nadawcy\n",
    "- **dwa początkowe bajty** wyżej wspomnianego skrótu\n",
    "- **identyfikator klucza publicznego nadawcy**"
   ]
  },
  {
   "cell_type": "markdown",
   "metadata": {
    "slideshow": {
     "slide_type": "subslide"
    }
   },
   "source": [
    "## Operacje\n",
    "\n",
    "Powyższe dwa komponenty możemy:\n",
    "1. skompresować\n",
    "2. zaszyfrować kluczem sesji\n",
    "\n",
    "Jeżeli zdecydujemy się je zaszyfrować, to dodajemy do wiadomości jeszcze jeden komponent"
   ]
  },
  {
   "cell_type": "markdown",
   "metadata": {
    "slideshow": {
     "slide_type": "subslide"
    }
   },
   "source": [
    "## Komponent klucza sesji\n",
    "\n",
    "- **zaszyfrowany klucz sesji**\n",
    "- **identyfikator klucza publicznego** którym zaszyfrowano klucz sesji"
   ]
  },
  {
   "cell_type": "markdown",
   "metadata": {
    "slideshow": {
     "slide_type": "subslide"
    }
   },
   "source": [
    "## Operacje\n",
    "\n",
    "Na koniec, niezależnie od tego, czy zaszyfrowaliśmy wiadomość, możemy całość przepuścić przez algorytm `radix-64`."
   ]
  },
  {
   "cell_type": "markdown",
   "metadata": {
    "slideshow": {
     "slide_type": "slide"
    }
   },
   "source": [
    "# Pierścienie kluczy\n",
    "\n",
    "## Pierścień kluczy prywatnych\n",
    "\n",
    "## Pierścień kluczy publicznych"
   ]
  },
  {
   "cell_type": "markdown",
   "metadata": {
    "slideshow": {
     "slide_type": "subslide"
    }
   },
   "source": [
    "## Pierścień kluczy prywatnych\n",
    "\n",
    "- **znacznik czasowy**\n",
    "- **identyfikator**\n",
    "- **klucz publiczny**\n",
    "- **klucz prywatny** (zaszyfrowany)\n",
    "- **identyfikator użytkownika**"
   ]
  },
  {
   "cell_type": "markdown",
   "metadata": {
    "slideshow": {
     "slide_type": "subslide"
    }
   },
   "source": [
    "## Pierścień kluczy publicznych\n",
    "\n",
    "- **znacznik czasowy**\n",
    "- **identyfikator klucza**\n",
    "- **klucz publiczny**\n",
    "- **identyfikator właściciela klucza**"
   ]
  },
  {
   "cell_type": "markdown",
   "metadata": {
    "slideshow": {
     "slide_type": "slide"
    }
   },
   "source": [
    "# Skąd pewność, kto jest właścicielem klucza?"
   ]
  },
  {
   "cell_type": "markdown",
   "metadata": {
    "slideshow": {
     "slide_type": "fragment"
    }
   },
   "source": [
    "Użytkownik $A$ chce przesłać komunikat użytkownikowi $B$. Korzysta więc z klucza publicznego $PU_b$. Ale może użytkonik $C$ posiada klucz prywatny $PR_b$?"
   ]
  },
  {
   "cell_type": "markdown",
   "metadata": {
    "slideshow": {
     "slide_type": "subslide"
    }
   },
   "source": [
    "## Uzyskanie wiarygodnego klucza\n",
    "\n",
    "- $B$ dostarcza klucz publiczny $PU_b$ na fizycznym nośniku\n",
    "- $A$ uzyskuje klucz $PU_b$ w czasie rozmowy telefonicznej\n",
    "- Wykorzystanie zaufanej osoby trzeciej\n",
    "- Wykorzystanie centrum autoryzacji"
   ]
  },
  {
   "cell_type": "markdown",
   "metadata": {
    "slideshow": {
     "slide_type": "slide"
    }
   },
   "source": [
    "# Koncepcja zaufania\n",
    "\n",
    "Dodatkowe pola w pierścieniu kluczy publicznych:\n",
    "\n",
    "- **OWNERTRUST** - zaufanie do użytkownika\n",
    "- **KEYLEGIT** - wiarygodność klucza\n",
    "- **SIGTRUST** - wiarygodność podpisu"
   ]
  },
  {
   "cell_type": "markdown",
   "metadata": {
    "slideshow": {
     "slide_type": "subslide"
    }
   },
   "source": [
    "## OWNERTRUST\n",
    "\n",
    "Jest definiowany przez użytkownika:\n",
    "\n",
    "- `undefined` - nieokreślony\n",
    "- `unknown` - użytkownik jest nieznany\n",
    "- `usually not trusted` - zykle pozbawiony zaufania\n",
    "- `usually trusted` - zwykle darzony zaufaniem\n",
    "- `always trusted` - obdarzony bezwzględnym zaufaniem\n",
    "- `ultimate trust` - użytkownik jest właścicielem pierścienia"
   ]
  },
  {
   "cell_type": "markdown",
   "metadata": {
    "slideshow": {
     "slide_type": "subslide"
    }
   },
   "source": [
    "## KEYLEGIT\n",
    "\n",
    "Obliczany przez PGP:\n",
    "\n",
    "- `unknown trust` - wiarygodność klucza nieokreślona lub niemożliwa do ustalenia\n",
    "- `not trusted` - klucz niewiarygodny\n",
    "- `marginal trust` - klucz posiada szczątkową wiarygodność\n",
    "- `complete trust` - klczu posiada całkowitą wiarygodność"
   ]
  },
  {
   "cell_type": "markdown",
   "metadata": {
    "slideshow": {
     "slide_type": "subslide"
    }
   },
   "source": [
    "## SIGTRUST\n",
    "\n",
    "Obliczany przez PGP. Wartości takie same jak w **OWNERTRUST**"
   ]
  },
  {
   "cell_type": "markdown",
   "metadata": {
    "slideshow": {
     "slide_type": "slide"
    }
   },
   "source": [
    "## Procedura dodawania klucza\n",
    "\n",
    "1. Właściciel pierścienia $A$ dodaje nowy klucz\n",
    "2. PGP żąda określenia wartości **OWNERTRUST**\n",
    "    - Jeżeli $A$ wprowadza swój klucz, to on automatycznie **OWNERTRUST** dostaje wartość `ultimate trust`\n",
    "3. Ten klucz będzie miał jakieś podpisy złożone przez innych użytkowników. Informacja o tym jest w pierścieniu kluczy publicznych użytkownika $A$. \n",
    "     - Jeżeli użytkownik $A$ ma tego użytkowika w swoim pierścieniu kluczy, to wartość **OWNERTRUST** jest przepisywana do pola **SIGTRUST**, jeżeli użytkownika nie ma, to do pola **SIGTRUST** wpisujemy wartość `unknown user`.\n",
    "4. Mamy więc wypełnione pola **SIGTRUST** dla wszystkich podpisów złożonych na dodawanym kluczu\n",
    "5. Na podstawie tych wartości PGP oblicza wartość pola **KEYLEGIT**:\n",
    "      - Jeżeli przynajmniej jedno pole **SIGTRUST** ma wartość `ultimate` to **KEYLEGIT** przyjmuje wartość `complete trust`\n",
    "      - W przeciwnym przypadku obliczana jest średnia ważona (Wartoścu $X$ i $Y$ są konfigurowalne)\n",
    "           - każda wartość `always trusted` ma wagę $\\frac{1}{X}$\n",
    "           - każda wartość `usually trusted` ma wagę $\\frac{1}{Y}$\n",
    "      - Jeżeli w trakcie obliczania średniej wyjdziemy powyżej 1, to **KEYLEGIT** dostaje wartość `complete trust` "
   ]
  }
 ],
 "metadata": {
  "celltoolbar": "Slideshow",
  "kernelspec": {
   "display_name": "Python 3",
   "language": "python",
   "name": "python3"
  },
  "language_info": {
   "codemirror_mode": {
    "name": "ipython",
    "version": 3
   },
   "file_extension": ".py",
   "mimetype": "text/x-python",
   "name": "python",
   "nbconvert_exporter": "python",
   "pygments_lexer": "ipython3",
   "version": "3.5.2"
  },
  "livereveal": {
   "footer": "<h3>Bezpieczeństwo systemów komputerowych, 26 marca 2018, Paweł Bogdan</h3>",
   "theme": "serif"
  }
 },
 "nbformat": 4,
 "nbformat_minor": 2
}
