{
 "cells": [
  {
   "cell_type": "markdown",
   "metadata": {
    "slideshow": {
     "slide_type": "slide"
    }
   },
   "source": [
    "# SSH\n",
    "## Paweł Bogdan\n",
    "## 12 marca 2018\n",
    "### Bezpieczeństwo Systemów komputerowych"
   ]
  },
  {
   "cell_type": "markdown",
   "metadata": {
    "slideshow": {
     "slide_type": "slide"
    }
   },
   "source": [
    "## Problem:\n",
    "\n",
    "## Użycie komputera przez sieć"
   ]
  },
  {
   "cell_type": "markdown",
   "metadata": {
    "slideshow": {
     "slide_type": "slide"
    }
   },
   "source": [
    "## Rozwiązanie 1:\n",
    "\n",
    "## Telnet\n",
    "\n",
    "Instalujemy na naszym lokalnym komputerze pakiet `telnet` a na zdalnym:\n",
    "- `telnet`\n",
    "- `telnetd`\n",
    "- `xinetd`\n"
   ]
  },
  {
   "cell_type": "markdown",
   "metadata": {
    "slideshow": {
     "slide_type": "subslide"
    }
   },
   "source": [
    "## Rozwiązanie 1:\n",
    "\n",
    "## Telnet\n",
    "\n",
    "Albo uruchamiamy kontener dockera:\n",
    "```bash\n",
    "> docker run -it -P pawelbogdan/bsk:lecture_3\n",
    "```\n",
    "\n",
    "I jak się pokaże konsola linuksa uruchamiamy demon servera telnet:\n",
    "```bash\n",
    "> service xinetd start\n",
    "```"
   ]
  },
  {
   "cell_type": "markdown",
   "metadata": {
    "slideshow": {
     "slide_type": "subslide"
    }
   },
   "source": [
    "## Rozwiązanie 1:\n",
    "\n",
    "## Telnet\n",
    "\n",
    "Teraz możemy połączyć się z uruchomionym serwerem następującym poleceniem:\n",
    "```bash\n",
    "> telnet 172.17.0.2\n",
    "```  \n",
    "Hasło: `bardzotajnehaslo`.  \n",
    "Zapis transmisji jest dostępny [tutaj](telnet_dump.pcapng)"
   ]
  },
  {
   "cell_type": "markdown",
   "metadata": {
    "slideshow": {
     "slide_type": "subslide"
    }
   },
   "source": [
    "## Analiza transmisji\n",
    "\n",
    "Popatrzmy na ramkę numer `19`:\n",
    "```\n",
    "Telnet: \n",
    "   Data: Linux Mint 19 Tara\\r\\n\n",
    "```\n",
    "\n",
    "I potem na ramkę numer `21`:\n",
    "```\n",
    "Telnet: \n",
    "   Data: 3dc8673fd935 login: \n",
    "```"
   ]
  },
  {
   "cell_type": "markdown",
   "metadata": {
    "slideshow": {
     "slide_type": "subslide"
    }
   },
   "source": [
    "## Analiza transmisji\n",
    "\n",
    "Teraz przeanalizujmy ramki `23`, `25`, `29` i `32`:\n",
    "\n",
    "```\n",
    "Telnet: \n",
    "   Data: b\n",
    "```\n",
    "\n",
    "```\n",
    "Telnet: \n",
    "   Data: s\n",
    "```\n",
    "\n",
    "```\n",
    "Telnet: \n",
    "   Data: k\n",
    "```\n",
    "\n",
    "```\n",
    "Telnet: \n",
    "   Data: ..\n",
    "```"
   ]
  },
  {
   "cell_type": "markdown",
   "metadata": {
    "slideshow": {
     "slide_type": "subslide"
    }
   },
   "source": [
    "## Analiza transmisji\n",
    "\n",
    "Teraz pakiet od serwera, ramka numer `35`:\n",
    "```\n",
    "Telnet: \n",
    "   Data: Password:\n",
    "```\n",
    "\n",
    "A w paczkach: `37`, `39`, `41` i kolejnych są przesyłane pojedyńczo litery hasła, **jawnym tekstem**!!!"
   ]
  },
  {
   "cell_type": "markdown",
   "metadata": {
    "slideshow": {
     "slide_type": "slide"
    }
   },
   "source": [
    "## Rozwiązanie 2:\n",
    "\n",
    "## SSH - Secure SHell\n",
    "\n",
    "Obecnie SSH w wersji drugiej jest ogólnie używanym standardem, który jest opisany w plikach: \n",
    "- [`rfc4250`](https://tools.ietf.org/html/rfc4250)\n",
    "- [`rfc4251`](https://tools.ietf.org/html/rfc4251)\n",
    "- [`rfc4252`](https://tools.ietf.org/html/rfc4252)\n",
    "- [`rfc4253`](https://tools.ietf.org/html/rfc4253)\n",
    "- [`rfc4254`](https://tools.ietf.org/html/rfc4254)\n",
    "- [`rfc4255`](https://tools.ietf.org/html/rfc4255)\n",
    "- [`rfc4256`](https://tools.ietf.org/html/rfc4256)"
   ]
  },
  {
   "cell_type": "markdown",
   "metadata": {
    "slideshow": {
     "slide_type": "subslide"
    }
   },
   "source": [
    "## SSH\n",
    "\n",
    "Protokoł SSH składa się z trzech podprotokołów:\n",
    "\n",
    "- Protokół warsty transportowej - leży bezpośrednio na warstwie `TCP`. Odpowiada:\n",
    "   - uwierzytelnienie serwera\n",
    "   - poufność danych\n",
    "   - integralność danych\n",
    "   - zapewnienie, że kompromitacja jednego klucza nie kompromituje poprzednich\n",
    "- Protokół uwierzytelnienia użytkownika - korzysta z warstwy transportowej a nie z `TCP`\n",
    "- Protokół połączenia - podobnie jak protokół uwierzytelnienia korzysta z warstwy transportowej"
   ]
  },
  {
   "cell_type": "markdown",
   "metadata": {
    "slideshow": {
     "slide_type": "subslide"
    }
   },
   "source": [
    "## SSH - uwierzytelnienie serwera\n",
    "\n",
    "Zgodnie z sekcją `4.1` dokumentu [`rfc4251`](https://tools.ietf.org/html/rfc4251#section-4.1) każdy serwer _powinien_ mieć klucz, który klient wykorzystuje, żeby mieć pewność, że rozmawia z właściwym serwerem. W jaki sposób może to robić?\n",
    "\n",
    "- klient ma lokalną bazę danych, w której hostname ma powiązany klucz\n",
    "- klient ufa w teh materii jakiemuś trzeciemu podmiotowi"
   ]
  },
  {
   "cell_type": "markdown",
   "metadata": {
    "slideshow": {
     "slide_type": "subslide"
    }
   },
   "source": [
    "## SSH - wymieniane komunikaty\n",
    "\n",
    "Po uruchumieniu mojego obrazka:\n",
    "```bash\n",
    "> docker run -it -P pawelbogdan/bsk:lecture_3\n",
    "```\n",
    "\n",
    "Można uruchomić serwer `ssh`:\n",
    "```bash\n",
    "> service ssh start\n",
    "```\n",
    "Można się z nim połączyć poleceniem:\n",
    "```bash\n",
    "> ssh bsk@172.17.0.2\n",
    "```\n",
    "Z hasłem `bardzotajnehaslo`.  \n",
    "[Tutaj](ssh_dump.pcapng) jest nagranie komunikacji pomiędzy klientem i serwerem ssh"
   ]
  },
  {
   "cell_type": "markdown",
   "metadata": {
    "slideshow": {
     "slide_type": "subslide"
    }
   },
   "source": [
    "## SSH - wymieniane komunikaty\n",
    "\n",
    "Po nawiązaniu połączenia używając protokołu TCP następuje faza wymiana ciągów identyfikacyjnych."
   ]
  },
  {
   "cell_type": "markdown",
   "metadata": {
    "slideshow": {
     "slide_type": "subslide"
    }
   },
   "source": [
    "## SSH - wymiana ciągów identyfikacyjnych\n",
    "\n",
    "### Klient wysyła:\n",
    "\n",
    "```\n",
    "SSH Protocol:\n",
    "    Protocol: SSH-2.0-OpenSSH_7.2p2 Ubuntu-4ubuntu2.2\n",
    "```\n",
    "\n",
    "### Serwer odpowiada:\n",
    "\n",
    "```\n",
    "SSH Protocol:\n",
    "    Protocol: SSH-2.0-OpenSSH_7.6p1 Ubuntu-4\n",
    "```"
   ]
  },
  {
   "cell_type": "markdown",
   "metadata": {
    "slideshow": {
     "slide_type": "subslide"
    }
   },
   "source": [
    "## SSH - negocjonowanie algorytmów\n",
    "\n",
    "### Klient wysyła `SSH_MSG_KEXINIT`\n",
    "\n",
    "```\n",
    "SSH Protocol\n",
    "    SSH Version 2 (encryption:chacha20-poly1305@openssh.com mac:<implicit> compression:none)\n",
    "        Packet Length: 1332\n",
    "        Padding Length: 5\n",
    "        Key Exchange\n",
    "            Message Code: Key Exchange Init (20)\n",
    "            Algorithms\n",
    "                Cookie: da0ceec803bf23f153fcee574cd40ff9\n",
    "                kex_algorithms length: 196\n",
    "                kex_algorithms string: curve25519-sha256@libssh.org,ecdh-sha2-nistp256,ecdh-sha2-nistp384,ecdh-sha2-nistp521,diffie-hellman-group-exchange-sha256,diffie-hellman-group-exchange-sha1,diffie-hellman-group14-sha1,ext-info-c\n",
    "                server_host_key_algorithms length: 290\n",
    "                server_host_key_algorithms string [truncated]: ecdsa-sha2-nistp256-cert-v01@openssh.com,ecdsa-sha2-nistp384-cert-v01@openssh.com,ecdsa-sha2-nistp521-cert-v01@openssh.com,ssh-ed25519-cert-v01@openssh.com,ssh-rsa-cert-v01@openssh.com,ecdsa-s\n",
    "                encryption_algorithms_client_to_server length: 150\n",
    "                encryption_algorithms_client_to_server string: chacha20-poly1305@openssh.com,aes128-ctr,aes192-ctr,aes256-ctr,aes128-gcm@openssh.com,aes256-gcm@openssh.com,aes128-cbc,aes192-cbc,aes256-cbc,3des-cbc\n",
    "                encryption_algorithms_server_to_client length: 150\n",
    "                encryption_algorithms_server_to_client string: chacha20-poly1305@openssh.com,aes128-ctr,aes192-ctr,aes256-ctr,aes128-gcm@openssh.com,aes256-gcm@openssh.com,aes128-cbc,aes192-cbc,aes256-cbc,3des-cbc\n",
    "                mac_algorithms_client_to_server length: 213\n",
    "                mac_algorithms_client_to_server string [truncated]: umac-64-etm@openssh.com,umac-128-etm@openssh.com,hmac-sha2-256-etm@openssh.com,hmac-sha2-512-etm@openssh.com,hmac-sha1-etm@openssh.com,umac-64@openssh.com,umac-128@openssh.com,hmac-sha2-2\n",
    "                mac_algorithms_server_to_client length: 213\n",
    "                mac_algorithms_server_to_client string [truncated]: umac-64-etm@openssh.com,umac-128-etm@openssh.com,hmac-sha2-256-etm@openssh.com,hmac-sha2-512-etm@openssh.com,hmac-sha1-etm@openssh.com,umac-64@openssh.com,umac-128@openssh.com,hmac-sha2-2\n",
    "                compression_algorithms_client_to_server length: 26\n",
    "                compression_algorithms_client_to_server string: none,zlib@openssh.com,zlib\n",
    "                compression_algorithms_server_to_client length: 26\n",
    "                compression_algorithms_server_to_client string: none,zlib@openssh.com,zlib\n",
    "                languages_client_to_server length: 0\n",
    "                languages_client_to_server string: [Empty]\n",
    "                languages_server_to_client length: 0\n",
    "                languages_server_to_client string: [Empty]\n",
    "                KEX First Packet Follows: 0\n",
    "                Reserved: 00000000\n",
    "            Padding String: 0000000000\n",
    "```"
   ]
  },
  {
   "cell_type": "markdown",
   "metadata": {
    "slideshow": {
     "slide_type": "subslide"
    }
   },
   "source": [
    "## SSH - negocjonowanie algorytmów\n",
    "\n",
    "### Serwer też wysyła `SSH_MSG_KEXINIT`\n",
    "\n",
    "```\n",
    "SSH Protocol\n",
    "    SSH Version 2 (encryption:chacha20-poly1305@openssh.com mac:<implicit> compression:none)\n",
    "        Packet Length: 1076\n",
    "        Padding Length: 6\n",
    "        Key Exchange\n",
    "            Message Code: Key Exchange Init (20)\n",
    "            Algorithms\n",
    "                Cookie: 1a1a88fd16c16eba05d3124aebbd33f1\n",
    "                kex_algorithms length: 258\n",
    "                kex_algorithms string [truncated]: curve25519-sha256,curve25519-sha256@libssh.org,ecdh-sha2-nistp256,ecdh-sha2-nistp384,ecdh-sha2-nistp521,diffie-hellman-group-exchange-sha256,diffie-hellman-group16-sha512,diffie-hellman-group18-sha512,dif\n",
    "                server_host_key_algorithms length: 65\n",
    "                server_host_key_algorithms string: ssh-rsa,rsa-sha2-512,rsa-sha2-256,ecdsa-sha2-nistp256,ssh-ed25519\n",
    "                encryption_algorithms_client_to_server length: 108\n",
    "                encryption_algorithms_client_to_server string: chacha20-poly1305@openssh.com,aes128-ctr,aes192-ctr,aes256-ctr,aes128-gcm@openssh.com,aes256-gcm@openssh.com\n",
    "                encryption_algorithms_server_to_client length: 108\n",
    "                encryption_algorithms_server_to_client string: chacha20-poly1305@openssh.com,aes128-ctr,aes192-ctr,aes256-ctr,aes128-gcm@openssh.com,aes256-gcm@openssh.com\n",
    "                mac_algorithms_client_to_server length: 213\n",
    "                mac_algorithms_client_to_server string [truncated]: umac-64-etm@openssh.com,umac-128-etm@openssh.com,hmac-sha2-256-etm@openssh.com,hmac-sha2-512-etm@openssh.com,hmac-sha1-etm@openssh.com,umac-64@openssh.com,umac-128@openssh.com,hmac-sha2-2\n",
    "                mac_algorithms_server_to_client length: 213\n",
    "                mac_algorithms_server_to_client string [truncated]: umac-64-etm@openssh.com,umac-128-etm@openssh.com,hmac-sha2-256-etm@openssh.com,hmac-sha2-512-etm@openssh.com,hmac-sha1-etm@openssh.com,umac-64@openssh.com,umac-128@openssh.com,hmac-sha2-2\n",
    "                compression_algorithms_client_to_server length: 21\n",
    "                compression_algorithms_client_to_server string: none,zlib@openssh.com\n",
    "                compression_algorithms_server_to_client length: 21\n",
    "                compression_algorithms_server_to_client string: none,zlib@openssh.com\n",
    "                languages_client_to_server length: 0\n",
    "                languages_client_to_server string: [Empty]\n",
    "                languages_server_to_client length: 0\n",
    "                languages_server_to_client string: [Empty]\n",
    "                KEX First Packet Follows: 0\n",
    "                Reserved: 00000000\n",
    "            Padding String: 000000000000\n",
    "\n",
    "```"
   ]
  },
  {
   "cell_type": "markdown",
   "metadata": {
    "slideshow": {
     "slide_type": "subslide"
    }
   },
   "source": [
    "## SSH - negocjacja algorytmów\n",
    "\n",
    "Serwer wybiera w każdej kategorii pierwszą pozycję, którą potrafi obsłużyć.\n",
    "\n",
    "### Przykład\n",
    "\n",
    "Klient wysłał:\n",
    "```\n",
    "kex_algorithms string: curve25519-sha256@libssh.org,ecdh-sha2-nistp256,ecdh-sha2-nistp384,ecdh-sha2-nistp521,diffie-hellman-group-exchange-sha256,diffie-hellman-group-exchange-sha1,diffie-hellman-group14-sha1,ext-info-c\n",
    "```\n",
    "A serwer odesłał:\n",
    "```\n",
    "kex_algorithms string [truncated]: curve25519-sha256,curve25519-sha256@libssh.org,ecdh-sha2-nistp256,ecdh-sha2-nistp384,ecdh-sha2-nistp521,diffie-hellman-group-exchange-sha256,diffie-hellman-group16-sha512,diffie-hellman-group18-sha512,dif\n",
    "```\n",
    "Obie strony się zgadzają, że do ustalenia klucza użyją `curve25519-sha256`. O tej krzywej eliptycznej można przeczytać [na angielskiej Wikipedii](https://en.wikipedia.org/wiki/Curve25519). Wybór tego sposobu ustalania klucza definiuje parametry $p$, $g$ i $q$ dla następnego kroku."
   ]
  },
  {
   "cell_type": "markdown",
   "metadata": {
    "slideshow": {
     "slide_type": "subslide"
    }
   },
   "source": [
    "## SSH - wymiana klucza\n",
    "\n",
    "Wartości $p$, $g$ i $q$ są ustalone w poprzednim kroku\n",
    "\n",
    "### Klient:\n",
    "\n",
    "Generuje losową wartość $x$ (większą od 1 i mniejszą od $q$) i oblicza:\n",
    "$$e = g^x \\mod p$$\n",
    "\n",
    "### Serwer:\n",
    "\n",
    "Generuje losową wartość $y$ (większą od 1 i mniejszą od $q$) i oblicza:\n",
    "$$f = g^y \\mod p$$\n",
    "Oblicza klucz $$K = e^y \\mod p$$\n",
    "oraz $$H = hash(v_c~||~v_s~||~id_c~||~id_s~||~K_S~||~e~||~f~||~K)$$\n",
    "Podpisuje $H$ swoim kluczem prywatnym i zapisuje wynik jako $s$. Wysyła do klienta wartość: $$K_S~||~f~||~s$$"
   ]
  },
  {
   "cell_type": "markdown",
   "metadata": {
    "slideshow": {
     "slide_type": "subslide"
    }
   },
   "source": [
    "## SSH - wymiana klucza\n",
    "\n",
    "### Klient: \n",
    "```\n",
    "SSH Protocol\n",
    "    SSH Version 2 (encryption:chacha20-poly1305@openssh.com mac:<implicit> compression:none)\n",
    "        Packet Length: 44\n",
    "        Padding Length: 6\n",
    "        Key Exchange\n",
    "            Message Code: Diffie-Hellman Key Exchange Init (30)\n",
    "            Multi Precision Integer Length: 32\n",
    "            DH client e: f91c50b9f3e78ab3396a52de67fcdf3d2f6770258509f71c...\n",
    "            Padding String: 000000000000\n",
    "```"
   ]
  },
  {
   "cell_type": "markdown",
   "metadata": {
    "slideshow": {
     "slide_type": "subslide"
    }
   },
   "source": [
    "## SSH - wymiana klucza\n",
    "\n",
    "### Serwer:\n",
    "```\n",
    "SSH Protocol\n",
    "    SSH Version 2 (encryption:chacha20-poly1305@openssh.com mac:<implicit> compression:none)\n",
    "        Packet Length: 260\n",
    "        Padding Length: 10\n",
    "        Key Exchange\n",
    "            Message Code: Diffie-Hellman Key Exchange Reply (31)\n",
    "            KEX DH host key (type: ecdsa-sha2-nistp256)\n",
    "            Multi Precision Integer Length: 32\n",
    "            DH server f: 45f0babe9daabe7367f14bcc693dc3569a7fd9b6d34efd36...\n",
    "            KEX DH H signature length: 100\n",
    "            KEX DH H signature: 0000001365636473612d736861322d6e6973747032353600...\n",
    "            Padding String: 00000000000000000000\n",
    "    SSH Version 2 (encryption:chacha20-poly1305@openssh.com mac:<implicit> compression:none)\n",
    "        Packet Length: 12\n",
    "        Padding Length: 10\n",
    "        Key Exchange\n",
    "            Message Code: New Keys (21)\n",
    "            Padding String: 00000000000000000000\n",
    "    SSH Version 2 (encryption:chacha20-poly1305@openssh.com mac:<implicit> compression:none)\n",
    "        Packet Length (encrypted): 94f64f9f\n",
    "        Encrypted Packet: c5e2284629ff5fed027991037cc80ace3d4812ebeefeb2c0...\n",
    "        MAC: 01db07bad6910571f8e9a2a52999f4e1\n",
    "\n",
    "```"
   ]
  },
  {
   "cell_type": "markdown",
   "metadata": {
    "slideshow": {
     "slide_type": "subslide"
    }
   },
   "source": [
    "## SSH - wymiana klucza\n",
    "\n",
    "Obie strony współdzielą klucz $K$. Wartość $H$ jest używany jako identyfikator sesji.\n",
    "\n",
    "Wymiana klucza kończy się komunikatami `SSH_MSG_NEWKEYS`\n",
    "\n",
    "### Klient:\n",
    "\n",
    "```\n",
    "SSH Protocol\n",
    "    SSH Version 2 (encryption:chacha20-poly1305@openssh.com mac:<implicit> compression:none)\n",
    "        Packet Length: 12\n",
    "        Padding Length: 10\n",
    "        Key Exchange\n",
    "            Message Code: New Keys (21)\n",
    "            Padding String: 00000000000000000000\n",
    "```\n"
   ]
  },
  {
   "cell_type": "markdown",
   "metadata": {
    "slideshow": {
     "slide_type": "subslide"
    }
   },
   "source": [
    "## SSH - wymiana klucza\n",
    "\n",
    "Na podstawie wartości $H$ i $K$ są generowane wektory inicjalizacyjne i klucze dla szyfrowania dalszej komunikacji."
   ]
  },
  {
   "cell_type": "markdown",
   "metadata": {
    "slideshow": {
     "slide_type": "subslide"
    }
   },
   "source": [
    "## SSH - uwierzytelnienie użytkownika\n",
    "\n",
    "- $\\textrm{Klient} ~\\longrightarrow ~ \\textrm{Serwer}~:~  \\textrm{komunikat SSH_MSG_USERAUTH_REQUEST}$ z nazwą użytkownika\n",
    "- Jeżeli serwer nie akceptuje takiej nazwy użytkownika to:  \n",
    "$\\textrm{Klient} ~\\longleftarrow ~ \\textrm{Serwer}~:~  \\textrm{komunikat SSH_MSG_USERAUTH_FAILURE}$ z wartością `FALSE` w polu `partial_success` i przerywa komunikację\n",
    "w przeciwnym przypadku:  \n",
    "$\\textrm{Klient} ~\\longleftarrow ~ \\textrm{Serwer}~:~  \\textrm{komunikat SSH_MSG_USERAUTH_FAILURE}$ z wartością `TRUE` w polu `partial_success` oraz listę sposobów uwierzytelnienia klienta\n",
    "- $\\textrm{Klient} ~\\longrightarrow ~ \\textrm{Serwer}~:~  \\textrm{komunikat SSH_MSG_USERAUTH_REQUEST}$ wypełniony zgodnie z wybraną metodą uwierzytelnienia\n",
    "- Jeżeli wszystko się udało to:  \n",
    "$\\textrm{Klient} ~\\longleftarrow ~ \\textrm{Serwer}~:~  \\textrm{komunikat SSH_MSG_USERAUTH_SUCCESS}$  \n",
    "a jeżeli się nie powiodło to są prowadzone dalsze negocjacje"
   ]
  },
  {
   "cell_type": "markdown",
   "metadata": {
    "slideshow": {
     "slide_type": "subslide"
    }
   },
   "source": [
    "## SSH - uwierzytelnienie użytkownika\n",
    "### Metody uwierzytelniania\n",
    "\n",
    "- `publickey`\n",
    "- `password`\n",
    "- `hostbased`"
   ]
  },
  {
   "cell_type": "markdown",
   "metadata": {
    "slideshow": {
     "slide_type": "subslide"
    }
   },
   "source": [
    "## SSH - protokół połączenia\n",
    "\n",
    "Po obustronnym uwierzytelnieniu i komunikacja odbywa się w ramach jednego **tunelu**. Przez jeden tunel może przechodzić wiele logicznych kanałów:\n",
    "- `session`\n",
    "- `x11`\n",
    "- `forwarded-tcpip`\n",
    "- `direct-tcpip`"
   ]
  },
  {
   "cell_type": "markdown",
   "metadata": {
    "slideshow": {
     "slide_type": "subslide"
    }
   },
   "source": [
    "## SSH - lokalne tunelowanie portów\n",
    "\n",
    "### Scenariusz 1\n",
    "\n",
    "- Na zdalnym serwerze działa serwer pocztowy, z którym można się połączyć przy użyciu zdalnego portu 110.\n",
    "- Nie chcemy łączyć się z tym portem bezpośrednio, bo wtedy każdy mógłby podejrzeć naszą korespondencję...\n",
    "- Ale możemy połączyć się ze zdalnym serwerem przez SSH - utworzymy tunel\n",
    "- Możemy zdefiniować połączenie w taki sposób, że cały ruch na lokalny port 9999 będzie przetunelowany do zdalnego portu 110 przez tunel SSH\n",
    "- W ten sposób, nikt nie podejrzy naszej korespondencji"
   ]
  },
  {
   "cell_type": "markdown",
   "metadata": {
    "slideshow": {
     "slide_type": "subslide"
    }
   },
   "source": [
    "## SSH - lokalne tunelowanie portów\n",
    "\n",
    "### Scenariusz 2\n",
    "\n",
    "- pracujemy w sieci lokalnej, w której administratorzy są paranoikami i nie pozwalają w wolnej chwili czytania wiadomości na portalu (tu wstaw nazwę swojego ulubionego portalu)\n",
    "- mamy jednek dostęp do serwera SSH, z którego możemy przeglądać nasz ulubiony portal\n",
    "- znów robimy tunelowanie lokalnego portu 9999 w taki sposób, aby każde zapytanie na port 9999 zostało przekierowane na określony port widoczny z serwera SSH\n",
    "\n",
    "**UWAGA** To może być sprzeczne z polityką bezpieczeństwa sieci. Mogą grozić konsekwencje za takie akcje."
   ]
  },
  {
   "cell_type": "markdown",
   "metadata": {
    "slideshow": {
     "slide_type": "subslide"
    }
   },
   "source": [
    "## SSH - zdalne tunelowanie portów\n",
    "\n",
    "### Scenariusz 1\n",
    "\n",
    "- Pracujemy w firmie, w której nasz komputer jest za firewallem i nie możemy się do niego połączyć spoza sieci firmowej\n",
    "- Możemy z komputera w sieci firmowej zalogować się do jakiegoś serwera SSH poza siecią firmową i powiedzieć, że każde zapytanie, które będzie skierowane na port 9999 na zdalnym serwerze będzie przekierowane na pewien port widoczny z komputera w sieci firmowej\n",
    "\n",
    "**UWAGA** To prawie na pewno jest sprzeczne z polityką bezpieczeństwa w firmie.\n",
    "**UWAGA** Takie tunelowanie portów wymaga dodatkowej konfiguracji w serwerze SSH"
   ]
  },
  {
   "cell_type": "markdown",
   "metadata": {
    "slideshow": {
     "slide_type": "subslide"
    }
   },
   "source": [
    "## SSH - dynamiczne tunelowanie portów\n",
    "\n",
    "Możemy zestawić połączenie z dowolnym serwerem SSH w taki sposób, żeby pełnił on funkcję serwera proxy (cały ruch idzie na określony port lokalny i jest przez to przekierowywany przez tunel SSH do serwera proxy."
   ]
  }
 ],
 "metadata": {
  "celltoolbar": "Slideshow",
  "kernelspec": {
   "display_name": "Python 3",
   "language": "python",
   "name": "python3"
  },
  "language_info": {
   "codemirror_mode": {
    "name": "ipython",
    "version": 3
   },
   "file_extension": ".py",
   "mimetype": "text/x-python",
   "name": "python",
   "nbconvert_exporter": "python",
   "pygments_lexer": "ipython3",
   "version": "3.5.3"
  },
  "livereveal": {
   "footer": "<h3>Bezpieczeństwo systemów komputerowych, 12 marca 2018, Paweł Bogdan</h3>",
   "theme": "serif"
  }
 },
 "nbformat": 4,
 "nbformat_minor": 2
}
