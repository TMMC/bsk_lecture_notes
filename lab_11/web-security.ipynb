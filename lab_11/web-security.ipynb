{
 "cells": [
  {
   "cell_type": "markdown",
   "metadata": {},
   "source": [
    "# Bezpieczeństwo Systemów Komputerowych\n",
    "\n",
    "## Ćwiczenia 10: Zabezpieczenia sieci Wi-Fi\n",
    "\n",
    "### 21 maja 2018 roku"
   ]
  },
  {
   "cell_type": "markdown",
   "metadata": {},
   "source": [
    "# Disclaimer\n",
    "\n",
    "Prezentowane treści mają charakter **edukacyjny**.\n",
    "\n",
    "Prezentacja pokazuje techniki testowania swojej sieci bezprzewodowej.\n",
    "\n",
    "Wykorzystanie tych technik do siedzi cudzych jest **zabronione**.\n",
    "\n",
    "Autor dokumentu nie bierze odpowiedzialności za to, w jakim celu wiedza przedstawiona w dokumencie zostanie wykorzystana.\n",
    "\n",
    "## Artykuł 267 Kodeksu Karnego\n",
    "\n",
    "\n",
    "> §1. Kto bez uprawnienia uzyskuje dostęp do informacji dla niego nieprzeznaczonej, otwierając zamknięte pismo, podłączając się do sieci telekomunikacyjnej lub przełamując albo omijając elektroniczne, magnetyczne, informatyczne lub inne szczególne jej zabezpieczenie, podlega grzywnie, karze ograniczenia wolności albo **pozbawienia wolności do lat 2**.  \n",
    "§ 2. Tej samej karze podlega, kto bez uprawnienia uzyskuje dostęp do całości lub części systemu informatycznego.  \n",
    "§ 3. Tej samej karze podlega, kto w celu uzyskania informacji, do której nie jest uprawniony, zakłada lub posługuje się urządzeniem podsłuchowym, wizualnym albo innym urządzeniem lub oprogramowaniem."
   ]
  },
  {
   "cell_type": "markdown",
   "metadata": {},
   "source": [
    "# Wstęp do zajęć\n",
    "\n",
    "W czasie zajeć będziemy korzystać z [projektu WebGoat](https://www.owasp.org/index.php/Category:OWASP_WebGoat_Project), który jest rozwijany przez organizacje [OWASP](https://www.owasp.org/index.php/Main_Page)\n",
    "\n",
    "Moim zdaniem, wygodnie będzie skorzystać z przygotowanego przez autorów projektu obrazka Dockera:\n",
    "```bash\n",
    "sudo docker run -p 8080:8080 -t webgoat/webgoat-8.0\n",
    "```\n",
    "Następnie możemy otworzyć stronę w przeglądarce: [http://172.17.0.2:8080/WebGoat/login](http://172.17.0.2:8080/WebGoat/login)"
   ]
  },
  {
   "cell_type": "markdown",
   "metadata": {},
   "source": [
    "# Zadanie 0\n",
    "\n",
    "Zapoznaj się z informacją o projeckie WebGoat na stronie [http://172.17.0.2:8080/WebGoat/start.mvc#lesson/WebGoatIntroduction.lesson](http://172.17.0.2:8080/WebGoat/start.mvc#lesson/WebGoatIntroduction.lesson)"
   ]
  },
  {
   "cell_type": "markdown",
   "metadata": {},
   "source": [
    "# Zadanie 1\n",
    "\n",
    "Zacznijmy od podstaw HTTP: [http://172.17.0.2:8080/WebGoat/start.mvc#lesson/HttpBasics.lesson](http://172.17.0.2:8080/WebGoat/start.mvc#lesson/HttpBasics.lesson)"
   ]
  },
  {
   "cell_type": "markdown",
   "metadata": {},
   "source": [
    "# Zadanie 2\n",
    "\n",
    "Przejdźmy do podstaw SQL Injection: [http://172.17.0.2:8080/WebGoat/start.mvc#lesson/SqlInjection.lesson](http://172.17.0.2:8080/WebGoat/start.mvc#lesson/SqlInjection.lesson)"
   ]
  },
  {
   "cell_type": "markdown",
   "metadata": {},
   "source": [
    "# Zadanie 3\n",
    "\n",
    "A teraz kolej na trudniejszy przykład z SQL Injection: [http://172.17.0.2:8080/WebGoat/start.mvc#lesson/SqlInjectionAdvanced.lesson](http://172.17.0.2:8080/WebGoat/start.mvc#lesson/SqlInjectionAdvanced.lesson)"
   ]
  },
  {
   "cell_type": "markdown",
   "metadata": {},
   "source": [
    "# Zadanie 4\n",
    "\n",
    "I jeszcze jedno spojrzenie na SQL Injection: [http://172.17.0.2:8080/WebGoat/start.mvc#lesson/SqlInjectionMitigations.lesson/0](http://172.17.0.2:8080/WebGoat/start.mvc#lesson/SqlInjectionMitigations.lesson/0)"
   ]
  },
  {
   "cell_type": "markdown",
   "metadata": {},
   "source": [
    "# Zadanie 5\n",
    "\n",
    "A teraz kolej na wstrzykiwanie XML [http://172.17.0.2:8080/WebGoat/start.mvc#lesson/XXE.lesson](http://172.17.0.2:8080/WebGoat/start.mvc#lesson/XXE.lesson)"
   ]
  },
  {
   "cell_type": "markdown",
   "metadata": {},
   "source": [
    "# Zadanie 6\n",
    "\n",
    "Spróbujmy jeszcze XSS: [http://172.17.0.2:8080/WebGoat/start.mvc#lesson/CrossSiteScripting.lesson/0](http://172.17.0.2:8080/WebGoat/start.mvc#lesson/CrossSiteScripting.lesson/0)"
   ]
  },
  {
   "cell_type": "markdown",
   "metadata": {},
   "source": [
    "# Praca domowa\n",
    "\n",
    "Na dole listy zadań jest pozycja `Challenges`. Jako pracę domową, proszę przysłać jeden plik tekstowy, w którym każda osoba opisze rozwiązanie jednego wybranego wyzwania. Nazwa pliku jest dowolna."
   ]
  }
 ],
 "metadata": {
  "kernelspec": {
   "display_name": "Python 3",
   "language": "python",
   "name": "python3"
  },
  "language_info": {
   "codemirror_mode": {
    "name": "ipython",
    "version": 3
   },
   "file_extension": ".py",
   "mimetype": "text/x-python",
   "name": "python",
   "nbconvert_exporter": "python",
   "pygments_lexer": "ipython3",
   "version": "3.6.5rc1"
  }
 },
 "nbformat": 4,
 "nbformat_minor": 2
}
