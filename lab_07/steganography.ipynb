{
 "cells": [
  {
   "cell_type": "markdown",
   "metadata": {},
   "source": [
    "# Bezpieczeństwo Systemów Komputerowych\n",
    "\n",
    "## Ćwiczenia 7: Steganografia\n",
    "\n",
    "### 16 kwietnia 2018 roku"
   ]
  },
  {
   "cell_type": "markdown",
   "metadata": {},
   "source": [
    "# Zadanie 1\n",
    "\n",
    "Dlaczego plik `obrazek1.gif`, który jest w katalogu z tym notebookiem się nie wyświetla? Jakie jest ukryte hasło?"
   ]
  },
  {
   "cell_type": "markdown",
   "metadata": {},
   "source": [
    "# Zadanie 2\n",
    "\n",
    "Dlaczego plik `obrazek2.gif`, który jest w katalogu z tym notebookiem się nie wyświetla? Jakie jest hasło?\n",
    "\n",
    "[Wskazówka](https://en.wikipedia.org/wiki/List_of_file_signatures)"
   ]
  },
  {
   "cell_type": "markdown",
   "metadata": {},
   "source": [
    "# Zadanie 3\n",
    "\n",
    "Na koniec pliku `obrazek3.png` dopisano pewne skompresowane dane. Jakie jest ukryte hasło?"
   ]
  },
  {
   "cell_type": "markdown",
   "metadata": {},
   "source": [
    "# Biblioteka `pillow`\n",
    "\n",
    "Będziemy używali biblioteki `PIL`. [Tutaj](https://pillow.readthedocs.io/en/5.1.x/) jest dokumentacja pakietu. A [tutaj](http://blog.justsophie.com/image-steganography-in-python/) jest wpis na blogu, z którego korzystałem do przygotowania zadań.\n",
    "\n",
    "Żeby jej używać na systemach wydziałowych musimy stworzyć wirtualne środowisko pythona 3.x (na podstawie instrukcji [stąd](https://packaging.python.org/guides/installing-using-pip-and-virtualenv/)):\n",
    "```\n",
    "python3 -m venv ~/venv\n",
    "```\n",
    "\n",
    "Żeby go używać musimy wywołać następującą instrukcję:\n",
    "```\n",
    "source venv/bin/activate\n",
    "```\n",
    "I teraz zainstalować bibliotekę:\n",
    "```\n",
    "pip3 install --upgrade pip\n",
    "pip3 install pillow\n",
    "```\n",
    "\n",
    "Używająctej biblioteki mamy swobodny dostęp do każdego piksela:\n",
    "```python\n",
    "from PIL import Image\n",
    "\n",
    "im = Image.open(\"path to file\")\n",
    "mode = im.mode\n",
    "width, height = im.size\n",
    "\n",
    "pixels = im.load()\n",
    "\n",
    "for i in range(width):\n",
    "    for j in range(height):\n",
    "        print(pixels[i, j])\n",
    "```"
   ]
  },
  {
   "cell_type": "markdown",
   "metadata": {},
   "source": [
    "# Zadanie 4\n",
    "\n",
    "Pobierz [obrazek1](http://kmb.ufoctf.ru/stego/stegsolve/img/1.jpg) oraz [obrazek2](http://kmb.ufoctf.ru/stego/stegsolve/img/2.jpg) i sprawdź, co wyjdzie, gdy stworzysz obrazek3, który będzie wynikiem pewnej operacji na bajtach. Możesz użyć swojego skryptu w języku python, który wykorzystuje bibliotekę `pillow`, lub możesz skorzystać z narzędzia napisanego w javie, które można znaleźć [tutaj](http://www.caesum.com/handbook/Stegsolve.jar)"
   ]
  },
  {
   "cell_type": "markdown",
   "metadata": {},
   "source": [
    "# Zadanie 5\n",
    "\n",
    "Pobierz [obrazek](http://kmb.ufoctf.ru/stego/stegsolve/img/6.png). Przeanalizuj poszczególne bity dla poszczególnych kanałach.\n",
    "\n",
    "Wykorzystaj bibliotekę `pillow` lub program `stegsolve.jar`.\n"
   ]
  },
  {
   "cell_type": "markdown",
   "metadata": {},
   "source": [
    "# Zadanie 6\n",
    "\n",
    "W [obrazku](https://upload.wikimedia.org/wikipedia/commons/a/a8/Steganography_original.png) na dwóch najmniej znaczących bitach jest zakodowana ukryta wiadomość."
   ]
  },
  {
   "cell_type": "markdown",
   "metadata": {},
   "source": [
    "# Zadanie 7\n",
    "\n",
    "Odzyskaj obrazek z pliku `obrazek4.png`, który jest w katalogu razem z tym notebookiem."
   ]
  },
  {
   "cell_type": "markdown",
   "metadata": {},
   "source": [
    "# Zadanie 8\n",
    "\n",
    "Ukryj obrazek `obrazek3.png` w obrazku `obrazek4.png`. Sprawdź jak się pogorszy jakość obrazka, jeżeli użyjemy 3 bitów zamiast dwóch."
   ]
  },
  {
   "cell_type": "markdown",
   "metadata": {},
   "source": [
    "# Praca domowa\n",
    "\n",
    "Jako pracę domową przygotuj zagadkę steganograficzną z opisem rozwiązania."
   ]
  }
 ],
 "metadata": {
  "kernelspec": {
   "display_name": "Python 3",
   "language": "python",
   "name": "python3"
  },
  "language_info": {
   "codemirror_mode": {
    "name": "ipython",
    "version": 3
   },
   "file_extension": ".py",
   "mimetype": "text/x-python",
   "name": "python",
   "nbconvert_exporter": "python",
   "pygments_lexer": "ipython3",
   "version": "3.5.2"
  }
 },
 "nbformat": 4,
 "nbformat_minor": 2
}
