{
 "cells": [
  {
   "cell_type": "markdown",
   "metadata": {
    "slideshow": {
     "slide_type": "slide"
    }
   },
   "source": [
    "# Wprowadzenie\n",
    "## Paweł Bogdan\n",
    "## 26 lutego 2018\n",
    "### Bezpieczeństwo Systemów komputerowych"
   ]
  },
  {
   "cell_type": "markdown",
   "metadata": {
    "slideshow": {
     "slide_type": "slide"
    }
   },
   "source": [
    "# Czym jest bezpieczeństwo komputerowe?\n",
    "\n",
    "Cytując książkę Stallingsa (który cytuje podręcznik _Computer Security Handbook_):\n",
    "\n",
    "> Środki ochrony, w jakie wyposażono system automatycznego przetwarzania informacji z zamiarem osiągnięcia założonych celów w zakresie zachowania integralności, dostępności i poufności informacji kryjącej się w zasobach wspomnianego systemu - sprzęcie oprogramowaniu, magazynowanych danych, firmware i telekomunikacji"
   ]
  },
  {
   "cell_type": "markdown",
   "metadata": {
    "slideshow": {
     "slide_type": "subslide"
    }
   },
   "source": [
    "# Sedno bezpieczeństwa komputerowego"
   ]
  },
  {
   "cell_type": "markdown",
   "metadata": {
    "slideshow": {
     "slide_type": "fragment"
    }
   },
   "source": [
    "## Poufność"
   ]
  },
  {
   "cell_type": "markdown",
   "metadata": {
    "slideshow": {
     "slide_type": "fragment"
    }
   },
   "source": [
    "## Integralność"
   ]
  },
  {
   "cell_type": "markdown",
   "metadata": {
    "slideshow": {
     "slide_type": "fragment"
    }
   },
   "source": [
    "## Dostępność"
   ]
  },
  {
   "cell_type": "markdown",
   "metadata": {
    "slideshow": {
     "slide_type": "fragment"
    }
   },
   "source": [
    "## Czyli CIA"
   ]
  },
  {
   "cell_type": "markdown",
   "metadata": {
    "slideshow": {
     "slide_type": "slide"
    }
   },
   "source": [
    "# Kryptografia symetryczna"
   ]
  },
  {
   "cell_type": "markdown",
   "metadata": {
    "slideshow": {
     "slide_type": "subslide"
    }
   },
   "source": [
    "## Słownik\n",
    "\n",
    "1. **Tekst jawny** (plaintext)\n",
    "2. **Algorytm szyfrujący** (encryption algorithm)\n",
    "3. **Tajny klucz** (secret key)\n",
    "4. **Szyfrogram** (ciphertext)\n",
    "5. **Algorytm deszyfrujące** (decryption algorithm)"
   ]
  },
  {
   "cell_type": "markdown",
   "metadata": {
    "slideshow": {
     "slide_type": "subslide"
    }
   },
   "source": [
    "## Oznaczenia\n",
    "\n",
    "### Szyfrowanie\n",
    "\n",
    "$$C = E_K(P)$$\n",
    "\n",
    "### Deszyfrowanie\n",
    "\n",
    "$$P = D_K(C)$$"
   ]
  },
  {
   "cell_type": "markdown",
   "metadata": {
    "slideshow": {
     "slide_type": "subslide"
    }
   },
   "source": [
    "## Szyfr Cezara\n",
    "\n",
    "![szyfr Cezara](https://upload.wikimedia.org/wikipedia/commons/thumb/2/2b/Caesar3.svg/800px-Caesar3.svg.png)\n",
    "[Źródło](https://commons.wikimedia.org/wiki/File:Caesar3.svg)\n"
   ]
  },
  {
   "cell_type": "markdown",
   "metadata": {
    "slideshow": {
     "slide_type": "subslide"
    }
   },
   "source": [
    "## Szyfry podstawieniowe"
   ]
  },
  {
   "cell_type": "markdown",
   "metadata": {
    "slideshow": {
     "slide_type": "subslide"
    }
   },
   "source": [
    "## Szyfry przestawieniowe"
   ]
  },
  {
   "cell_type": "markdown",
   "metadata": {
    "slideshow": {
     "slide_type": "subslide"
    }
   },
   "source": [
    "## Szyfr Vigenere'a\n",
    "\n",
    "![szyfr v](https://upload.wikimedia.org/wikipedia/commons/thumb/9/9a/Vigen%C3%A8re_square_shading.svg/500px-Vigen%C3%A8re_square_shading.svg.png)\n",
    "[Źródło](https://commons.wikimedia.org/wiki/File:Vigen%C3%A8re_square_shading.svg)"
   ]
  },
  {
   "cell_type": "markdown",
   "metadata": {
    "slideshow": {
     "slide_type": "subslide"
    }
   },
   "source": [
    "## Szyfr Vernama"
   ]
  },
  {
   "cell_type": "markdown",
   "metadata": {
    "slideshow": {
     "slide_type": "subslide"
    }
   },
   "source": [
    "## Enigma\n",
    "\n",
    "![enigma](https://upload.wikimedia.org/wikipedia/commons/a/ae/Enigma.jpg)\n",
    "[Źródło](https://commons.wikimedia.org/wiki/File:Enigma.jpg)"
   ]
  },
  {
   "cell_type": "markdown",
   "metadata": {
    "slideshow": {
     "slide_type": "subslide"
    }
   },
   "source": [
    "## Enigma\n",
    "\n",
    "![wirniki](https://upload.wikimedia.org/wikipedia/commons/thumb/a/a4/Enigma-action_pl.svg/500px-Enigma-action_pl.svg.png)\n",
    "[Źródło](https://commons.wikimedia.org/wiki/File:Enigma-action_pl.svg)"
   ]
  },
  {
   "cell_type": "markdown",
   "metadata": {
    "slideshow": {
     "slide_type": "subslide"
    }
   },
   "source": [
    "## Szyfry blokowe\n",
    "\n",
    "### Data Encryption Standard\n",
    "\n",
    "Rozmiar klucza: 56 bitów\n",
    "\n",
    "Rozmiar bloku: 64 bity\n",
    "\n",
    "### Advanced Encryption Standard (Rijndael)\n",
    "\n",
    "Rozmiar bloku: 128 bitów\n",
    "\n",
    "Rozmiar klucza: 128 bitów lub 192 bity lub 256 bitów"
   ]
  },
  {
   "cell_type": "markdown",
   "metadata": {
    "slideshow": {
     "slide_type": "subslide"
    }
   },
   "source": [
    "## Tryby pracy szyfrów blokowych"
   ]
  },
  {
   "cell_type": "markdown",
   "metadata": {
    "slideshow": {
     "slide_type": "subslide"
    }
   },
   "source": [
    "### ECB - Electronic Codebook\n",
    "\n",
    "![ecb](https://upload.wikimedia.org/wikipedia/commons/thumb/d/d6/ECB_encryption.svg/640px-ECB_encryption.svg.png)\n",
    "\n",
    "[Źródło](https://en.wikipedia.org/wiki/File:ECB_encryption.svg)"
   ]
  },
  {
   "cell_type": "markdown",
   "metadata": {
    "slideshow": {
     "slide_type": "subslide"
    }
   },
   "source": [
    "### CBC - Cipher Block Chaining\n",
    "\n",
    "![cbc](https://upload.wikimedia.org/wikipedia/commons/thumb/8/80/CBC_encryption.svg/640px-CBC_encryption.svg.png)\n",
    "\n",
    "[Źródło](https://en.wikipedia.org/wiki/File:CBC_encryption.svg)"
   ]
  },
  {
   "cell_type": "markdown",
   "metadata": {
    "slideshow": {
     "slide_type": "subslide"
    }
   },
   "source": [
    "### CFB - Cipher Feedback\n",
    "\n",
    "![cfb](https://upload.wikimedia.org/wikipedia/commons/thumb/9/9d/CFB_encryption.svg/640px-CFB_encryption.svg.png)\n",
    "\n",
    "[Źródło](https://en.wikipedia.org/wiki/File:CFB_encryption.svg)"
   ]
  },
  {
   "cell_type": "markdown",
   "metadata": {
    "slideshow": {
     "slide_type": "subslide"
    }
   },
   "source": [
    "### OFB - Output Feedback\n",
    "\n",
    "![ofb](https://upload.wikimedia.org/wikipedia/commons/thumb/b/b0/OFB_encryption.svg/640px-OFB_encryption.svg.png)\n",
    "\n",
    "[Źródło](https://en.wikipedia.org/wiki/File:OFB_encryption.svg)"
   ]
  },
  {
   "cell_type": "markdown",
   "metadata": {
    "slideshow": {
     "slide_type": "subslide"
    }
   },
   "source": [
    "## Szyfrowanie w Pythonie\n",
    "\n",
    "Implementacja używająca biblioteki `cryptography`. Poniższy przykład pochodzi z [dokumentacji pakietu `cryptography`](https://cryptography.io/en/latest/hazmat/primitives/symmetric-encryption/)"
   ]
  },
  {
   "cell_type": "code",
   "execution_count": 7,
   "metadata": {
    "slideshow": {
     "slide_type": "-"
    }
   },
   "outputs": [
    {
     "name": "stdout",
     "output_type": "stream",
     "text": [
      "b'\\x99\\x92\\x10\\xd167\\x9d\\xc6Ie\\xfd\\xac6\\xd3\\x87\\xe8'\n"
     ]
    },
    {
     "data": {
      "text/plain": [
       "b'a secret message'"
      ]
     },
     "execution_count": 7,
     "metadata": {},
     "output_type": "execute_result"
    }
   ],
   "source": [
    "# Importujemy potrzebne nazwy\n",
    "import os\n",
    "from cryptography.hazmat.primitives.ciphers import Cipher, algorithms, modes\n",
    "from cryptography.hazmat.backends import default_backend\n",
    "# Dokumentacja mówi, że początkowo miało być wiele różnych backendów\n",
    "# Ale to już jest deprecated\n",
    "backend = default_backend()\n",
    "# Losowy klucz 256 bitów\n",
    "key = os.urandom(32)\n",
    "# Losowy wektor inicjalizacyjny - 128 bitów\n",
    "iv = os.urandom(16)\n",
    "algorithm = algorithms.AES(key)\n",
    "mode = modes.ECB()\n",
    "cipher = Cipher(algorithm, mode, backend)\n",
    "encryptor = cipher.encryptor()\n",
    "ct = encryptor.update(b\"a secret message\") + encryptor.finalize()\n",
    "print(ct)\n",
    "decryptor = cipher.decryptor()\n",
    "decryptor.update(ct) + decryptor.finalize()"
   ]
  },
  {
   "cell_type": "code",
   "execution_count": 34,
   "metadata": {
    "slideshow": {
     "slide_type": "subslide"
    }
   },
   "outputs": [],
   "source": [
    "%%bash\n",
    "\n",
    "dd if=/dev/urandom count=1 bs=32 2> /dev/null | hexdump | head -n2 | cut -d' ' -f2- | tr -d '\\n' | tr -d ' ' > key\n",
    "dd if=/dev/urandom count=1 bs=8 2> /dev/null | hexdump | head -n1 | cut -d' ' -f2- | tr -d '\\n' | tr -d ' ' > salt\n",
    "openssl aes-256-ecb -nosalt -K `cat key` -in input.jpg -out output.jpg\n",
    "openssl aes-256-ecb -nosalt -K `cat key` -d -in output.jpg -out test.jpg\n",
    "diff input.jpg test.jpg"
   ]
  },
  {
   "cell_type": "markdown",
   "metadata": {
    "slideshow": {
     "slide_type": "slide"
    }
   },
   "source": [
    "# Funkcje skrótu"
   ]
  },
  {
   "cell_type": "markdown",
   "metadata": {
    "slideshow": {
     "slide_type": "subslide"
    }
   },
   "source": [
    "Cytując książkę Stallingsa:\n",
    "\n",
    "> Funkcja haszująca $H$ przekształca komunikat $M$ dowolnej długości na ustalonej długości wartość $h$ zwaną haszem $$h = H(M)$$"
   ]
  },
  {
   "cell_type": "markdown",
   "metadata": {
    "slideshow": {
     "slide_type": "fragment"
    }
   },
   "source": [
    "I dalej:\n",
    "\n",
    "> zadaniem funkcji haszującej jest ochrona integralności dancych: zmiana choćby jednego bitu w komunikacie $M$ powinna powodować z dużym prawdopodobieństwem zmianę wartości $H(M)$."
   ]
  },
  {
   "cell_type": "markdown",
   "metadata": {
    "slideshow": {
     "slide_type": "subslide"
    }
   },
   "source": [
    "## Wymagania do kryptograficznej funkcji haszującej\n",
    "\n",
    "- **Zmienna długość danych wejściowych**\n",
    "- **Ustalona długość wyniku**\n",
    "- **Wydajność**\n",
    "- **Odporność na odtwarzanie przeciwobrazów**\n",
    "- **Odporność na konstruowanie synonimów** (słaba odporność na kolizje)\n",
    "- **Odporność na konstruowanie par synonimów** (silna odporność na kolizje)\n",
    "- **Pseudolosowość**"
   ]
  },
  {
   "cell_type": "markdown",
   "metadata": {
    "slideshow": {
     "slide_type": "subslide"
    }
   },
   "source": [
    "## Zastosowania kryptograficznych funkcji haszujących\n",
    "\n",
    "### Uwierzytelnianie komunikatów\n",
    "\n",
    "- _message digest_\n",
    "- _Message Authentication Codes_ **MAC**"
   ]
  },
  {
   "cell_type": "markdown",
   "metadata": {
    "slideshow": {
     "slide_type": "fragment"
    }
   },
   "source": [
    "### Podpisy cyfrowe"
   ]
  },
  {
   "cell_type": "markdown",
   "metadata": {
    "slideshow": {
     "slide_type": "fragment"
    }
   },
   "source": [
    "### Katalogi haseł"
   ]
  },
  {
   "cell_type": "markdown",
   "metadata": {
    "slideshow": {
     "slide_type": "fragment"
    }
   },
   "source": [
    "### Detekcja włamań"
   ]
  },
  {
   "cell_type": "markdown",
   "metadata": {
    "slideshow": {
     "slide_type": "fragment"
    }
   },
   "source": [
    "### Konstrukcja funkcji pseudolosowych"
   ]
  },
  {
   "cell_type": "markdown",
   "metadata": {
    "slideshow": {
     "slide_type": "subslide"
    }
   },
   "source": [
    "## Paradoks dnia urodzin\n",
    "\n",
    "> Ile osób należy zebrać w jednym miejscu, aby prawdopodobieństwo wystąpienia pary osób, które mają urodziny tego samego dnia wyniosło conajmniej $\\frac{1}{2}$?\n"
   ]
  },
  {
   "cell_type": "markdown",
   "metadata": {
    "slideshow": {
     "slide_type": "subslide"
    }
   },
   "source": [
    "### Odpowiedź: 23"
   ]
  },
  {
   "cell_type": "markdown",
   "metadata": {
    "slideshow": {
     "slide_type": "subslide"
    }
   },
   "source": [
    "## Można uogólnić to na funkcje haszujące\n",
    "\n",
    "Dla funkcji zwracającej hasze długości $m$, można się spodziewać, że po obliczeniu $2^\\frac{m}{2}$ haszy znajdziemy kolizję"
   ]
  },
  {
   "cell_type": "markdown",
   "metadata": {
    "slideshow": {
     "slide_type": "subslide"
    }
   },
   "source": [
    "## Tablice tęczowe\n",
    "\n",
    "![Tablice tenczowe](http://kestas.kuliukas.com/RainbowTables/2.png)\n",
    "[Źródło](http://kestas.kuliukas.com/RainbowTables/)"
   ]
  },
  {
   "cell_type": "markdown",
   "metadata": {
    "slideshow": {
     "slide_type": "subslide"
    }
   },
   "source": [
    "## John The Ripper\n",
    "\n",
    "![John the Ripper](http://cdn.softwaretestinghelp.com/wp-content/qa/uploads/2013/11/John-The-Ripper-logo.jpg)\n",
    "\n",
    "[Źródło](http://www.softwaretestinghelp.com/penetration-testing-tools/)"
   ]
  },
  {
   "cell_type": "markdown",
   "metadata": {
    "slideshow": {
     "slide_type": "subslide"
    }
   },
   "source": [
    "## Lista funkcji haszujących\n",
    "\n",
    "[Link](https://valerieaurora.org/hash.html)"
   ]
  },
  {
   "cell_type": "markdown",
   "metadata": {
    "slideshow": {
     "slide_type": "subslide"
    }
   },
   "source": [
    "## Haszowanie w Pythonie\n",
    "\n",
    "Na podstawie [dokumentacji](https://cryptography.io/en/latest/hazmat/primitives/cryptographic-hashes/#) pakietu `cryptography`."
   ]
  },
  {
   "cell_type": "code",
   "execution_count": 1,
   "metadata": {
    "slideshow": {
     "slide_type": "-"
    }
   },
   "outputs": [
    {
     "data": {
      "text/plain": [
       "b'l\\xa1=R\\xcap\\xc8\\x83\\xe0\\xf0\\xbb\\x10\\x1eBZ\\x89\\xe8bM\\xe5\\x1d\\xb2\\xd29%\\x93\\xafj\\x84\\x11\\x80\\x90'"
      ]
     },
     "execution_count": 1,
     "metadata": {},
     "output_type": "execute_result"
    }
   ],
   "source": [
    "from cryptography.hazmat.backends import default_backend\n",
    "from cryptography.hazmat.primitives import hashes\n",
    "digest = hashes.Hash(hashes.SHA256(), backend=default_backend())\n",
    "digest.update(b\"abc\")\n",
    "digest.update(b\"123\")\n",
    "digest.finalize()"
   ]
  },
  {
   "cell_type": "code",
   "execution_count": 5,
   "metadata": {
    "slideshow": {
     "slide_type": "subslide"
    }
   },
   "outputs": [
    {
     "name": "stdout",
     "output_type": "stream",
     "text": [
      "a178fb69a30544a771e0d5f02aa97b1e  2. Wprowadzenie.ipynb\n",
      "88b8b2f3671f072caec384d1a8450a73358decee9502a69ce354228fe6757e14  2. Wprowadzenie.ipynb\n",
      "SHA512(2. Wprowadzenie.ipynb)= e795f958ebdff5f47471064a917160e3f89a09a6bcf118a4ab83ff8ed96aafb46576f6fe051a006d0cc229e1e9eeb6c732bd0b42e0ef724a9fdc75be332bb149\n"
     ]
    }
   ],
   "source": [
    "%%bash\n",
    "md5sum \"2. Wprowadzenie.ipynb\"\n",
    "sha256sum \"2. Wprowadzenie.ipynb\"\n",
    "openssl dgst -sha512 \"2. Wprowadzenie.ipynb\""
   ]
  },
  {
   "cell_type": "markdown",
   "metadata": {
    "slideshow": {
     "slide_type": "slide"
    }
   },
   "source": [
    "# Kryptografia asymetryczna"
   ]
  },
  {
   "cell_type": "markdown",
   "metadata": {
    "slideshow": {
     "slide_type": "subslide"
    }
   },
   "source": [
    "## Słownik\n",
    "\n",
    "- **Faktoryzacja**\n",
    "- **Logarytm dyskretny**"
   ]
  },
  {
   "cell_type": "markdown",
   "metadata": {
    "slideshow": {
     "slide_type": "subslide"
    }
   },
   "source": [
    "## RSA (Rivest-Shamir-Adleman)\n",
    "\n",
    "- Wybieramy dwie duże liczby pierwsze $p$ i $q$\n",
    "- Obliczamy $n= p\\cdot q$\n",
    "- Wiemy, że $\\varphi(n) = (p-1)\\cdot(q-1)$\n",
    "- Wybieramy $e$ takie, że\n",
    "    - $1 < e < \\varphi(n)$\n",
    "    - $\\gcd(e, \\varphi(n)) = 1$\n",
    "- Obliczamy $d$ takie, że $d \\equiv e^{-1} \\mod \\varphi(n)$"
   ]
  },
  {
   "cell_type": "markdown",
   "metadata": {
    "slideshow": {
     "slide_type": "subslide"
    }
   },
   "source": [
    "### RSA - szyfrowanie\n",
    "\n",
    "$$C = E(P) = P^e \\mod n$$"
   ]
  },
  {
   "cell_type": "markdown",
   "metadata": {
    "slideshow": {
     "slide_type": "fragment"
    }
   },
   "source": [
    "### RSA - deszyfrowanie\n",
    "\n",
    "$$P = D(C) = C^d \\mod n$$"
   ]
  },
  {
   "cell_type": "markdown",
   "metadata": {
    "slideshow": {
     "slide_type": "subslide"
    }
   },
   "source": [
    "## Diffie-Hellman\n",
    "\n",
    "- Alicja i Bob wybierają skończoną multiplikatywną grupę abelową $G$ i jej element $g$, który generuje możliwie dużą podgrupę\n",
    "- Alicja losuje liczbę całkowitą $a$ i oblicza wartość $A = g^a$\n",
    "- Bob losuje liczbę całkowitą $b$ i oblicza wartość $B = g^b$\n",
    "- Alicja wysyła do Boba $A \\in G$\n",
    "- Bob wysyła do Alicji $B \\in G$\n",
    "- Alicja oblicza wartość $B^a = g^{ab}$\n",
    "- Bob oblicza wartość $A^b = g^{ab}$"
   ]
  },
  {
   "cell_type": "markdown",
   "metadata": {
    "slideshow": {
     "slide_type": "subslide"
    }
   },
   "source": [
    "## Elgamal\n",
    "\n",
    "1. Ustala się skończoną multiplikatywną grupę abelową GG i jej element gg, który generuje możliwie dużą podgrupę\n",
    "2. $X_A$ to losowa liczba całkowita, która staje się kluczem prywatnym\n",
    "3. Kluczem publicznym zostaje $Y_A = g^{X_A}$."
   ]
  },
  {
   "cell_type": "markdown",
   "metadata": {
    "slideshow": {
     "slide_type": "subslide"
    }
   },
   "source": [
    "### Szyfrowanie\n",
    "\n",
    "1. Wybiera się liczbę całkowitą $k$ i oblicza się klucz jednorazowy $K=Y_A^k$\n",
    "2. Oblicza się parę $(C_1, C_2)$, gdzie\n",
    "    - $C_1 = g^k$\n",
    "    - $C_2 = KM$\n",
    "\n",
    "### Deszyfrowanie\n",
    "\n",
    "1. Obliczamy klucz $K = C_1^{X_A}$\n",
    "2. Obliczamy wiadomość $M = C_2K^{-1}$"
   ]
  },
  {
   "cell_type": "markdown",
   "metadata": {
    "slideshow": {
     "slide_type": "subslide"
    }
   },
   "source": [
    "## Podpisy cyfrowe"
   ]
  },
  {
   "cell_type": "markdown",
   "metadata": {
    "slideshow": {
     "slide_type": "subslide"
    }
   },
   "source": [
    "## Przykłady użycia w Pythonie\n",
    "\n",
    "Na przykładzie [dokumentacji](https://cryptography.io/en/latest/hazmat/primitives/asymmetric/rsa/) pakietu `cryptography`"
   ]
  },
  {
   "cell_type": "code",
   "execution_count": 60,
   "metadata": {},
   "outputs": [
    {
     "data": {
      "text/plain": [
       "b'A message I want to sign'"
      ]
     },
     "execution_count": 60,
     "metadata": {},
     "output_type": "execute_result"
    }
   ],
   "source": [
    "from cryptography.hazmat.backends import default_backend\n",
    "from cryptography.hazmat.primitives.asymmetric import rsa, padding\n",
    "from cryptography.hazmat.primitives import serialization, hashes\n",
    "\n",
    "private_key = rsa.generate_private_key(\n",
    "    public_exponent=65537,\n",
    "    key_size=2048,\n",
    "    backend=default_backend()\n",
    ")\n",
    "public_key = private_key.public_key()\n",
    "message = b\"A message I want to sign\"\n",
    "signature = private_key.sign(message, padding.PKCS1v15(), hashes.SHA512())\n",
    "public_key.verify(signature, message, padding.PKCS1v15(), hashes.SHA512())\n",
    "c = public_key.encrypt(message, padding.PKCS1v15())\n",
    "private_key.decrypt(c, padding.PKCS1v15())"
   ]
  },
  {
   "cell_type": "code",
   "execution_count": 61,
   "metadata": {
    "slideshow": {
     "slide_type": "subslide"
    }
   },
   "outputs": [
    {
     "name": "stdout",
     "output_type": "stream",
     "text": [
      "Verified OK\n"
     ]
    },
    {
     "name": "stderr",
     "output_type": "stream",
     "text": [
      "Generating RSA private key, 4096 bit long modulus\n",
      "...........................................................................................................................................................................................................................................++\n",
      ".........................................................................++\n",
      "e is 65537 (0x10001)\n",
      "writing RSA key\n"
     ]
    }
   ],
   "source": [
    "%%bash\n",
    "\n",
    "openssl genrsa -out rsa_key 4096\n",
    "openssl rsa -in rsa_key -pubout -out rsa_key.pub\n",
    "openssl dgst -sign rsa_key -keyform PEM -out signature input.jpg\n",
    "openssl dgst -hex -verify rsa_key.pub -keyform PEM -signature signature input.jpg"
   ]
  },
  {
   "cell_type": "code",
   "execution_count": null,
   "metadata": {},
   "outputs": [],
   "source": []
  }
 ],
 "metadata": {
  "celltoolbar": "Slideshow",
  "kernelspec": {
   "display_name": "Python 3",
   "language": "python",
   "name": "python3"
  },
  "language_info": {
   "codemirror_mode": {
    "name": "ipython",
    "version": 3
   },
   "file_extension": ".py",
   "mimetype": "text/x-python",
   "name": "python",
   "nbconvert_exporter": "python",
   "pygments_lexer": "ipython3",
   "version": "3.5.3"
  },
  "livereveal": {
   "footer": "<h3>Bezpieczeństwo systemów komputerowych, 26 lutego 2018, Paweł Bogdan</h3>",
   "theme": "serif"
  }
 },
 "nbformat": 4,
 "nbformat_minor": 2
}
